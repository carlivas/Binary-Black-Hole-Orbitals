{
 "cells": [
  {
   "cell_type": "code",
   "execution_count": 2,
   "metadata": {},
   "outputs": [],
   "source": [
    "%run ./PM_Functions.ipynb"
   ]
  },
  {
   "cell_type": "markdown",
   "metadata": {},
   "source": [
    "Note from Poul:\n",
    "\n",
    "\"Hello - I attach the two papers I mentioned. As for the Post-Minkowskian kinematics, look at eqs. (11)-(16) in my paper with Pierre Vanhove. Start with just $f_1$ of eq. (14). We can always add the higher-order terms once we see how things go.\n",
    "In eq. (11) $p_{\\infty}$ is the initial 3-momentum at infinity. So you can think of\n",
    "\n",
    "$$p_{\\infty}^2 = E_\\mathrm{tot} = p^2 + V_\\mathrm{eff}(r)$$\n",
    "\n",
    "as being a funny kind of Hamiltonian corresponding to a mass $m= 1/2$. Start by displacing the two black holes by impact parameter $b$ apart in transverse direction. In polar coordinates you have\n",
    "\n",
    "$$p_r^2 = p^2 - \\frac{J^2}{r^2} \\qquad \\to \\qquad J = r \\sqrt{p^2 - p_r^2}$$\n",
    "\n",
    "where $J = bp_{\\infty}$ is the conserved angular momentum (it is also $p_{\\phi}$ as you recall from your Analytical Mechanics course).\n",
    "Does it make sense?\n",
    "\n",
    "Poul\"\n"
   ]
  },
  {
   "cell_type": "markdown",
   "metadata": {},
   "source": [
    "With only $f_1$ we have\n",
    "\n",
    "$$\\mathcal H(p,q) = p^2 - \\left(\\frac{G_N M} r \\right) 2(2\\gamma^2 -1) \\frac{\\mu^2 M}E$$\n",
    "\n",
    "which leads to\n",
    "\n",
    "$$\\dot p_r = - \\frac{\\partial \\mathcal H}{\\partial q_r} = -\\frac{\\partial \\mathcal H}{\\partial r} = - \\left( \\frac{G_N M}{r^2} \\right) 2(2\\gamma^2 - 1) \\frac{\\mu^2 M}E$$\n",
    "\n",
    "$$\\dot p_\\phi = - \\frac{\\partial \\mathcal H}{\\partial q_\\phi} = -\\frac{\\partial \\mathcal H}{\\partial \\phi} = 0$$\n",
    "\n",
    "and because $p = \\sqrt{p_r^2 + p_\\phi^2/r^2}$ we have $\\partial/ \\partial p_r (p^2) = 2 p_r $ and similarly $\\partial/ \\partial p_\\phi (p^2) = 2 p_\\phi/r^2$, and thus\n",
    "\n",
    "$$\\dot q_r = \\frac{\\partial \\mathcal H}{\\partial p_r} = 2 p_r$$\n",
    "\n",
    "$$\\dot q_\\phi = \\frac{\\partial \\mathcal H}{\\partial p_\\phi} = 2 \\frac{p_\\phi}{r^2}$$\n",
    "\n",
    "Now \n",
    "\n",
    "$$ \\ddot q_r = 2 \\dot p_r = - \\left( \\frac{G_N M}{r^2} \\right) 4 (2 \\gamma^2 - 1) \\frac{\\mu^2 M}{E} = \\ddot r$$\n",
    "\n",
    "$$\\ddot q_\\phi = 2 \\left(\\frac{\\dot p_\\phi}{r^2} - 2 \\frac{p_\\phi}{r^3} \\dot r \\right) = - 4 \\frac{p_\\phi}{r^3} \\dot r = - 4 \\frac{b p_\\infty}{r^3} \\dot r = \\ddot \\phi.$$"
   ]
  },
  {
   "cell_type": "code",
   "execution_count": 122,
   "metadata": {},
   "outputs": [],
   "source": [
    "import numpy as np\n",
    "import matplotlib.pyplot as plt\n",
    "from astropy import constants as const\n",
    "from astropy import units as u\n",
    "\n",
    "# c = const.c.value\n",
    "# G_N = const.G.value\n",
    "# M_sun = const.M_sun.value\n",
    "# M_earth = const.M_earth.value\n",
    "\n",
    "c = 1\n",
    "G_N = 1\n",
    "M_sun = const.M_sun.value\n",
    "M_earth = const.M_earth.value\n",
    "\n",
    "def findCM(x_1, x_2, m_1, m_2):\n",
    "    M = m_1 + m_2\n",
    "    r_cm = (m_1*x_1 + m_2*x_2)/M\n",
    "    return r_cm\n",
    "\n",
    "def parameters(s):\n",
    "    x_1, x_2, v_1, v_2, m_1, m_2 = s\n",
    "    r_vec = x_1 - x_2\n",
    "    v_vec = v_1 - v_2\n",
    "    r = np.linalg.norm(r_vec)\n",
    "    v = np.linalg.norm(v_vec)\n",
    "    M = m_1 + m_2\n",
    "    μ = m_1*m_2/M\n",
    "    ν = μ/M\n",
    "\n",
    "    γ = 1/np.sqrt(1 - v**2)\n",
    "    E_eff = μ*γ\n",
    "    E = M*np.sqrt(1 + 2*ν*(E_eff/μ - 1))\n",
    "\n",
    "    b = np.cross(r_vec, v_vec)/v\n",
    "    p_inf = np.sqrt((E**2 - (m_1 + m_2)**2)*(E**2 - (m_1 - m_2)**2)/(4*E**2))\n",
    "    J = b*p_inf\n",
    "    return J, E, γ, b, p_inf, E_eff\n",
    "\n",
    "# def TBtoEOB(x_1, x_2, v_1, v_2):\n",
    "#     r_vec = x_1 - x_2\n",
    "#     v_vec = v_1 - v_2\n",
    "#     r = r_vec[0]\n",
    "#     v = v_vec[0]\n",
    "#     # r = np.linalg.norm(r_vec)\n",
    "#     # v = np.linalg.norm(v_vec)\n",
    "#     return r_vec, r, v_vec, v\n",
    "\n",
    "def accPM(pos, vel, x_cm, v_cm, m_1, m_2, J, E, γ):\n",
    "    M = m_1 + m_2\n",
    "    μ = m_1*m_2/M\n",
    "    \n",
    "    r_vec = pos - x_cm\n",
    "    v_vec = vel - v_cm\n",
    "    r = np.linalg.norm(r_vec)\n",
    "    v = np.linalg.norm(v_vec)\n",
    "\n",
    "    x, y = r_vec[0], r_vec[1]\n",
    "    vx, vy = v_vec[0], v_vec[1]\n",
    "\n",
    "    # a_r = - (G_N*M/r**2)*8*(2*γ**2 - 1)*μ**2*M/E\n",
    "    # a_φ = -8*J/r**3*v\n",
    "\n",
    "    a_x = x/r**2*( G_N*M**2*μ**2/(r*E) * 4*(2*γ**2 - 1) + v**2 - vx**2 - vy**2  -  1/r**2*(y*vy - vx/x*y**2 + 4*J*(y*vx + vy/x*y**2)))\n",
    "    a_y = y/r**2*(-G_N*M**2*μ**2/(r*E) * 4*(2*γ**2 - 1) + v**2 - vx**2 - vy**2  -  1/r**2*(x*vx - vy/y*x**2 - 4*J*(x*vy + vx/y*x**2)))\n",
    "\n",
    "    a_vec = np.array([a_x, a_y])\n",
    "    return a_vec\n",
    "\n",
    "def boostPM(v_vec, a_vec, dt):\n",
    "    v_vec += a_vec*dt\n",
    "    return v_vec\n",
    "\n",
    "def movePM(r_vec, v_vec, dt):\n",
    "    r_vec += v_vec*dt\n",
    "    return r_vec\n",
    "\n",
    "# def EOBtoTB(r_vec, v_vec, m_1, m_2):\n",
    "#     M = m_1 + m_2\n",
    "#     x_1 = m_2/M*r_vec\n",
    "#     x_2 = m_1/M*r_vec\n",
    "#     v_1 = m_2/M*v_vec\n",
    "#     v_2 = m_1/M*v_vec\n",
    "#     return np.array([x_1, x_2]), np.array([v_1, v_2])"
   ]
  },
  {
   "cell_type": "code",
   "execution_count": 126,
   "metadata": {},
   "outputs": [
    {
     "data": {
      "text/plain": [
       "[<matplotlib.lines.Line2D at 0x1dc4e7e1730>]"
      ]
     },
     "execution_count": 126,
     "metadata": {},
     "output_type": "execute_result"
    },
    {
     "data": {
      "image/png": "[encoded data removed]",
      "text/plain": [
       "<Figure size 432x288 with 1 Axes>"
      ]
     },
     "metadata": {
      "needs_background": "light"
     },
     "output_type": "display_data"
    }
   ],
   "source": [
    "m_1 = 10\n",
    "m_2 = 10\n",
    "R_S = 2*(m_1 + m_2)*G_N/c**2\n",
    "x_1 = np.array([-100., -1.])\n",
    "x_2 = np.array([0.01,   0.01])\n",
    "v_1 = np.array([0.1,    0.01])\n",
    "v_2 = np.array([0.01,   0.01])\n",
    "s = x_1, x_2, v_1, v_2, m_1, m_2\n",
    "\n",
    "x_cm = findCM(x_1, x_2, m_1, m_2)\n",
    "v_cm = findCM(v_1, v_2, m_1, m_2)\n",
    "J, E, γ, b, p_inf, E_eff = parameters(s)\n",
    "\n",
    "t_max = 1e2\n",
    "dt = t_max/1e4\n",
    "\n",
    "pos1 = np.zeros((2, int(t_max/dt)))\n",
    "pos2 = np.zeros((2, int(t_max/dt)))\n",
    "pos_CM = np.zeros((2, int(t_max/dt)))\n",
    "\n",
    "for i in range(int(t_max/dt)):\n",
    "    x_cm = findCM(x_1, x_2, m_1, m_2)\n",
    "    v_cm = findCM(v_1, v_2, m_1, m_2)\n",
    "\n",
    "    pos1[:,i] = x_1\n",
    "    pos2[:,i] = x_2\n",
    "    pos_CM[:,i] = x_cm\n",
    "\n",
    "    a_1, a_2 = accPM(x_1, v_1, x_cm, v_cm, m_1, m_2, J, E, γ), accPM(x_2, v_2, x_cm, v_cm, m_1, m_2, J, E, γ)\n",
    "    v_1, v_2 = boostPM(v_1, a_1, dt), boostPM(v_2, a_2, dt)\n",
    "    x_1, x_2 = movePM(x_1, v_1, dt), movePM(x_2, v_2, dt)\n",
    "\n",
    "\n",
    "pos1 = pos1 - pos_CM\n",
    "pos2 = pos2 - pos_CM\n",
    "pos_CM = np.zeros((2, int(t_max/dt)))\n",
    "    \n",
    "plt.plot(pos1[0], pos1[1])\n",
    "plt.plot(pos1[0][0], pos1[1][0], 'go', label = 'start1')\n",
    "plt.plot(pos2[0], pos2[1])\n",
    "plt.plot(pos2[0][0], pos2[1][0], 'yo', label = 'start2')\n"
   ]
  },
  {
   "cell_type": "markdown",
   "metadata": {},
   "source": [
    "\n",
    "___\n",
    "From PHD & Pierre Vanhove:\n",
    "\n",
    "$$p^2 = p_\\infty^2 - V_\\mathrm{eff}(r, E),$$\n",
    "\n",
    "where, in $D = 4$ dimensions,\n",
    "\n",
    "$$V_\\mathrm{eff}(r, E) = - \\sum_{n=1}^\\infty f_n \\left( \\frac{G_N M} r \\right)^n $$\n",
    "\n",
    "where $M = m_1 + m_2$ and the coefficients $f_i$ for $n=1,2,3$ are given by\n",
    "\n",
    "$$f_1 = 2 \\left(2 \\gamma^2 - 1 \\right) \\frac{\\mu^2 M} E, \\qquad f_2 = \\frac{3 \\left(5 \\gamma^2 - 1 \\right)}{2} \\frac{\\mu^2 M} E \\qquad \\text{and}$$\n",
    "\\begin{align*}\n",
    "f_3 &= - \\mu^2 \\left(- \\frac 3 2 \\frac{\\left(2 \\gamma^2 - 1 \\right)\\left(5 \\gamma^2 - 1 \\right)}{\\gamma^2 - 1} + 2 \\frac{12 \\gamma^4 - 10\\gamma^2 + 1}{\\gamma^2 -1} \\frac{E}{M}\\right)\\\\\n",
    "& \\quad -\\frac 2 3 \\frac{\\mu^2 \\nu M}{E} \\left(2 \\gamma (14 \\gamma^2 + 25) - \\frac{(1 - 2\\gamma^2)^2}{(\\gamma^2 - 1)^2} (8 - 5 \\gamma^2) \\sqrt{\\gamma^2 - 1} + \\left(\\frac{6 (4 \\gamma^4 - 12 \\gamma^2 - 3)}{ \\sqrt{\\gamma^2 -1 }} - \\frac{(6 \\gamma^3 - 9 \\gamma) (1 - 2 \\gamma^2)^2 }{(\\gamma^2 - 1)^2} \\right) \\mathrm{arccosh}(\\gamma) \\right)\n",
    "\\end{align*}\n",
    "with $\\nu = \\mu/M = m_1 m_2 / (m_1 + m_2)^2$ and $E = M \\sqrt{1 + 2 \\nu (\\gamma - 1)}$\n",
    "\n",
    "This all means that\n",
    "\n",
    "\\begin{align*}\n",
    "p^2 = p_\\infty^2 &- \\left( \\frac{G_N M}{r} \\right) 2 \\left(2 \\gamma^2 - 1 \\right) \\frac{\\mu^2 M} E\\\\\n",
    "    & - \\left( \\frac{G_N M}{r} \\right)^2 \\frac{3 \\left(5 \\gamma^2 - 1 \\right)}{2} \\frac{\\mu^2 M} E\\\\\n",
    "    & + \\left( \\frac{G_N M}{r} \\right)^3 \\Bigg\\{\\mu^2 \\left(- \\frac 3 2 \\frac{\\left(2 \\gamma^2 - 1 \\right)\\left(5 \\gamma^2 - 1 \\right)}{\\gamma^2 - 1} + 2 \\frac{12 \\gamma^4 - 10\\gamma^2 + 1}{\\gamma^2 -1} \\frac{E}{M}\\right)\\\\\n",
    "    & \\qquad + \\frac 2 3 \\frac{\\mu^2 \\nu M}{E} \\left(2 \\gamma (14 \\gamma^2 + 25) - \\frac{(1 - 2\\gamma^2)^2}{(\\gamma^2 - 1)^2} (8 - 5 \\gamma^2) \\sqrt{\\gamma^2 - 1} + \\left(\\frac{6 (4 \\gamma^4 - 12 \\gamma^2 - 3)}{ \\sqrt{\\gamma^2 -1 }} - \\frac{(6 \\gamma^3 - 9 \\gamma) (1 - 2 \\gamma^2)^2 }{(\\gamma^2 - 1)^2} \\right) \\mathrm{arccosh}(\\gamma) \\right)\\Bigg\\}\n",
    "\\end{align*}\n",
    "\n",
    "which in code will be"
   ]
  },
  {
   "cell_type": "code",
   "execution_count": 42,
   "metadata": {},
   "outputs": [],
   "source": [
    "# G = const.G.value\n",
    "\n",
    "# def findγ(v_1, v_2):\n",
    "#     v = np.linalg.norm(v_1 - v_2)\n",
    "#     γ = 1/np.sqrt(1 - v**2)\n",
    "#     return γ\n",
    "\n",
    "# def findpCM(x, p, p_inf, γ, m_1, m_2, order = 1):\n",
    "#     M = m_1 + m_2\n",
    "#     μ = (m_1 + m_2)/M\n",
    "#     ν = μ/M\n",
    "#     E = M*np.sqrt(1 + 2*ν*(γ - 1))\n",
    "#     r = x\n",
    "\n",
    "#     if order == 1:\n",
    "#         f_1 = 2*(2*γ - 1)*μ**2*M/E\n",
    "#         f_2 = 0\n",
    "#         f_3 = 0\n",
    "#     elif order == 2:\n",
    "#         f_1 = 2*(2*γ - 1)*μ**2*M/E\n",
    "#         f_2 = 3*(5*γ**2 - 1)/2*μ**2*M/E\n",
    "#         f_3 = 0\n",
    "#     elif order == 3:\n",
    "#         f_1 = 2*(2*γ - 1)*μ**2*M/E\n",
    "#         f_2 = 3*(5*γ**2 - 1)/2*μ**2*M/E\n",
    "#         f_3 = (μ**2*(-3/2*(2*γ**2 -1)*(5*γ**2 - 1)/(γ**2 - 1)  +  2*(12*γ**4 - 10*γ**2 + 1)/(γ**2 - 1)*E/M)  +  2/3*μ**2*ν*M/E*(2*γ*(14*γ**2 + 25)  -  (1 - 2*γ**2)**2/(γ**2 - 1)**2*(8 - 5*γ**2)*np.sqrt(γ**2 - 1)  +  (6*(4*γ**4 - 12*γ**2 -3)/np.sqrt(γ**2 - 1)  -  (6*γ**3 - 9*γ)*(1 - 2*γ**2)**2/(γ**2 - 1)**2)*np.arccosh(γ)))\n",
    "\n",
    "#     p2 = p_inf**2  +  (G*M/r)*f_1  +  (G*M/r)**2*f_2   -   (G*M/r)**3*f_3\n",
    "#     p = np.sqrt(p2)\n",
    "#     return p\n",
    "\n",
    "# def findxCM(x, p, γ, m_1, m_2, dt):\n",
    "#     x += p*dt\n",
    "#     return x"
   ]
  },
  {
   "cell_type": "code",
   "execution_count": 25,
   "metadata": {},
   "outputs": [
    {
     "name": "stderr",
     "output_type": "stream",
     "text": [
      "C:\\Users\\Productivity\\AppData\\Local\\Temp\\ipykernel_30672\\1508174330.py:15: RuntimeWarning: invalid value encountered in sqrt\n",
      "  p2 = p_inf**2  -  (G*M/r)*2*(2*γ - 1)*μ**2*M/E  -  (G*M/r)**2*3*(5*γ**2 - 1)/2*μ**2*M/E   +   (G*M/r)**3*(μ**2*(-3/2*(2*γ**2 -1)*(5*γ**2 - 1)/(γ**2 - 1)  +  2*(12*γ**4 - 10*γ**2 + 1)/(γ**2 - 1)*E/M)  +  2/3*μ**2*ν*M/E*(2*γ*(14*γ**2 + 25)  -  (1 - 2*γ**2)**2/(γ**2 - 1)**2*(8 - 5*γ**2)*np.sqrt(γ**2 - 1)  +  (6*(4*γ**4 - 12*γ**2 -3)/np.sqrt(γ**2 - 1)  -  (6*γ**3 - 9*γ)*(1 - 2*γ**2)**2/(γ**2 - 1)**2)*np.arccosh(γ)))\n",
      "C:\\Users\\Productivity\\AppData\\Local\\Temp\\ipykernel_30672\\1508174330.py:15: RuntimeWarning: invalid value encountered in arccosh\n",
      "  p2 = p_inf**2  -  (G*M/r)*2*(2*γ - 1)*μ**2*M/E  -  (G*M/r)**2*3*(5*γ**2 - 1)/2*μ**2*M/E   +   (G*M/r)**3*(μ**2*(-3/2*(2*γ**2 -1)*(5*γ**2 - 1)/(γ**2 - 1)  +  2*(12*γ**4 - 10*γ**2 + 1)/(γ**2 - 1)*E/M)  +  2/3*μ**2*ν*M/E*(2*γ*(14*γ**2 + 25)  -  (1 - 2*γ**2)**2/(γ**2 - 1)**2*(8 - 5*γ**2)*np.sqrt(γ**2 - 1)  +  (6*(4*γ**4 - 12*γ**2 -3)/np.sqrt(γ**2 - 1)  -  (6*γ**3 - 9*γ)*(1 - 2*γ**2)**2/(γ**2 - 1)**2)*np.arccosh(γ)))\n"
     ]
    },
    {
     "data": {
      "text/plain": [
       "[<matplotlib.lines.Line2D at 0x249024bffa0>]"
      ]
     },
     "execution_count": 25,
     "metadata": {},
     "output_type": "execute_result"
    },
    {
     "data": {
      "image/png": "[encoded data removed]",
      "text/plain": [
       "<Figure size 432x288 with 1 Axes>"
      ]
     },
     "metadata": {
      "needs_background": "light"
     },
     "output_type": "display_data"
    }
   ],
   "source": [
    "m_1 = 1e-9*M_sun\n",
    "m_2 = M_sun\n",
    "\n",
    "R_S = 2*(m_1 + m_2)*G/c**2\n",
    "\n",
    "x_1 = np.array([1000, 0.])*R_S\n",
    "x_2 = np.array([0.,   0.])*R_S\n",
    "p_1 = np.array([0., 0.01])\n",
    "p_2 = np.array([0., 0.01])\n",
    "\n",
    "s = x_1, x_2, p_1, p_2, m_1, m_2\n",
    "\n",
    "t_max = 10000\n",
    "dt = 100\n",
    "\n",
    "x = x_1 - x_2\n",
    "p_inf = np.linalg.norm(p_1 - p_2) \n",
    "\n",
    "pos1 = np.zeros((2, int(t_max/dt)))\n",
    "pos2 = np.zeros((2, int(t_max/dt)))\n",
    "pos_CM = np.zeros((2, int(t_max/dt)))\n",
    "\n",
    "for i in range(int(t_max/dt)):\n",
    "    pos1[:,i] = x\n",
    "    p = findpCM(x, p, γ, p_inf, m_1, m_2)\n",
    "    x = findxCM(x, p, dt)\n",
    "\n",
    "plt.plot(pos1[0], pos1[1])\n"
   ]
  },
  {
   "cell_type": "code",
   "execution_count": null,
   "metadata": {},
   "outputs": [],
   "source": []
  }
 ],
 "metadata": {
  "interpreter": {
   "hash": "ae4ce7cb7bfb7d2cfaf4129cf150182a1e5ac3ebe708cb00e3cc111dd7207a44"
  },
  "kernelspec": {
   "display_name": "Python 3.9.7 64-bit",
   "language": "python",
   "name": "python3"
  },
  "language_info": {
   "codemirror_mode": {
    "name": "ipython",
    "version": 3
   },
   "file_extension": ".py",
   "mimetype": "text/x-python",
   "name": "python",
   "nbconvert_exporter": "python",
   "pygments_lexer": "ipython3",
   "version": "3.9.7"
  },
  "orig_nbformat": 4
 },
 "nbformat": 4,
 "nbformat_minor": 2
}
