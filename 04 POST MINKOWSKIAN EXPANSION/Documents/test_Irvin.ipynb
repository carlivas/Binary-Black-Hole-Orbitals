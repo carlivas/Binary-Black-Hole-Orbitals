{
 "cells": [
  {
   "cell_type": "code",
   "execution_count": 1,
   "metadata": {},
   "outputs": [],
   "source": [
    "%run ./Functions_PM_Irvin2.ipynb\n",
    "\n",
    "m_1 = b1_mass = M_sun\n",
    "m_2 = b2_mass = M_sun\n",
    "\n",
    "R_S = 2*(b1_mass + b2_mass)*G/c**2\n",
    "\n",
    "mass_bin = b1_mass + b2_mass\n",
    "SMA_bin = 100*R_S\n",
    "v_redmass = np.sqrt(G*mass_bin/SMA_bin)\n",
    "x_1 = CB_b1_posxyz_binCM  = np.array([ (b2_mass/mass_bin)*SMA_bin,  0])\n",
    "x_2 = CB_b2_posxyz_binCM  = np.array([-(b1_mass/mass_bin)*SMA_bin,  0])\n",
    "v_1 = CB_b1_velxyz_binCM  = np.array([0, (b2_mass/mass_bin)*v_redmass])\n",
    "v_2 = CB_b2_velxyz_binCM  = np.array([0,-(b1_mass/mass_bin)*v_redmass])"
   ]
  },
  {
   "cell_type": "code",
   "execution_count": 2,
   "metadata": {},
   "outputs": [
    {
     "data": {
      "text/plain": [
       "(array([295325.00761003,      0.        ]),\n",
       " array([       0.        , 10599264.00001916]))"
      ]
     },
     "execution_count": 2,
     "metadata": {},
     "output_type": "execute_result"
    }
   ],
   "source": [
    "x_1, v_1"
   ]
  },
  {
   "cell_type": "code",
   "execution_count": 6,
   "metadata": {},
   "outputs": [],
   "source": [
    "m_1 = 1e-4*M_sun\n",
    "m_2 = M_sun\n",
    "\n",
    "R_S = 2*(m_1 + m_2)*G/c**2\n",
    "\n",
    "x_1 = np.array([1000, 0.])*R_S\n",
    "x_2 = np.array([0.,   0.])*R_S\n",
    "v_1 = np.array([0., 0.01])*c\n",
    "v_2 = np.array([0.,    0])*c\n",
    "s = x_1, x_2, v_1, v_2, m_1, m_2"
   ]
  },
  {
   "cell_type": "code",
   "execution_count": 12,
   "metadata": {},
   "outputs": [],
   "source": [
    "p_1 = m_1*v_1\n",
    "p_2 = m_2*v_2\n",
    "\n",
    "t_max = 2*np.pi*np.sqrt(rel_len(x_1, x_2)**3/(G*(m_1 + m_2)))*1e3\n",
    "res = 1e5\n",
    "dt = t_max/res\n",
    "\n",
    "pos1 = np.zeros((2, int(t_max/dt)))\n",
    "pos2 = np.zeros((2, int(t_max/dt)))\n",
    "vel1 = np.zeros((2, int(t_max/dt)))\n",
    "vel2 = np.zeros((2, int(t_max/dt)))\n",
    "acc1 = np.zeros((2, int(t_max/dt)))\n",
    "acc2 = np.zeros((2, int(t_max/dt)))\n",
    "\n",
    "for i in range(int(t_max/dt)):\n",
    "    pos1[:,i] = x_1\n",
    "    pos2[:,i] = x_2\n",
    "\n",
    "    v_1, v_2, a_1, a_2 = accelerationPM(x_1, x_2, p_1, p_2, m_1, m_2, DL=True)\n",
    "\n",
    "    vel1[:,i] = v_1\n",
    "    vel2[:,i] = v_2\n",
    "    acc1[:,i] = a_1\n",
    "    acc2[:,i] = a_2\n",
    "    x_1, x_2 = move(x_1, x_2, v_1, v_2, dt)\n",
    "    v_1, v_2 = boost(v_1, v_2, a_1, a_2, dt)\n",
    "    "
   ]
  },
  {
   "cell_type": "code",
   "execution_count": 13,
   "metadata": {},
   "outputs": [
    {
     "data": {
      "text/plain": [
       "[<matplotlib.lines.Line2D at 0x197f7c42a00>]"
      ]
     },
     "execution_count": 13,
     "metadata": {},
     "output_type": "execute_result"
    },
    {
     "data": {
      "image/png": "[encoded data removed]",
      "text/plain": [
       "<Figure size 432x288 with 1 Axes>"
      ]
     },
     "metadata": {
      "needs_background": "light"
     },
     "output_type": "display_data"
    }
   ],
   "source": [
    "plt.plot(pos1[0], pos1[1])\n",
    "plt.plot(pos1[0][0], pos1[1][0], 'bx')\n",
    "plt.plot(pos2[0], pos2[1])\n",
    "plt.plot(pos2[0][0], pos2[1][0], 'rx')"
   ]
  },
  {
   "cell_type": "code",
   "execution_count": 5,
   "metadata": {},
   "outputs": [
    {
     "data": {
      "text/plain": [
       "(array([[ 2.95325008e+05,  2.95325008e+05,  2.95325008e+05, ...,\n",
       "          2.95325008e+05,  2.95325008e+05,  2.95325008e+05],\n",
       "        [ 0.00000000e+00,  1.75067038e-02, -1.06018885e+01, ...,\n",
       "         -5.75108569e+07, -5.75021858e+07, -5.74935120e+07]]),\n",
       " array([[0., 0., 0., ..., 0., 0., 0.],\n",
       "        [1., 1., 1., ..., 1., 1., 1.]]),\n",
       " array([[-1.81943478e-14, -1.81943478e-14, -1.81943478e-14, ...,\n",
       "         -2.46360154e-21, -2.46471618e-21, -2.46583184e-21],\n",
       "        [-0.00000000e+00, -3.47061459e+04,  2.10177023e+07, ...,\n",
       "          2.82921578e+07,  2.83006808e+07,  2.83092103e+07]]))"
      ]
     },
     "execution_count": 5,
     "metadata": {},
     "output_type": "execute_result"
    }
   ],
   "source": [
    "pos1, vel1, acc1"
   ]
  },
  {
   "cell_type": "code",
   "execution_count": null,
   "metadata": {},
   "outputs": [],
   "source": []
  }
 ],
 "metadata": {
  "interpreter": {
   "hash": "2f44e314e6deab7e71bdc9e7e9d0cce8baaeffc7fc0f298c6c078c1c52c26140"
  },
  "kernelspec": {
   "display_name": "Python 3.9.7 64-bit",
   "language": "python",
   "name": "python3"
  },
  "language_info": {
   "codemirror_mode": {
    "name": "ipython",
    "version": 3
   },
   "file_extension": ".py",
   "mimetype": "text/x-python",
   "name": "python",
   "nbconvert_exporter": "python",
   "pygments_lexer": "ipython3",
   "version": "3.9.7"
  },
  "orig_nbformat": 4
 },
 "nbformat": 4,
 "nbformat_minor": 2
}
