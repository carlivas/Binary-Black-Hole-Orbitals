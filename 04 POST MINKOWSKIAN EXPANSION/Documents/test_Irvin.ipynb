{
 "cells": [
  {
   "cell_type": "code",
   "execution_count": 23,
   "metadata": {},
   "outputs": [],
   "source": [
    "%run ./Functions_PM_Irvin2.ipynb\n",
    "\n",
    "m_1 = b1_mass = M_sun\n",
    "m_2 = b2_mass = M_sun\n",
    "\n",
    "R_S = 2*(b1_mass + b2_mass)*G/c**2\n",
    "\n",
    "mass_bin = b1_mass + b2_mass\n",
    "SMA_bin = 100*R_S\n",
    "v_redmass = np.sqrt(G*mass_bin/SMA_bin)\n",
    "x_1 = CB_b1_posxyz_binCM  = np.array([ (b2_mass/mass_bin)*SMA_bin,  0])\n",
    "x_2 = CB_b2_posxyz_binCM  = np.array([-(b1_mass/mass_bin)*SMA_bin,  0])\n",
    "v_1 = CB_b1_velxyz_binCM  = np.array([0, (b2_mass/mass_bin)*v_redmass])\n",
    "v_2 = CB_b2_velxyz_binCM  = np.array([0,-(b1_mass/mass_bin)*v_redmass])"
   ]
  },
  {
   "cell_type": "code",
   "execution_count": 24,
   "metadata": {},
   "outputs": [],
   "source": [
    "t_max = 2*np.pi*np.sqrt(rel_len(x_1, x_2)**3/(G*(m_1 + m_2)))*1e3\n",
    "res = 1e4\n",
    "dt = t_max/res\n",
    "\n",
    "pos1 = np.zeros((2, int(t_max/dt)))\n",
    "pos2 = np.zeros((2, int(t_max/dt)))\n",
    "vel1 = np.zeros((2, int(t_max/dt)))\n",
    "vel2 = np.zeros((2, int(t_max/dt)))\n",
    "acc1 = np.zeros((2, int(t_max/dt)))\n",
    "acc2 = np.zeros((2, int(t_max/dt)))\n",
    "\n",
    "for i in range(int(t_max/dt)):\n",
    "    pos1[:,i] = x_1\n",
    "    pos2[:,i] = x_2\n",
    "    vel1[:,i] = v_1\n",
    "    vel2[:,i] = v_2\n",
    "\n",
    "    a_1, a_2 = accelerationPM(x_1, x_2, v_1, v_2, m_1, m_2, DL=False)\n",
    "\n",
    "    acc1[:,i] = a_1\n",
    "    acc2[:,i] = a_2\n",
    "\n",
    "    v_1, v_2 = boost(v_1, v_2, a_1, a_2, dt)\n",
    "    x_1, x_2 = move(x_1, x_2, v_1, v_2, dt)\n",
    "    "
   ]
  },
  {
   "cell_type": "code",
   "execution_count": 25,
   "metadata": {},
   "outputs": [
    {
     "data": {
      "text/plain": [
       "[<matplotlib.lines.Line2D at 0x7ff63b491040>]"
      ]
     },
     "execution_count": 25,
     "metadata": {},
     "output_type": "execute_result"
    },
    {
     "data": {
      "image/png": "[encoded data removed]",
      "text/plain": [
       "<Figure size 432x288 with 1 Axes>"
      ]
     },
     "metadata": {
      "needs_background": "light"
     },
     "output_type": "display_data"
    }
   ],
   "source": [
    "plt.plot(pos1[0], pos1[1])\n",
    "plt.plot(pos2[0], pos2[1])"
   ]
  },
  {
   "cell_type": "code",
   "execution_count": 8,
   "metadata": {},
   "outputs": [
    {
     "data": {
      "text/plain": [
       "(array([[2.95325008e+05, 2.95325008e+05, 2.95325008e+05, ...,\n",
       "         2.95325008e+05, 2.95325008e+05, 2.95325008e+05],\n",
       "        [3.47586229e+00, 3.47603735e+00, 3.47621240e+00, ...,\n",
       "         4.92576810e+00, 4.92589189e+00, 4.92601569e+00]]),\n",
       " array([[-3.18523057e-16, -3.18523057e-16, -3.18523057e-16, ...,\n",
       "         -3.18523057e-16, -3.18523057e-16, -3.18523057e-16],\n",
       "        [ 9.99950004e-03,  9.99900015e-03,  9.99850034e-03, ...,\n",
       "          7.07142139e-03,  7.07124460e-03,  7.07106781e-03]]),\n",
       " array([[-1.44185141e-42, -1.44185138e-42, -1.44185135e-42, ...,\n",
       "         -1.44170726e-42, -1.44170725e-42, -1.44170725e-42],\n",
       "        [-8.54507927e-50, -8.54507931e-50, -8.54507936e-50, ...,\n",
       "         -8.54529285e-50, -8.54529286e-50, -8.54529287e-50]]))"
      ]
     },
     "execution_count": 8,
     "metadata": {},
     "output_type": "execute_result"
    }
   ],
   "source": [
    "pos1, vel1, acc1"
   ]
  },
  {
   "cell_type": "code",
   "execution_count": null,
   "metadata": {},
   "outputs": [],
   "source": []
  },
  {
   "cell_type": "code",
   "execution_count": null,
   "metadata": {},
   "outputs": [],
   "source": []
  }
 ],
 "metadata": {
  "interpreter": {
   "hash": "9338cd5af4bc6d3c14ff7a6ce3afd855cbcd1d70444c4e040559c03ace283bd5"
  },
  "kernelspec": {
   "display_name": "Python 3.9.7 ('base')",
   "language": "python",
   "name": "python3"
  },
  "language_info": {
   "codemirror_mode": {
    "name": "ipython",
    "version": 3
   },
   "file_extension": ".py",
   "mimetype": "text/x-python",
   "name": "python",
   "nbconvert_exporter": "python",
   "pygments_lexer": "ipython3",
   "version": "3.9.7"
  },
  "orig_nbformat": 4
 },
 "nbformat": 4,
 "nbformat_minor": 2
}
