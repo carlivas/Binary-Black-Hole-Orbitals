{
 "cells": [
  {
   "cell_type": "code",
   "execution_count": null,
   "metadata": {},
   "outputs": [],
   "source": [
    "%run ./Functions_PM.ipynb\n",
    "\n",
    "c = const.c.value\n",
    "G = const.G.value\n",
    "M_sun = const.M_sun.value\n",
    "M_earth = const.M_earth.value\n",
    "\n",
    "m_1 = M_sun*1e-9\n",
    "m_2 = M_sun\n",
    "R_S = 2*(m_1 + m_2)*G/c**2\n",
    "x_1 = np.array([-152.100e9, 0])\n",
    "x_2 = np.array([0.,         0])\n",
    "v_1 = rotate(np.array([0.,   29.29e3]), - np.pi/4)\n",
    "v_2 = np.array([0.,         0])\n",
    "\n",
    "s = x_1, x_2, v_1, v_2, m_1, m_2\n",
    "\n",
    "t_max = 1e8/2\n",
    "res = 1e4\n",
    "dt = t_max/res\n",
    "\n",
    "positions = run_model(s, t_max = t_max, dt = dt)\n",
    "positionsN = run_modelN(s, t_max = t_max, dt = dt)\n",
    "\n"
   ]
  },
  {
   "cell_type": "code",
   "execution_count": null,
   "metadata": {},
   "outputs": [],
   "source": [
    "\n",
    "M = slice(0, int(res), 1)\n",
    "# orbPlotter(positions, positionsN, slice = M)\n",
    "\n",
    "lim = 1e11\n",
    "lims = (-lim, lim)\n",
    "orbPlotter_lims(positions, positionsN, slice = M, xlim=lims, ylim=lims)\n"
   ]
  },
  {
   "cell_type": "markdown",
   "metadata": {},
   "source": [
    "# Earth-Sun stuffs"
   ]
  },
  {
   "cell_type": "code",
   "execution_count": null,
   "metadata": {},
   "outputs": [],
   "source": [
    "%run ./Functions_PM.ipynb\n",
    "\n",
    "c = const.c.value\n",
    "G = const.G.value\n",
    "M_sun = const.M_sun.value\n",
    "M_earth = const.M_earth.value\n",
    "\n"
   ]
  },
  {
   "cell_type": "code",
   "execution_count": null,
   "metadata": {},
   "outputs": [],
   "source": [
    "for i in range(5):\n",
    "    m_1 = M_earth\n",
    "    m_2 = M_sun\n",
    "\n",
    "    R_S = 2*(m_1 + m_2)*G/c**2\n",
    "\n",
    "    x_1 = np.array([-152.100e9, 0])\n",
    "    x_2 = np.array([0.,         0])\n",
    "    v_1 = rotate(np.array([0.,   29.29e3]), -np.pi*(1+i/7))\n",
    "    v_2 = np.array([0.,         0])\n",
    "\n",
    "    s = x_1, x_2, v_1, v_2, m_1, m_2\n",
    "    t_max = 1e8/2\n",
    "    res = 5e4\n",
    "    dt = t_max/res\n",
    "    positions = run_model(s, t_max = t_max, dt = dt)\n",
    "    positionsN = run_modelN(s, t_max = t_max, dt = dt)\n",
    "    M = slice(0, int(res), 1)\n",
    "    orbPlotter(positions, positionsN, slice = M, filename = f'Sun system {1+i}')\n",
    "\n",
    "\n",
    "# t_max = 1e8/2\n",
    "# dt = t_max/5e4\n",
    "#~5 min STABILIZED\n",
    "\n"
   ]
  },
  {
   "cell_type": "code",
   "execution_count": null,
   "metadata": {},
   "outputs": [],
   "source": []
  },
  {
   "cell_type": "code",
   "execution_count": null,
   "metadata": {},
   "outputs": [],
   "source": []
  }
 ],
 "metadata": {
  "interpreter": {
   "hash": "2f44e314e6deab7e71bdc9e7e9d0cce8baaeffc7fc0f298c6c078c1c52c26140"
  },
  "kernelspec": {
   "display_name": "Python 3.9.7 64-bit",
   "language": "python",
   "name": "python3"
  },
  "language_info": {
   "codemirror_mode": {
    "name": "ipython",
    "version": 3
   },
   "file_extension": ".py",
   "mimetype": "text/x-python",
   "name": "python",
   "nbconvert_exporter": "python",
   "pygments_lexer": "ipython3",
   "version": "3.9.7"
  },
  "orig_nbformat": 4
 },
 "nbformat": 4,
 "nbformat_minor": 2
}
