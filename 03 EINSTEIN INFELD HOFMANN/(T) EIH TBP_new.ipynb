{
 "cells": [
  {
   "cell_type": "markdown",
   "metadata": {},
   "source": [
    "# $(T)\\ Two\\ Body\\ Cases$"
   ]
  },
  {
   "cell_type": "markdown",
   "metadata": {},
   "source": [
    "## TESTBODY LIMIT REGIME $\\quad m_1 \\ll m_2$"
   ]
  },
  {
   "cell_type": "markdown",
   "metadata": {},
   "source": [
    "### TESTBODY LIMIT BOUND"
   ]
  },
  {
   "cell_type": "markdown",
   "metadata": {},
   "source": [
    "EIH α check $\\ \\downarrow$"
   ]
  },
  {
   "cell_type": "code",
   "execution_count": 2,
   "metadata": {},
   "outputs": [
    {
     "name": "stderr",
     "output_type": "stream",
     "text": [
      "/var/folders/js/7m_1fjvx1kb4r60sb806grd80000gn/T/ipykernel_86515/2407193482.py:96: RuntimeWarning: overflow encountered in multiply\n",
      "  a_1 = p_dot_1/E_1 - p_1/E_1**2*E_dot_1 - G*(m_1*m_2)**2/(E_1**2*E_2**2*r)*( r_dot/r*( E_2/E_1*p_1 + E_1*E_2*dc_1dp_1 ) + c_1*( E_dot_2*p_1/E_1 + E_2*( p_dot_1/E_1 - p_1/E_1**2*E_dot_1 ) ) + p_1/E_1*E_2*( c_1_dot - 4*c_1*( E_dot_1*E_2 + E_1*E_dot_2 ) ) - dc_1dp_1_dot*E_1*E_2 + ( E_dot_1*E_2 + E_1*E_dot_2 )*dc_1dp_1 )\n",
      "/var/folders/js/7m_1fjvx1kb4r60sb806grd80000gn/T/ipykernel_86515/2407193482.py:97: RuntimeWarning: overflow encountered in multiply\n",
      "  a_2 = p_dot_2/E_2 - p_2/E_2**2*E_dot_2 - G*(m_1*m_2)**2/(E_1**2*E_2**2*r)*( r_dot/r*( E_1/E_2*p_2 + E_1*E_2*dc_1dp_2 ) + c_1*( E_dot_1*p_2/E_2 + E_1*( p_dot_2/E_2 - p_2/E_2**2*E_dot_2 ) ) + p_2/E_2*E_1*( c_1_dot - 4*c_1*( E_dot_1*E_2 + E_1*E_dot_2 ) ) - dc_1dp_2_dot*E_1*E_2 + ( E_dot_1*E_2 + E_1*E_dot_2 )*dc_1dp_2 )\n",
      "/var/folders/js/7m_1fjvx1kb4r60sb806grd80000gn/T/ipykernel_86515/149429674.py:8: RuntimeWarning: invalid value encountered in add\n",
      "  r_cm = (m_1*x_1 + m_2*x_2)/M\n",
      "/var/folders/js/7m_1fjvx1kb4r60sb806grd80000gn/T/ipykernel_86515/2407193482.py:64: RuntimeWarning: overflow encountered in square\n",
      "  E_2 = np.sqrt((m_2*c**2)**2 + (p_2*c)**2)\n",
      "/var/folders/js/7m_1fjvx1kb4r60sb806grd80000gn/T/ipykernel_86515/2407193482.py:86: RuntimeWarning: invalid value encountered in true_divide\n",
      "  q_dot_1 = p_1/E_1 + G*(m_1*m_2)**2/r*( -(p_1/E_1*E_2)/(E_1*E_2)**2*c_1 + dc_1dp_1/(E_1*E_2) )\n",
      "/var/folders/js/7m_1fjvx1kb4r60sb806grd80000gn/T/ipykernel_86515/2407193482.py:87: RuntimeWarning: invalid value encountered in true_divide\n",
      "  q_dot_2 = p_2/E_2 + G*(m_1*m_2)**2/r*( -(p_2/E_2*E_1)/(E_1*E_2)**2*c_1 + dc_1dp_2/(E_1*E_2) )\n",
      "/var/folders/js/7m_1fjvx1kb4r60sb806grd80000gn/T/ipykernel_86515/2407193482.py:87: RuntimeWarning: invalid value encountered in multiply\n",
      "  q_dot_2 = p_2/E_2 + G*(m_1*m_2)**2/r*( -(p_2/E_2*E_1)/(E_1*E_2)**2*c_1 + dc_1dp_2/(E_1*E_2) )\n",
      "/var/folders/js/7m_1fjvx1kb4r60sb806grd80000gn/T/ipykernel_86515/2407193482.py:91: RuntimeWarning: invalid value encountered in double_scalars\n",
      "  r_dot = (r_vec[0]*(v_1[0] - v_2[0]) + r_vec[1]*(v_1[1] - v_2[1]))/r\n",
      "/var/folders/js/7m_1fjvx1kb4r60sb806grd80000gn/T/ipykernel_86515/2407193482.py:96: RuntimeWarning: invalid value encountered in true_divide\n",
      "  a_1 = p_dot_1/E_1 - p_1/E_1**2*E_dot_1 - G*(m_1*m_2)**2/(E_1**2*E_2**2*r)*( r_dot/r*( E_2/E_1*p_1 + E_1*E_2*dc_1dp_1 ) + c_1*( E_dot_2*p_1/E_1 + E_2*( p_dot_1/E_1 - p_1/E_1**2*E_dot_1 ) ) + p_1/E_1*E_2*( c_1_dot - 4*c_1*( E_dot_1*E_2 + E_1*E_dot_2 ) ) - dc_1dp_1_dot*E_1*E_2 + ( E_dot_1*E_2 + E_1*E_dot_2 )*dc_1dp_1 )\n",
      "/var/folders/js/7m_1fjvx1kb4r60sb806grd80000gn/T/ipykernel_86515/2407193482.py:97: RuntimeWarning: invalid value encountered in true_divide\n",
      "  a_2 = p_dot_2/E_2 - p_2/E_2**2*E_dot_2 - G*(m_1*m_2)**2/(E_1**2*E_2**2*r)*( r_dot/r*( E_1/E_2*p_2 + E_1*E_2*dc_1dp_2 ) + c_1*( E_dot_1*p_2/E_2 + E_1*( p_dot_2/E_2 - p_2/E_2**2*E_dot_2 ) ) + p_2/E_2*E_1*( c_1_dot - 4*c_1*( E_dot_1*E_2 + E_1*E_dot_2 ) ) - dc_1dp_2_dot*E_1*E_2 + ( E_dot_1*E_2 + E_1*E_dot_2 )*dc_1dp_2 )\n",
      "/var/folders/js/7m_1fjvx1kb4r60sb806grd80000gn/T/ipykernel_86515/2407193482.py:97: RuntimeWarning: invalid value encountered in multiply\n",
      "  a_2 = p_dot_2/E_2 - p_2/E_2**2*E_dot_2 - G*(m_1*m_2)**2/(E_1**2*E_2**2*r)*( r_dot/r*( E_1/E_2*p_2 + E_1*E_2*dc_1dp_2 ) + c_1*( E_dot_1*p_2/E_2 + E_1*( p_dot_2/E_2 - p_2/E_2**2*E_dot_2 ) ) + p_2/E_2*E_1*( c_1_dot - 4*c_1*( E_dot_1*E_2 + E_1*E_dot_2 ) ) - dc_1dp_2_dot*E_1*E_2 + ( E_dot_1*E_2 + E_1*E_dot_2 )*dc_1dp_2 )\n"
     ]
    },
    {
     "ename": "KeyboardInterrupt",
     "evalue": "",
     "output_type": "error",
     "traceback": [
      "\u001b[0;31m---------------------------------------------------------------------------\u001b[0m",
      "\u001b[0;31mKeyboardInterrupt\u001b[0m                         Traceback (most recent call last)",
      "\u001b[0;32m/var/folders/js/7m_1fjvx1kb4r60sb806grd80000gn/T/ipykernel_86515/2740978331.py\u001b[0m in \u001b[0;36m<module>\u001b[0;34m\u001b[0m\n\u001b[1;32m     14\u001b[0m \u001b[0mαs\u001b[0m \u001b[0;34m=\u001b[0m \u001b[0;34m[\u001b[0m\u001b[0;36m1\u001b[0m\u001b[0;34m]\u001b[0m\u001b[0;34m\u001b[0m\u001b[0;34m\u001b[0m\u001b[0m\n\u001b[1;32m     15\u001b[0m \u001b[0;32mfor\u001b[0m \u001b[0mi\u001b[0m \u001b[0;32min\u001b[0m \u001b[0mαs\u001b[0m\u001b[0;34m:\u001b[0m\u001b[0;34m\u001b[0m\u001b[0;34m\u001b[0m\u001b[0m\n\u001b[0;32m---> 16\u001b[0;31m     \u001b[0mpos1\u001b[0m\u001b[0;34m,\u001b[0m \u001b[0mpos2\u001b[0m\u001b[0;34m,\u001b[0m \u001b[0mpos_CM\u001b[0m\u001b[0;34m,\u001b[0m \u001b[0mparameters\u001b[0m \u001b[0;34m=\u001b[0m \u001b[0mrun_model\u001b[0m\u001b[0;34m(\u001b[0m\u001b[0ms\u001b[0m\u001b[0;34m,\u001b[0m \u001b[0mt_max\u001b[0m \u001b[0;34m=\u001b[0m \u001b[0;36m2027500\u001b[0m\u001b[0;34m*\u001b[0m\u001b[0mR_S\u001b[0m\u001b[0;34m/\u001b[0m\u001b[0mc\u001b[0m\u001b[0;34m,\u001b[0m \u001b[0mdt\u001b[0m\u001b[0;34m=\u001b[0m\u001b[0;36m20\u001b[0m\u001b[0;34m*\u001b[0m\u001b[0mR_S\u001b[0m\u001b[0;34m/\u001b[0m\u001b[0mc\u001b[0m\u001b[0;34m,\u001b[0m \u001b[0mmode\u001b[0m \u001b[0;34m=\u001b[0m \u001b[0;34m'PM'\u001b[0m\u001b[0;34m,\u001b[0m \u001b[0mα\u001b[0m \u001b[0;34m=\u001b[0m \u001b[0mi\u001b[0m\u001b[0;34m)\u001b[0m\u001b[0;34m\u001b[0m\u001b[0;34m\u001b[0m\u001b[0m\n\u001b[0m\u001b[1;32m     17\u001b[0m     \u001b[0;31m# pos1, pos2, pos_CM, parameters, accs = run_model(s, t_max = 2027500*R_S/c, dt=100*R_S/c, EIH=True)\u001b[0m\u001b[0;34m\u001b[0m\u001b[0;34m\u001b[0m\u001b[0m\n\u001b[1;32m     18\u001b[0m     \u001b[0morbPlotter\u001b[0m\u001b[0;34m(\u001b[0m\u001b[0mpos1\u001b[0m\u001b[0;34m,\u001b[0m \u001b[0mpos2\u001b[0m\u001b[0;34m,\u001b[0m \u001b[0mpos_CM\u001b[0m\u001b[0;34m,\u001b[0m \u001b[0mparameters\u001b[0m\u001b[0;34m,\u001b[0m \u001b[0mCM\u001b[0m\u001b[0;34m=\u001b[0m\u001b[0;32mTrue\u001b[0m\u001b[0;34m,\u001b[0m \u001b[0mfilename\u001b[0m\u001b[0;34m=\u001b[0m\u001b[0;34mf'Old case test (PM) α={i}'\u001b[0m\u001b[0;34m,\u001b[0m \u001b[0mfigsize\u001b[0m\u001b[0;34m=\u001b[0m\u001b[0;34m(\u001b[0m\u001b[0;36m7\u001b[0m\u001b[0;34m,\u001b[0m\u001b[0;36m7\u001b[0m\u001b[0;34m)\u001b[0m\u001b[0;34m,\u001b[0m \u001b[0mshow\u001b[0m\u001b[0;34m=\u001b[0m\u001b[0;32mTrue\u001b[0m\u001b[0;34m)\u001b[0m\u001b[0;34m\u001b[0m\u001b[0;34m\u001b[0m\u001b[0m\n",
      "\u001b[0;32m/var/folders/js/7m_1fjvx1kb4r60sb806grd80000gn/T/ipykernel_86515/2781356362.py\u001b[0m in \u001b[0;36mrun_model\u001b[0;34m(s, t_max, dt, mode, DL, α, β)\u001b[0m\n\u001b[1;32m     32\u001b[0m             \u001b[0ma_1\u001b[0m\u001b[0;34m,\u001b[0m \u001b[0ma_2\u001b[0m \u001b[0;34m=\u001b[0m \u001b[0maccelerationN\u001b[0m\u001b[0;34m(\u001b[0m\u001b[0mx_1\u001b[0m\u001b[0;34m,\u001b[0m \u001b[0mx_2\u001b[0m\u001b[0;34m,\u001b[0m \u001b[0mm_1\u001b[0m\u001b[0;34m,\u001b[0m \u001b[0mm_2\u001b[0m\u001b[0;34m,\u001b[0m \u001b[0mDL\u001b[0m\u001b[0;34m)\u001b[0m\u001b[0;34m\u001b[0m\u001b[0;34m\u001b[0m\u001b[0m\n\u001b[1;32m     33\u001b[0m         \u001b[0;32melif\u001b[0m \u001b[0mmode\u001b[0m \u001b[0;34m==\u001b[0m \u001b[0;34m'PM'\u001b[0m\u001b[0;34m:\u001b[0m\u001b[0;34m\u001b[0m\u001b[0;34m\u001b[0m\u001b[0m\n\u001b[0;32m---> 34\u001b[0;31m             \u001b[0ma_1\u001b[0m\u001b[0;34m,\u001b[0m \u001b[0ma_2\u001b[0m \u001b[0;34m=\u001b[0m \u001b[0maccelerationPM\u001b[0m\u001b[0;34m(\u001b[0m\u001b[0mx_1\u001b[0m\u001b[0;34m,\u001b[0m \u001b[0mx_2\u001b[0m\u001b[0;34m,\u001b[0m \u001b[0mv_1\u001b[0m\u001b[0;34m,\u001b[0m \u001b[0mv_2\u001b[0m\u001b[0;34m,\u001b[0m \u001b[0mm_1\u001b[0m\u001b[0;34m,\u001b[0m \u001b[0mm_2\u001b[0m\u001b[0;34m,\u001b[0m \u001b[0mDL\u001b[0m\u001b[0;34m)\u001b[0m\u001b[0;34m\u001b[0m\u001b[0;34m\u001b[0m\u001b[0m\n\u001b[0m\u001b[1;32m     35\u001b[0m         \u001b[0;32melse\u001b[0m\u001b[0;34m:\u001b[0m\u001b[0;34m\u001b[0m\u001b[0;34m\u001b[0m\u001b[0m\n\u001b[1;32m     36\u001b[0m             \u001b[0mprint\u001b[0m\u001b[0;34m(\u001b[0m\u001b[0;34m'Error'\u001b[0m\u001b[0;34m)\u001b[0m\u001b[0;34m\u001b[0m\u001b[0;34m\u001b[0m\u001b[0m\n",
      "\u001b[0;31mKeyboardInterrupt\u001b[0m: "
     ]
    }
   ],
   "source": [
    "%run ./Functions_EIH.ipynb\n",
    "\n",
    "m_1 = 1e-4*M_sun\n",
    "m_2 = M_sun\n",
    "\n",
    "R_S = 2*(m_1 + m_2)*G/c**2\n",
    "\n",
    "x_1 = np.array([1000, 0.])*R_S\n",
    "x_2 = np.array([0.,   0.])*R_S\n",
    "v_1 = np.array([0., 0.01])*c\n",
    "v_2 = np.array([0.,    0])*c\n",
    "s = x_1, x_2, v_1, v_2, m_1, m_2\n",
    "\n",
    "αs = [1]\n",
    "for i in αs:\n",
    "    pos1, pos2, pos_CM, parameters = run_model(s, t_max = 2027500*R_S/c, dt=20*R_S/c, mode = 'EIH', α = i)\n",
    "    # pos1, pos2, pos_CM, parameters, accs = run_model(s, t_max = 2027500*R_S/c, dt=100*R_S/c, EIH=True)\n",
    "    orbPlotter(pos1, pos2, pos_CM, parameters, CM=True, filename=f'Old case test (EIH) α={i}', figsize=(7,7), show=True)\n",
    "\n",
    "# dt STABILIZED at 20*R_S/c\n",
    "# ~30s"
   ]
  },
  {
   "cell_type": "markdown",
   "metadata": {},
   "source": [
    "## Checking whether EIH reduces to N\n",
    "We check by checking whether the parameters of the ellipse of the first round trip in the EIH case mathces the ellipse of the N case.\n",
    "\n",
    "It should be said that throughout this we assume the following:\n",
    "1. The motion of the first round trip is an ellipse in both cases.\n",
    "2. That the line going through the points $(x_1, max(y))$ and $(x_2, min(y))$ is perfectly vertical (that is $x_1 = x_2$).\n",
    "3. That the line going through the points $(max(x), y_1)$ and $(min(x), y_2)$ is perfectly horizontal (that is $y_1 = y_2$).\n",
    "\n",
    "We check the semi-major and -minor axis $a$ and $b$ by finding the distances between the points mentioned above\n",
    "\n",
    "$$a = \\frac{|| (x_1, \\max(y)) - (x_2, \\min(y)) ||}{2},$$\n",
    "\n",
    "and similarly for the semi-minor axis $b$\n",
    "\n",
    "$$b = \\frac{|| (\\max(x), y_1) - (\\min(x), y_2) ||}{2}.$$"
   ]
  },
  {
   "cell_type": "code",
   "execution_count": null,
   "metadata": {},
   "outputs": [],
   "source": [
    "%run ./Functions_EIH.ipynb\n",
    "\n",
    "# CM Bound orbital, faraway starting pos\n",
    "m_1 = 1e-9*M_sun\n",
    "m_2 = M_sun\n",
    "\n",
    "R_S = findR_S(m_1, m_2)\n",
    "\n",
    "x_1 = np.array([-1000, 0])*R_S\n",
    "x_2 = np.array([0,     0])*R_S\n",
    "v_1 = np.array([0,  0.01])*c\n",
    "v_2 = np.array([0,     0])*c\n",
    "\n",
    "s = x_1, x_2, v_1, v_2, m_1, m_2\n",
    "\n",
    "pos1N, pos2N, pos_CMN, parameters = run_model(s, t_max = 115000*R_S/c, dt=1*R_S/c, mode = 'N')\n",
    "parameters[6], parameters[7] = 'X', 'X'\n",
    "orbPlot1 = orbPlotter(pos1N, pos2N, pos_CMN, parameters, filename = 'Ellipse (N)', show = True)\n",
    "\n",
    "# # GR bound orbital, faraway starting pos, one round\n",
    "pos1EIH, pos2EIH, pos_CMEIH, parameters = run_model(s, t_max = 113000*R_S/c, dt=1*R_S/c, mode = 'EIH')\n",
    "parameters[6], parameters[7] = 'X', 'X'\n",
    "orbPlot1 = orbPlotter(pos1EIH, pos2EIH, pos_CMEIH, parameters, filename = 'Ellipse (EIH)', show = True)\n",
    "\n",
    "# Find the dimensions of the ellipse for both cases\n",
    "δxN = np.abs(max(pos1N[0]) - min(pos1N[0]))\n",
    "δyN = np.abs(max(pos1N[1]) - min(pos1N[1]))\n",
    "δxEIH = np.abs(max(pos1EIH[0]) - min(pos1EIH[0]))\n",
    "δyEIH = np.abs(max(pos1EIH[1]) - min(pos1EIH[1]))\n",
    "\n",
    "# Find a & b for N case and normalize wrt. R_S\n",
    "a_N = max(δxN/2, δyN/2)/R_S\n",
    "b_N = min(δxN/2, δyN/2)/R_S\n",
    "\n",
    "# Find a & b for EIH case and normalize wrt. R_S\n",
    "a_EIH = max(δxEIH/2, δyEIH/2)/R_S\n",
    "b_EIH = min(δxEIH/2, δyEIH/2)/R_S\n",
    "\n",
    "# Find how much the differ \n",
    "δa = np.abs(a_N - a_EIH)\n",
    "δb = np.abs(b_N - b_EIH)\n",
    "\n",
    "print(f'δa = {δa:.5f}, δb = {δb:.5f}')\n",
    "\n",
    "# ~15s"
   ]
  },
  {
   "cell_type": "markdown",
   "metadata": {},
   "source": [
    "The results of $\\delta a \\sim 0.5 \\, R_S$ and $\\delta b \\sim 10 \\, R_S$ are tiny compared to the size of the entire ellipse which is of the order $\\sim 1000 \\, R_S$. We suspect that the magnitude of $\\delta b$ compared to $\\delta a$ could be caused by the precession of the orbit in GR."
   ]
  },
  {
   "cell_type": "markdown",
   "metadata": {},
   "source": [
    "## Checking the precession\n",
    "First we find the analytical value for the precession angle. The precession in our units is given by\n",
    "    $$\\Delta \\phi = \\frac{6 \\pi G M}{\\left( 1 - e^2 \\right) a c^2} \\quad \\longrightarrow \\quad \\frac{3 \\pi}{\\left(1 - e^2 \\right) \\tilde a}$$\n",
    "where $e = \\sqrt{1 - b^2/a^2}$ is the eccentricity of the motion. This formula is calculated from the method of Post-Newtonian corrections, and thus the $\\tilde a$ here is actually the $\\tilde a$ from the Classical case. Let's take the case from before"
   ]
  },
  {
   "cell_type": "code",
   "execution_count": null,
   "metadata": {},
   "outputs": [],
   "source": [
    "# Taking the parameters of the motion from the CM case above\n",
    "e = np.sqrt(1 - b_N**2/a_N**2)\n",
    "\n",
    "# Calculating the analytically predicted value of the precession angle (in radians), and how many times it divides 2π radians.\n",
    "Δφr = 3*np.pi/( (1 - e**2) * a_N)\n",
    "angDiv = 2*np.pi/Δφr\n",
    "\n",
    "Δφa = Δφr*360/(2*np.pi) #Convert to angles\n",
    "print(f'Δφ (in radians) = {Δφr:.3f}, Δφ (in angles) = {Δφa:.3f}, Circle divisions = {angDiv:.0f}')"
   ]
  },
  {
   "cell_type": "markdown",
   "metadata": {},
   "source": [
    "Now, to check whether this fits with our numerical model first we generate the GR scenario from the same boundary conditions and let it run for a full 360. Then we compile the distance to the origin at every point along the motion into an array. Then we use a function to find all the local extrema in the distances array. The total number of peaks is then the total number of orbitals in a full 360. We then compare this result to the number of circle divisions from the analytical solution."
   ]
  },
  {
   "cell_type": "code",
   "execution_count": null,
   "metadata": {},
   "outputs": [],
   "source": [
    "%run ./Functions_EIH.ipynb\n",
    "\n",
    "# m_1 = 1e-9*M_sun\n",
    "# m_2 = M_sun\n",
    "\n",
    "# R_S = findR_S(m_1, m_2)\n",
    "\n",
    "# x_1 = np.array([-1000, 0])*R_S\n",
    "# x_2 = np.array([0,     0])*R_S\n",
    "# v_1 = np.array([0,  0.01])*c\n",
    "# v_2 = np.array([0,     0])*c\n",
    "\n",
    "# s = x_1, x_2, v_1, v_2, m_1, m_2\n",
    "\n",
    "# # GR bound orbital, faraway starting pos, full 360\n",
    "# pos1EIH, pos2EIH, pos_CMEIH, parametersEIH = run_model(s, t_max = 2e7*R_S/c, dt=0.1*R_S/c, mode = 'EIH')\n",
    "# parameters[6], parameters[7] = 'X', 'X'\n",
    "\n",
    "# # dt\n",
    "# # ~25min\n",
    "\n",
    "# FullCircData = np.array([pos1EIH[0][0:-1:1000], pos1EIH[1][0:-1:1000], pos2EIH[0][0:-1:1000], pos2EIH[1][0:-1:1000], pos_CMEIH[0][0:-1:1000], pos_CMEIH[1][0:-1:1000]])\n",
    "# np.savetxt(\"FullCircData.csv\", FullCircData, delimiter=\",\")\n",
    "\n",
    "# # dt STABILIZED AT 0.1*R_s/C\n",
    "# # ~3,5 hours!!!"
   ]
  },
  {
   "cell_type": "code",
   "execution_count": null,
   "metadata": {},
   "outputs": [],
   "source": [
    "FullCircEIHData = np.genfromtxt(\"FullCircEIHData.csv\", delimiter=',')\n",
    "pos1FC, pos2FC, pos_CMFC = FullCircEIHData[0:2], FullCircEIHData[2:4], FullCircEIHData[4:6]\n",
    "\n",
    "M = slice(0, int(1159.5*133), 10)\n",
    "orbPlot1 = orbPlotter(pos1FC[:,M], pos2FC[:,M], pos_CMFC[:,M], parameters, filename = 'Test Body limit full Cirlce better (EIH)', show = True, save = True, figsize=(14,14))\n",
    "\n",
    "#~5s"
   ]
  },
  {
   "cell_type": "code",
   "execution_count": null,
   "metadata": {},
   "outputs": [],
   "source": [
    "from scipy.signal import argrelextrema\n",
    "\n",
    "# Compiling the distances at every point of the motion\n",
    "Ls = np.sqrt(pos1FC[0,M]**2 + pos1FC[1,M]**2)\n",
    "\n",
    "# Finding the number of peaks in the distances array\n",
    "peaks = argrelextrema(Ls, np.less)[0]\n",
    "\n",
    "# Adding one because the last peak is not counted\n",
    "N = len(peaks)\n",
    "\n",
    "print(f'The number of peaks in a full 360 is {N}.')\n",
    "t = range(len(Ls[0:-1]))\n",
    "fig, ax = plt.subplots(figsize=(15,3))\n",
    "ax.set_xlim(8e3, 17e3)\n",
    "ax.plot(t, Ls[0:-1], 'b')\n",
    "\n",
    "#~1s\n",
    "\n",
    "\n"
   ]
  },
  {
   "cell_type": "markdown",
   "metadata": {},
   "source": [
    "This actually fits almost perfectly with the analytically calculated 133 circle divisions."
   ]
  },
  {
   "cell_type": "markdown",
   "metadata": {},
   "source": [
    "To check whether the discrepancy in the semi-minor axis $\\delta b \\sim 10 \\,R_S$ is due to the precession of the orbit "
   ]
  },
  {
   "cell_type": "code",
   "execution_count": null,
   "metadata": {},
   "outputs": [],
   "source": [
    "r0 = 1000\n",
    "\n",
    "ΔO = np.abs(r0 - a_N)* np.sin(Δφr)\n",
    "Δb = ΔO/2\n",
    "print(f'Δb = {Δb}')\n"
   ]
  },
  {
   "cell_type": "markdown",
   "metadata": {},
   "source": [
    "___\n",
    "Mercury-Sun System"
   ]
  },
  {
   "cell_type": "code",
   "execution_count": null,
   "metadata": {},
   "outputs": [],
   "source": [
    "%run ./Functions_EIH.ipynb\n",
    "\n",
    "m_1 = 0.3301e24\n",
    "m_2 = M_sun\n",
    "\n",
    "R_S = 2*(m_1 + m_2)*G/c**2\n",
    "\n",
    "x_1 = np.array([-69.818e9, 0.])\n",
    "x_2 = np.array([0.,        0.])\n",
    "v_1 = np.array([0.,   38.86e3])\n",
    "v_2 = np.array([0.,         0])\n",
    "\n",
    "\n",
    "s = x_1, x_2, v_1, v_2, m_1, m_2\n",
    "\n",
    "pos1, pos2, pos_CM, parameters = run_model(s, t_max = 1e13*R_S/c, dt = 1e9*R_S/c, mode = 'EIH')\n",
    "orbPlotter(pos1, pos2, pos_CM, parameters, CM=True, filename='Mercury-Sun System', figsize=(9,9), show = True)\n",
    "\n",
    "# dt STABILIZED at 1e9*R_S/c\n",
    "# ~10s"
   ]
  },
  {
   "cell_type": "markdown",
   "metadata": {},
   "source": [
    "___\n",
    "Icarus-Sun System"
   ]
  },
  {
   "cell_type": "code",
   "execution_count": null,
   "metadata": {},
   "outputs": [],
   "source": [
    "%run ./Functions_EIH.ipynb\n",
    "\n",
    "m_1 = 0.001e15\n",
    "m_2 = M_sun\n",
    "\n",
    "R_S = 2*(m_1 + m_2)*G/c**2\n",
    "\n",
    "x_1 = np.array([1000., 0.])*R_S\n",
    "x_2 = np.array([-1000.,0.])*R_S\n",
    "v_1 = np.array([0.,  0.01])*c\n",
    "v_2 = np.array([0.,     0])*c\n",
    "\n",
    "s = x_1, x_2, v_1, v_2, m_1, m_2\n",
    "\n",
    "pos1, pos2, pos_CM, parameters = run_model(s, t_max = 10000000*R_S/c, dt = 500*R_S/c, mode = 'EIH')\n",
    "\n",
    "orbPlotter(pos1, pos2, pos_CM, parameters, CM=True, filename='Icarus-Sun System',figsize=(9,9), show = True)\n",
    "\n"
   ]
  },
  {
   "cell_type": "markdown",
   "metadata": {},
   "source": [
    "### Test Body limit SCATTERING"
   ]
  },
  {
   "cell_type": "code",
   "execution_count": null,
   "metadata": {},
   "outputs": [],
   "source": [
    "%run ./Functions_EIH.ipynb\n",
    "\n",
    "m_1 = 0.003*M_sun\n",
    "m_2 = 1*M_sun\n",
    "\n",
    "R_S = 2*(m_1 + m_2)*G/c**2\n",
    "\n",
    "x_1 = np.array([-3e6, -5e4])\n",
    "x_2 = np.array([0.,        0])\n",
    "v_1 = np.array([0.1,       0])*c\n",
    "v_2 = np.array([0.,        0])*c\n",
    "\n",
    "\n",
    "leng = 10\n",
    "\n",
    "θs_N = np.zeros(leng)\n",
    "Ls_N = np.zeros(leng)\n",
    "θs_EIH = np.zeros(leng)\n",
    "Ls_EIH = np.zeros(leng)\n",
    "\n",
    "\n",
    "\n",
    "for i in range(leng):\n",
    "    v_1 = np.array([0.1,       0])*c\n",
    "    v_1 += np.array([0.01*i, 0])*c\n",
    "    print(v_1)\n",
    "    s = x_1, x_2, v_1, v_2, m_1, m_2\n",
    "\n",
    "    pos1_N, pos2_N, pos_CM_N, parameters_N = run_model(s, t_max = 10000*R_S/c, dt = 1*R_S/c, mode = 'N')\n",
    "    θs_N[i] = parameters_N[7]\n",
    "    Ls_N[i] = parameters_N[3]\n",
    "    pos1_EIH, pos2_EIH, pos_CM_EIH, parameters_EIH = run_model(s, t_max = 10000*R_S/c, dt = 1*R_S/c, mode = 'EIH')\n",
    "    θs_EIH[i] = parameters_EIH[7]\n",
    "    Ls_EIH[i] = parameters_EIH[3]\n",
    "\n",
    "    orbPlotter(pos1_N, pos2_N, pos_CM_N, parameters_N, CM=True, figsize=(10,10), filename='Test Body limit scattering 1 (N)')\n",
    "    orbPlotter(pos1_EIH, pos2_EIH, pos_CM_EIH, parameters_EIH, CM=True, figsize=(10,10), filename='Test Body limit scattering 1 (EIH)')\n",
    "\n",
    "\n",
    "\n",
    "# E, p_1_len, p_2_len, L_1_len, L_2_len, R_S, b, θ_ang = parameters\n",
    "\n",
    "# pos1, pos2, pos_CM, parameters = run_model(s, t_max = 20000*R_S/c, dt = 1*R_S/c, EIH=True, GR=False, DL=False)\n",
    "\n",
    "\n",
    "\n",
    "# ~5s"
   ]
  },
  {
   "cell_type": "code",
   "execution_count": null,
   "metadata": {},
   "outputs": [],
   "source": [
    "plt.figure()\n",
    "plt.plot(Ls_N, θs_N, label='Newtonian'), plt.plot(Ls_EIH, θs_EIH, label='EIH')\n",
    "plt.xlabel('Angular momentum L [kg m^2/s]')\n",
    "plt.ylabel('Scattering angle θ [°]')\n",
    "plt.legend()"
   ]
  },
  {
   "cell_type": "code",
   "execution_count": null,
   "metadata": {},
   "outputs": [],
   "source": [
    "%run ./Functions_EIH.ipynb\n",
    "\n",
    "m_1 = 1e-9*M_sun\n",
    "m_2 = M_sun\n",
    "\n",
    "R_S = 2*(m_1 + m_2)*G/c**2\n",
    "\n",
    "x_1 = np.array([-3e6, -1e5])\n",
    "x_2 = np.array([0.,        0])\n",
    "v_1 = np.array([0.05,       0])*c\n",
    "v_2 = np.array([0.,        0])*c\n",
    "s = x_1, x_2, v_1, v_2, m_1, m_2\n",
    "\n",
    "\n",
    "leng = 10\n",
    "\n",
    "θs_N = np.zeros(leng)\n",
    "Ls_N = np.zeros(leng)\n",
    "θs_EIH = np.zeros(leng)\n",
    "Ls_EIH = np.zeros(leng)\n",
    "\n",
    "\n",
    "\n",
    "for i in range(leng):\n",
    "    v_1 = np.array([0.05,       0])*c\n",
    "    v_1 += np.array([0.01*i, 0])*c\n",
    "    print(v_1)\n",
    "    s = x_1, x_2, v_1, v_2, m_1, m_2\n",
    "\n",
    "    pos1_N, pos2_N, pos_CM_N, parameters_N = run_model(s, t_max = 25000*R_S/c, dt = 1*R_S/c, mode = 'N')\n",
    "    θs_N[i] = parameters_N[7]\n",
    "    Ls_N[i] = parameters_N[3]\n",
    "    pos1_EIH, pos2_EIH, pos_CM_EIH, parameters_EIH = run_model(s, t_max = 25000*R_S/c, dt = 1*R_S/c, mode = 'EIH')\n",
    "    θs_EIH[i] = parameters_EIH[7]\n",
    "    Ls_EIH[i] = parameters_EIH[3]\n",
    "\n",
    "    orbPlotter(pos1_N, pos2_N, pos_CM_N, parameters_N, CM=True, figsize=(10,10), filename='Test Body limit scattering 1 (N)')\n",
    "    orbPlotter(pos1_EIH, pos2_EIH, pos_CM_EIH, parameters_EIH, CM=True, figsize=(10,10), filename='Test Body limit scattering 1 (EIH)')\n",
    "\n",
    "\n",
    "\n",
    "# pos1, pos2, pos_CM, parameters = run_model(s, t_max = 25000*R_S/c, dt = 1*R_S/c, mode = 'N')\n",
    "# orbPlotter(pos1, pos2, pos_CM, parameters, CM=False, figsize=(10,10), filename='Test Body limit scattering 2 (N)')\n",
    "\n",
    "# pos1, pos2, pos_CM, parameters = run_model(s, t_max = 25000*R_S/c, dt = 1*R_S/c, mode = 'EIH')\n",
    "# orbPlotter(pos1, pos2, pos_CM, parameters, CM=False, figsize=(10,10), filename='Test Body limit scattering 2 (EIH)')\n",
    "\n",
    "\n",
    "\n",
    "# lims = np.array([-2e6, 2e6])\n",
    "# orbPlotter_lims(pos1, pos2, pos_CM, parameters, xlim=lims, ylim=lims, CM=True, filename='Test Body limit scattering 2')\n",
    "\n",
    "# dt STABILIZED at dt = 1*R_S/c with t_max = 25000*R_S/c\n",
    "# ~5s"
   ]
  },
  {
   "cell_type": "code",
   "execution_count": null,
   "metadata": {},
   "outputs": [],
   "source": [
    "print(θs_EIH)\n",
    "θs_EIH = np.abs(θs_EIH)\n",
    "print(θs_EIH)"
   ]
  },
  {
   "cell_type": "code",
   "execution_count": null,
   "metadata": {},
   "outputs": [],
   "source": [
    "plt.figure()\n",
    "plt.plot(Ls_N, θs_N, label='Newtonian'), plt.plot(Ls_EIH, θs_EIH, label='EIH')\n",
    "plt.xlabel('Angular momentum L [kg m^2/s]')\n",
    "plt.ylabel('Scattering angle θ [°]')\n",
    "plt.legend()"
   ]
  },
  {
   "cell_type": "markdown",
   "metadata": {},
   "source": [
    "___\n",
    "DatF scattering case"
   ]
  },
  {
   "cell_type": "code",
   "execution_count": null,
   "metadata": {},
   "outputs": [],
   "source": [
    "s3 = [0,10,0.2,-0.25]\n",
    "\n",
    "m_1 = 1e-9*M_sun\n",
    "m_2 = M_sun\n",
    "\n",
    "R_S = 2*(m_1 + m_2)*G/c**2\n",
    "\n",
    "x_1 = np.array([10.,    0.])*R_S\n",
    "x_2 = np.array([0.,      0])*R_S\n",
    "v_1 = np.array([-0.25, 0.2])*c\n",
    "v_2 = np.array([0.,      0])*c\n",
    "s = x_1, x_2, v_1, v_2, m_1, m_2\n",
    "\n",
    "pos1, pos2, pos_CM, parameters = run_model(s, t_max = 100*R_S/c, dt = 0.01*R_S/c, mode = 'DatF')\n",
    "orbPlotter(pos1, pos2, pos_CM, parameters, filename='Test Body limit DatF scattering case (DatF)')\n",
    "\n",
    "pos1, pos2, pos_CM, parameters = run_model(s, t_max = 100*R_S/c, dt = 0.01*R_S/c, mode = 'N')\n",
    "orbPlotter(pos1, pos2, pos_CM, parameters, filename='Test Body limit DatF scattering case (N)')\n",
    "\n",
    "pos1, pos2, pos_CM, parameters = run_model(s, t_max = 100*R_S/c, dt = 0.01*R_S/c, mode = 'EIH')\n",
    "orbPlotter(pos1, pos2, pos_CM, parameters, filename='Test Body limit DatF scattering case (EIH)')\n",
    "# lims = np.array([-2e6, 2.5e6])\n",
    "# orbPlotter_lims(pos1, pos2, pos_CM, parameters, xlim=lims, ylim=lims, CM=True, filename='Test Body limit scattering 1')\n",
    "\n",
    "# dt STABILIZED at 0.01*R_S/c with t_max = 100*R_S/c\n",
    "# ~5s"
   ]
  },
  {
   "cell_type": "markdown",
   "metadata": {},
   "source": [
    "# BLACK HOLE REGIME CHECK $\\quad m \\sim 10M_\\mathrm{sun}$"
   ]
  },
  {
   "cell_type": "code",
   "execution_count": null,
   "metadata": {},
   "outputs": [],
   "source": [
    "%run ./Functions_EIH.ipynb\n",
    "c = const.c.value\n",
    "G = const.G.value\n",
    "M_sun = const.M_sun.value"
   ]
  },
  {
   "cell_type": "markdown",
   "metadata": {},
   "source": [
    "## SYMMETRY TEST"
   ]
  },
  {
   "cell_type": "code",
   "execution_count": null,
   "metadata": {},
   "outputs": [],
   "source": [
    "%run ./Functions_EIH.ipynb\n",
    "\n",
    "m_1 = M_sun*10\n",
    "m_2 = M_sun*10\n",
    "\n",
    "R_S = findR_S(m_1, m_2)\n",
    "\n",
    "x_1 = np.array([1e3,  0.0])*R_S\n",
    "x_2 = np.array([0.0,  0.0])*R_S\n",
    "v_1 = np.array([0.0, 0.01])*c\n",
    "v_2 = np.array([0.0,   0.])*c\n",
    "\n",
    "s = x_1, x_2, v_1, v_2, m_1, m_2\n",
    "\n",
    "t_max = 1e6*R_S/c\n",
    "\n",
    "pos1, pos2, posCM, parameters = run_model(s, t_max = t_max, dt=t_max/5e5, mode = 'EIH')\n",
    "# pos1, pos2, posCM, parameters = run_model(s, t_max = 5e3, dt=1, mode = 'EIH')\n",
    "parameters[6:8] = 0,0\n",
    "orbPlotter(pos1, pos2, posCM, parameters, CM = True, filename='Black hole symmetry test', figsize=(9,9))\n",
    "\n",
    "# ~1m"
   ]
  },
  {
   "cell_type": "markdown",
   "metadata": {},
   "source": [
    "## Checking the Periastron Precession\n",
    "We'll test whether the periastron precession of the above situation fits with analytical predictions.\n",
    "\n",
    "We'll be using Robertson's formula for the periastron precession\n",
    "\n",
    "$$\\Delta \\varphi = 6 \\pi \\frac{G(m_1 + m_2)}{a c^2 (1- e^2)} \\qquad \\longleftrightarrow \\qquad \\Delta \\tilde \\varphi = 6 \\pi \\frac{(\\tilde m_1 + \\tilde m_2)}{\\tilde a (1- e^2)}$$\n",
    "\n",
    "First we have measure the parameters of the quasi-Newtonian orbits"
   ]
  },
  {
   "cell_type": "code",
   "execution_count": null,
   "metadata": {},
   "outputs": [],
   "source": [
    "pos1t = pos1 - posCM\n",
    "pos2t = pos2 - posCM\n",
    "posCMt = np.zeros_like(posCM)"
   ]
  },
  {
   "cell_type": "code",
   "execution_count": null,
   "metadata": {},
   "outputs": [],
   "source": [
    "M = slice(0, int(len(pos1[0])/9))\n",
    "\n",
    "orbPlotter(pos1t[:,M], pos2t[:,M], posCMt[:,M], parameters, filename='Black hole symmetry test 1 orbit', figsize=(8,8))\n",
    "\n",
    "Δx = (max(pos1t[0,M]) - min(pos1t[0,M]))/2\n",
    "Δy = (max(pos1t[1,M]) - min(pos1t[1,M]))/2\n",
    "a = max(Δx, Δy)\n",
    "b = min(Δx, Δy)\n",
    "\n",
    "e = np.sqrt(1 - b**2/a**2)\n",
    "\n",
    "print(f'a = {a:.1f}', f'b = {b:.1f}', f'e = {e:.3f}')\n"
   ]
  },
  {
   "cell_type": "markdown",
   "metadata": {},
   "source": [
    "Our analytical prediction of $\\Delta \\varphi$ is then"
   ]
  },
  {
   "cell_type": "code",
   "execution_count": null,
   "metadata": {},
   "outputs": [],
   "source": [
    "Δφ_an = 6*np.pi*G*(m_1 + m_2)/(a*c**2*(1-e**2))\n",
    "print(f'Δφ_an = {Δφ_an:.3f} radians = {(Δφ_an*np.pi/180):.2e} angles')"
   ]
  },
  {
   "cell_type": "markdown",
   "metadata": {},
   "source": [
    "Now we find the precession of our simulated case"
   ]
  },
  {
   "cell_type": "code",
   "execution_count": null,
   "metadata": {},
   "outputs": [],
   "source": [
    "from scipy.signal import argrelextrema\n",
    "\n",
    "# Making an array of distances to the center of mass for the first mass over time r_1cm(t)\n",
    "Ls = np.sqrt(pos1t[0,:]**2 + pos1t[1,:]**2)\n",
    "t = range(len(Ls))\n",
    "\n",
    "# Finding the indices of the greatest distance \n",
    "maxis = argrelextrema(Ls, np.greater, order=8)[0]\n",
    "\n",
    "#Finding the acutal distances from 0,0 of the peaks\n",
    "peakposs = pos1t[:,maxis]\n",
    "peakdists = np.sqrt(peakposs[0,:]**2 + peakposs[1,:]**2)\n",
    "\n",
    "#plotting\n",
    "fig,(ax1, ax2) = plt.subplots(2, figsize=(10,6))\n",
    "ax1.set_title('|r(t)| and peaks')\n",
    "ax1.plot(t, Ls, 'b-')\n",
    "ax1.plot(maxis, peakdists, 'ro', markersize=3)\n",
    "ax1.set_aspect('0.005')\n",
    "ax2.set_title('r(t) with peaks')\n",
    "ax2.plot(pos1t[1], pos1t[0], 'b:', lw=0.5)\n",
    "ax2.plot(peakposs[1], peakposs[0], 'ro', markersize=3)\n",
    "ax2.set_xlim(0, 1.3e7)\n",
    "ax2.set_ylim(2.7e7, 3e7)\n",
    "ax2.set_aspect('1')\n",
    "\n",
    "#Finding the distance between each peak (i) and the next (i+1)\n",
    "dist = np.zeros(len(peakposs[0]))\n",
    "for i in range(len(peakposs[0]) - 1):\n",
    "    line = peakposs[:,i] - peakposs[:,i+1]\n",
    "    d = np.linalg.norm(line)\n",
    "    dist[i] = d\n",
    "\n",
    "Δφ_code = np.mean(dist)/np.mean(peakdists)\n",
    "print(f'Δφ_code = {Δφ_code:.3f} radians = {(Δφ_code*np.pi/180):.2e} angles')\n",
    "\n",
    "δφ = np.abs(Δφ_an - Δφ_code)\n",
    "print(f'δφ = {δφ:.3f}')\n"
   ]
  },
  {
   "cell_type": "markdown",
   "metadata": {},
   "source": [
    "## BOUND CASE"
   ]
  },
  {
   "cell_type": "code",
   "execution_count": null,
   "metadata": {},
   "outputs": [],
   "source": [
    "m_1 = 3*M_sun\n",
    "m_2 = 10*M_sun\n",
    "\n",
    "R_S = 2*(m_1 + m_2)*G/c**2\n",
    "\n",
    "x_1 = np.array([1000.,  0.])*R_S\n",
    "x_2 = np.array([-1000., 0.])*R_S\n",
    "v_1 = np.array([0,   0.01])*c\n",
    "v_2 = np.array([0.,  0.02])*c\n",
    "\n",
    "\n",
    "s = x_1, x_2, v_1, v_2, m_1, m_2\n",
    "\n",
    "# pos1, pos2, pos_CM, parameters = run_model(s, t_max = 20000*R_S/c, dt = 1*R_S/c, EIH=True, GR=False, DL=False)\n",
    "pos1, pos2, pos_CM, parameters = run_model(s, t_max = 1000000*R_S/c, dt = 50*R_S/c, mode = 'EIH')\n",
    "\n",
    "orbPlotter(pos1, pos2, pos_CM, parameters, CM=True, filename='Black hole bound case 1', figsize=(9,9))\n",
    "# lims = (-2e7, 2e7)\n",
    "# orbPlotter_lims(pos1, pos2, pos_CM, parameters, xlim=lims, ylim=lims, CM=True, filename='Black hole bound case 1', figsize=(9,9))\n",
    "\n",
    "# 1m 22.1s"
   ]
  },
  {
   "cell_type": "markdown",
   "metadata": {},
   "source": [
    "# BLACK HOLE SCATTERING"
   ]
  },
  {
   "cell_type": "code",
   "execution_count": null,
   "metadata": {},
   "outputs": [],
   "source": [
    "m_1 = 8*M_sun\n",
    "m_2 = 10*M_sun\n",
    "\n",
    "R_S = 2*(m_1 + m_2)*G/c**2\n",
    "\n",
    "x_1 = np.array([-500,  0.])*R_S\n",
    "x_2 = np.array([0.,  100.])*R_S\n",
    "v_1 = np.array([0.1,   0])*c\n",
    "v_2 = np.array([0.,     0])*c\n",
    "\n",
    "\n",
    "s = x_1, x_2, v_1, v_2, m_1, m_2\n",
    "\n",
    "# pos1, pos2, pos_CM, parameters = run_model(s, t_max = 20000*R_S/c, dt = 1*R_S/c, EIH=True, GR=False, DL=False)\n",
    "pos1, pos2, pos_CM, parameters = run_model(s, t_max = 20000*R_S/c, dt = 1*R_S/c, mode = 'EIH')\n",
    "\n",
    "orbPlotter(pos1, pos2, pos_CM, parameters, CM=True)\n",
    "# lims = (-2e7, 2e7)\n",
    "# orbPlotter_lims(pos1, pos2, pos_CM, parameters, xlim=lims, ylim=lims, CM=True, filename='Black hole scattering 1', figsize=(8,8))\n",
    "\n",
    "# ~5s"
   ]
  },
  {
   "cell_type": "code",
   "execution_count": null,
   "metadata": {},
   "outputs": [],
   "source": [
    "m_1 = 8*M_sun\n",
    "m_2 = 10*M_sun\n",
    "\n",
    "R_S = 2*(m_1 + m_2)*G/c**2\n",
    "\n",
    "x_1 = np.array([-2e3,  0.])*R_S\n",
    "x_2 = np.array([0.,  100.])*R_S\n",
    "v_1 = np.array([0.02,   0])*c\n",
    "v_2 = np.array([0.,     0])*c\n",
    "\n",
    "\n",
    "s = x_1, x_2, v_1, v_2, m_1, m_2\n",
    "\n",
    "pos1, pos2, pos_CM, parameters = run_model(s, t_max = 100000*R_S/c, dt = 1*R_S/c, mode = 'EIH')\n",
    "\n",
    "# orbPlotter(pos1, pos2, pos_CM, parameters, CM=True)\n",
    "limss = np.array([(-1e8, 1e8), (-1e7, 1e7), (-1e6, 1e6)])\n",
    "for i in limss:\n",
    "    orbPlotter_lims(pos1, pos2, pos_CM, xlim=i, ylim=i, CM=True)\n",
    "\n",
    "# 9.2s"
   ]
  },
  {
   "cell_type": "code",
   "execution_count": null,
   "metadata": {},
   "outputs": [],
   "source": []
  }
 ],
 "metadata": {
  "interpreter": {
   "hash": "2f44e314e6deab7e71bdc9e7e9d0cce8baaeffc7fc0f298c6c078c1c52c26140"
  },
  "kernelspec": {
   "display_name": "Python 3.9.7 64-bit",
   "language": "python",
   "name": "python3"
  },
  "language_info": {
   "codemirror_mode": {
    "name": "ipython",
    "version": 3
   },
   "file_extension": ".py",
   "mimetype": "text/x-python",
   "name": "python",
   "nbconvert_exporter": "python",
   "pygments_lexer": "ipython3",
   "version": "3.9.7"
  },
  "orig_nbformat": 4
 },
 "nbformat": 4,
 "nbformat_minor": 2
}
