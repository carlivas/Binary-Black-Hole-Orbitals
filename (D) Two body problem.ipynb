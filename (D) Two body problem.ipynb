{
 "cells": [
  {
   "cell_type": "markdown",
   "metadata": {},
   "source": [
    "# (D) The Two-Body Problem"
   ]
  },
  {
   "cell_type": "code",
   "execution_count": null,
   "metadata": {},
   "outputs": [],
   "source": [
    "# This cell runs the file \"Two_body_functions.ipynb\" such that the functions in that file can be utillized here\n",
    "%run ./Two_body_functions.ipynb"
   ]
  },
  {
   "cell_type": "code",
   "execution_count": 30,
   "metadata": {},
   "outputs": [],
   "source": [
    "x_1 = np.array([0., 1000.])\n",
    "x_2 = np.array([0., -200.])\n",
    "v_1 = np.array([0.005, 0.])\n",
    "v_2 = np.array([-0.01, 0.])\n",
    "a_1 = np.array([0.,    0.])\n",
    "a_2 = np.array([0.,    0.])\n",
    "m_1 = 10\n",
    "m_2 = 15\n",
    "\n",
    "s = x_1, x_2, v_1, v_2, a_1, a_2, m_1, m_2\n",
    "\n",
    "pos1, pos2, posCM, vel1, vel2, acc1, acc2 = twoOrbsNewt(s, t_max = 30000, dt = 0.1)\n",
    "# twoOrbPlotter(pos1, pos2, posCM, CM = False, filename='TB04 rest_frame', save=False, show=False)\n",
    "twoOrbPlotter(pos1, pos2, posCM, CM = True, filename='TB04 CM_frame', save=False, show=True)\n",
    "# prettyTwoOrbPlotter(pos1, pos2, posCM, CM = False, filename='TB04 rest_frame', save=False)\n",
    "# prettyTwoOrbPlotter(pos1, pos2, posCM, CM = True, filename='TB04 CM_frame', save=False)"
   ]
  },
  {
   "cell_type": "code",
   "execution_count": null,
   "metadata": {},
   "outputs": [],
   "source": [
    "# Defining initial states in rest frame\n",
    "m_1 = 10\n",
    "x_1 = np.array([500., 1000.])\n",
    "v_1 = np.array([-0.01, 0.])\n",
    "a_1 = np.array([0.,    0.])\n",
    "\n",
    "m_2 = 10\n",
    "x_2 = np.array([0.,-1000.])\n",
    "v_2 = np.array([0.01, 0.])\n",
    "a_2 = np.array([0.,    0.])\n",
    "\n",
    "s = x_1, x_2, v_1, v_2, a_1, a_2, m_1, m_2\n",
    "\n",
    "pos1, pos2, posCM, vel1, vel2, acc1, acc2 = twoOrbsNewt(s, t_max=100000, dt=1)\n",
    "# twoOrbPlotter(pos1, pos2, posCM, filename='TB02 rest_frame', CM=False, save=False)\n",
    "twoOrbPlotter(pos1, pos2, posCM, filename='TB02 CM_frame', CM=True, save=False)\n",
    "# prettyTwoOrbPlotter(pos1, pos2, posCM, filename='TB02 rest_frame', CM=False, save=False)\n",
    "# prettyTwoOrbPlotter(pos1, pos2, posCM, filename='TB02 CM_frame', CM=True, save=False)"
   ]
  },
  {
   "cell_type": "code",
   "execution_count": null,
   "metadata": {},
   "outputs": [],
   "source": [
    "# Defining initial states in rest frame\n",
    "m_1 = 10\n",
    "x_1 = np.array([500., 1000.])\n",
    "v_1 = np.array([0.025, 0.])\n",
    "a_1 = np.array([0.,    0.])\n",
    "\n",
    "m_2 = 10\n",
    "x_2 = np.array([0.,-1000.])\n",
    "v_2 = np.array([0.01, 0.])\n",
    "a_2 = np.array([0.,    0.])\n",
    "\n",
    "s = x_1, x_2, v_1, v_2, a_1, a_2, m_1, m_2\n",
    "\n",
    "pos1, pos2, posCM, vel1, vel2, acc1, acc2 = twoOrbsNewt(s, t_max=300000, dt=1)\n",
    "twoOrbPlotter(pos1, pos2, posCM, filename='TB03 rest_frame', CM=False)\n",
    "twoOrbPlotter(pos1, pos2, posCM, filename='TB03 CM_frame', CM=True)\n",
    "# prettyTwoOrbPlotter(pos1, pos2, posCM, filename='TB03 rest_frame', CM=False, save=False)\n",
    "# prettyTwoOrbPlotter(pos1, pos2, posCM, filename='TB03 CM_frame', CM=True, save=False)"
   ]
  },
  {
   "cell_type": "markdown",
   "metadata": {},
   "source": [
    "# TWO BODY PROBLEM EIH"
   ]
  },
  {
   "cell_type": "code",
   "execution_count": null,
   "metadata": {},
   "outputs": [],
   "source": [
    "# This cell runs the file \"Two_body_functions.ipynb\" such that the functions in that file can be utillized here\n",
    "%run ./Two_body_functions.ipynb"
   ]
  },
  {
   "cell_type": "code",
   "execution_count": null,
   "metadata": {},
   "outputs": [],
   "source": [
    "x_1 = np.array([0., 1000.])\n",
    "x_2 = np.array([0.,-1000.])\n",
    "v_1 = np.array([0.01,  0.])\n",
    "v_2 = np.array([-0.01, 0.])\n",
    "a_1 = np.array([0.,    0.])\n",
    "a_2 = np.array([0.,    0.])\n",
    "m_1 = 10\n",
    "m_2 = 15\n",
    "\n",
    "s = x_1, x_2, v_1, v_2, a_1, a_2, m_1, m_2\n",
    "\n",
    "pos1, pos2, posCM, vel1, vel2, acc1, acc2 = twoOrbsEIH(s, t_max = 500000, dt = 10)\n",
    "#twoOrbPlotter(pos1, pos2, posCM, CM = False, filename='EIH1 rest_frame', save=False)\n",
    "twoOrbPlotter(pos1, pos2, posCM, CM = True, filename='EIH1 CM_frame', save=False)\n",
    "# prettyTwoOrbPlotter(pos1, pos2, posCM, CM = True, filename='EIH1 CM_frame', save=False)"
   ]
  },
  {
   "cell_type": "code",
   "execution_count": null,
   "metadata": {},
   "outputs": [],
   "source": [
    "x_1 = np.array([0., 1000.])\n",
    "x_2 = np.array([0.,-1000.])\n",
    "v_1 = np.array([0.1,  -0.01])\n",
    "v_2 = np.array([-0.05, 0.05])\n",
    "a_1 = np.array([0.,    0.])\n",
    "a_2 = np.array([0.,    0.])\n",
    "m_1 = 1\n",
    "m_2 = 1000\n",
    "\n",
    "s = x_1, x_2, v_1, v_2, a_1, a_2, m_1, m_2\n",
    "\n",
    "pos1, pos2, posCM, vel1, vel2, acc1, acc2 = twoOrbsEIH(s, t_max = 150000, dt = 1)\n",
    "twoOrbPlotter(pos1, pos2, posCM, CM = True, filename='EIH3 CM_frame', save=False)"
   ]
  },
  {
   "cell_type": "markdown",
   "metadata": {},
   "source": [
    "# ANIMATION"
   ]
  },
  {
   "cell_type": "code",
   "execution_count": null,
   "metadata": {},
   "outputs": [],
   "source": [
    "# This cell runs the file \"Two_body_functions.ipynb\" such that the functions in that file can be utillized here\n",
    "%run ./Two_body_functions.ipynb"
   ]
  },
  {
   "cell_type": "code",
   "execution_count": null,
   "metadata": {},
   "outputs": [],
   "source": [
    "# x_1 = np.array([0., 1000.])\n",
    "# x_2 = np.array([0.,-1000.])\n",
    "# v_1 = np.array([0.05,  -0.01])\n",
    "# v_2 = np.array([-0.05, 0.05])\n",
    "# a_1 = np.array([0.,    0.])\n",
    "# a_2 = np.array([0.,    0.])\n",
    "# m_1 = 10\n",
    "# m_2 = 15\n",
    "# s = x_1, x_2, v_1, v_2, a_1, a_2, m_1, m_2\n",
    "\n",
    "# pos1, pos2, posCM, vel1, vel2, acc1, acc2 = twoOrbsEIH(s, t_max = 450000, dt = 1)"
   ]
  },
  {
   "cell_type": "code",
   "execution_count": null,
   "metadata": {},
   "outputs": [],
   "source": [
    "# An animation of 10s at 60 fps takes about 5  min to render\n",
    "# An animation of 10s at 48 fps takes about 3½ min to render\n",
    "# An animation of 10s at 24 fps takes about 1½ min to render\n",
    "# An animation of 10s at 12 fps takes about ½  min to render\n",
    "\n",
    "#twoOrbAnimator(pos1, pos2, posCM, filename='EIH3', length=10, fps=24)"
   ]
  }
 ],
 "metadata": {
  "interpreter": {
   "hash": "ae4ce7cb7bfb7d2cfaf4129cf150182a1e5ac3ebe708cb00e3cc111dd7207a44"
  },
  "kernelspec": {
   "display_name": "Python 3.9.7 64-bit",
   "language": "python",
   "name": "python3"
  },
  "language_info": {
   "codemirror_mode": {
    "name": "ipython",
    "version": 3
   },
   "file_extension": ".py",
   "mimetype": "text/x-python",
   "name": "python",
   "nbconvert_exporter": "python",
   "pygments_lexer": "ipython3",
   "version": "3.9.7"
  },
  "orig_nbformat": 4
 },
 "nbformat": 4,
 "nbformat_minor": 2
}
