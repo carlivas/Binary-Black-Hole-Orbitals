{
 "cells": [
  {
   "cell_type": "code",
   "execution_count": 9,
   "metadata": {},
   "outputs": [],
   "source": [
    "import numpy as np \n",
    "import matplotlib.pyplot as plt \n",
    "from numpy.random import random, uniform, randint\n",
    "import numba\n",
    "import os, tqdm"
   ]
  },
  {
   "cell_type": "code",
   "execution_count": 10,
   "metadata": {},
   "outputs": [],
   "source": [
    "@numba.njit\n",
    "def S_matrix(N):\n",
    "    return 2 * (uniform(-1, 1, (N,N)) > 0.0) -1\n"
   ]
  },
  {
   "cell_type": "code",
   "execution_count": 11,
   "metadata": {},
   "outputs": [],
   "source": [
    "@numba.njit\n",
    "def calc_hamil(S):\n",
    "    p_e = 0\n",
    "    for i in range(len(S)):\n",
    "        for j in range(len(S)):\n",
    "            p_e += -0.5 * ( S[i,j] \n",
    "            * ( S[(i+1) % len(S),j] + S[i-1, j] \n",
    "            + S[i, j-1] + S[i, (j+1) % len(S)]))\n",
    "\n",
    "    return p_e"
   ]
  },
  {
   "cell_type": "code",
   "execution_count": 12,
   "metadata": {},
   "outputs": [],
   "source": [
    "@numba.njit\n",
    "def maybe_flip(S, T=1):\n",
    "    size = len(S[0])\n",
    "    i = randint(0, size)\n",
    "    j = randint(0, size)\n",
    "    E1 = -1 * ( S[i,j] * ( S[(i+1) % len(S),j] + S[i-1, j] + S[i, j-1] + S[i, (j+1) % len(S)]))\n",
    "    E2 =  -1 * E1\n",
    "    ΔE = E2 - E1\n",
    "    if E2 < E1 or uniform(0,1) <= np.exp(-ΔE/T):    \n",
    "        S[i, j] *= -1\n",
    "        return True, S\n",
    "    else:\n",
    "        return False, S\n",
    " "
   ]
  },
  {
   "cell_type": "code",
   "execution_count": 13,
   "metadata": {},
   "outputs": [],
   "source": [
    "@numba.njit\n",
    "def ising_model(N, T=1):\n",
    "    S = S_matrix(N)\n",
    "    imgs = [S]\n",
    "\n",
    "    for i in range(100*N**2):\n",
    "        flip_s = maybe_flip(S, T)   \n",
    "        if flip_s[0] == True:\n",
    "            S = flip_s[1]  \n",
    "        else:\n",
    "            S = flip_s[1]\n",
    "        if i % 100 == 0:\n",
    "            imgs.append(S.copy())\n",
    "    imgs.append(S)\n",
    "    return imgs"
   ]
  },
  {
   "cell_type": "code",
   "execution_count": 14,
   "metadata": {},
   "outputs": [],
   "source": [
    "imgs = ising_model(100)\n"
   ]
  },
  {
   "cell_type": "code",
   "execution_count": 15,
   "metadata": {},
   "outputs": [
    {
     "data": {
      "text/plain": [
       "10002"
      ]
     },
     "execution_count": 15,
     "metadata": {},
     "output_type": "execute_result"
    }
   ],
   "source": [
    "len(imgs)"
   ]
  },
  {
   "cell_type": "code",
   "execution_count": 16,
   "metadata": {},
   "outputs": [
    {
     "name": "stderr",
     "output_type": "stream",
     "text": [
      "100%|██████████| 500/500 [01:36<00:00,  5.17it/s]\n"
     ]
    },
    {
     "data": {
      "text/plain": [
       "<Figure size 432x288 with 0 Axes>"
      ]
     },
     "metadata": {},
     "output_type": "display_data"
    }
   ],
   "source": [
    "try:\n",
    "    os.mkdir(\"imgs_2\")\n",
    "except:\n",
    "    pass\n",
    "\n",
    "for i in tqdm.tqdm(range(500)):\n",
    "    #plt.figure()\n",
    "    plt.title('Ising model');\n",
    "    plt.imshow(imgs[10*i], cmap='viridis', vmin=-1, vmax=1)\n",
    "    plt.colorbar()\n",
    "    plt.savefig(f\"imgs_2/{i:05d}.png\")\n",
    "    plt.clf()\n"
   ]
  },
  {
   "cell_type": "markdown",
   "metadata": {},
   "source": [
    "## Assignment (g)"
   ]
  },
  {
   "cell_type": "code",
   "execution_count": 17,
   "metadata": {},
   "outputs": [],
   "source": [
    "@numba.njit\n",
    "def ising_model(N, T=1):\n",
    "    S = S_matrix(N)\n",
    "    E = []\n",
    "    m = []\n",
    "    for i in range(10*1000*N**2):\n",
    "        flip_s = maybe_flip(S, T)   \n",
    "        if flip_s[0] == True:\n",
    "            S = flip_s[1]  \n",
    "        else:\n",
    "            S = flip_s[1]\n",
    "        if i % 100 == 0:\n",
    "            E.append(calc_hamil(S))\n",
    "            m.append(np.mean(S))   \n",
    "    return E, m"
   ]
  },
  {
   "cell_type": "code",
   "execution_count": 18,
   "metadata": {},
   "outputs": [],
   "source": [
    "temperature = np.linspace(0.1, 5, 100)\n",
    "N = 30\n",
    "E = []\n",
    "M = []\n",
    "for T in temperature:\n",
    "    E.append(ising_model(N, T)[0])\n",
    "    M.append(ising_model(N, T)[1])\n",
    "    "
   ]
  },
  {
   "cell_type": "code",
   "execution_count": 19,
   "metadata": {},
   "outputs": [
    {
     "data": {
      "text/plain": [
       "<matplotlib.legend.Legend at 0x19e3e801100>"
      ]
     },
     "execution_count": 19,
     "metadata": {},
     "output_type": "execute_result"
    },
    {
     "data": {
      "image/png": "[encoded data removed]",
      "text/plain": [
       "<Figure size 720x432 with 1 Axes>"
      ]
     },
     "metadata": {
      "needs_background": "light"
     },
     "output_type": "display_data"
    }
   ],
   "source": [
    "M_mean = np.mean(np.abs(M), axis=1)\n",
    "\n",
    "plt.figure(figsize=(10,6))\n",
    "plt.grid()\n",
    "plt.plot(temperature, M_mean, '-', c='black')\n",
    "plt.xlabel('Temperature', size=12)\n",
    "plt.ylabel('Average magnetisation', size=12)\n",
    "plt.axvline(2.3, ls='--', c='grey', label='Estimated $T_c\\sim2.3$')\n",
    "plt.legend(prop={'size':14})"
   ]
  },
  {
   "cell_type": "code",
   "execution_count": null,
   "metadata": {},
   "outputs": [],
   "source": []
  },
  {
   "cell_type": "code",
   "execution_count": 20,
   "metadata": {},
   "outputs": [
    {
     "ename": "TypeError",
     "evalue": "_shape_dispatcher() missing 1 required positional argument: 'a'",
     "output_type": "error",
     "traceback": [
      "\u001b[1;31m---------------------------------------------------------------------------\u001b[0m",
      "\u001b[1;31mTypeError\u001b[0m                                 Traceback (most recent call last)",
      "\u001b[1;32m~\\AppData\\Local\\Temp/ipykernel_9152/90054563.py\u001b[0m in \u001b[0;36m<module>\u001b[1;34m\u001b[0m\n\u001b[1;32m----> 1\u001b[1;33m \u001b[0mnp\u001b[0m\u001b[1;33m.\u001b[0m\u001b[0mshape\u001b[0m\u001b[1;33m(\u001b[0m\u001b[1;33m)\u001b[0m\u001b[1;33m\u001b[0m\u001b[1;33m\u001b[0m\u001b[0m\n\u001b[0m",
      "\u001b[1;32m<__array_function__ internals>\u001b[0m in \u001b[0;36mshape\u001b[1;34m(*args, **kwargs)\u001b[0m\n",
      "\u001b[1;31mTypeError\u001b[0m: _shape_dispatcher() missing 1 required positional argument: 'a'"
     ]
    }
   ],
   "source": [
    "np.shape()"
   ]
  },
  {
   "cell_type": "code",
   "execution_count": null,
   "metadata": {},
   "outputs": [],
   "source": []
  }
 ],
 "metadata": {
  "interpreter": {
   "hash": "f1cc0bf5b3858a53e2e9ce219cd997a1ff8b435e9f8cfd545aa58bb374be0caa"
  },
  "kernelspec": {
   "display_name": "Python 3.8.8 64-bit ('base': conda)",
   "name": "python3"
  },
  "language_info": {
   "codemirror_mode": {
    "name": "ipython",
    "version": 3
   },
   "file_extension": ".py",
   "mimetype": "text/x-python",
   "name": "python",
   "nbconvert_exporter": "python",
   "pygments_lexer": "ipython3",
   "version": "3.9.7"
  },
  "orig_nbformat": 4
 },
 "nbformat": 4,
 "nbformat_minor": 2
}
