{
 "cells": [
  {
   "cell_type": "markdown",
   "metadata": {},
   "source": [
    "# TWO BODY PROBLEM NEWTONIAN"
   ]
  },
  {
   "cell_type": "code",
   "execution_count": 1,
   "metadata": {},
   "outputs": [],
   "source": [
    "import numpy as np\n",
    "import matplotlib.pyplot as plt\n",
    "\n",
    "def rel_len(x_1, x_2):\n",
    "    return np.sqrt((x_1[0] - x_2[0])**2 + (x_1[1] - x_2[1])**2)"
   ]
  },
  {
   "cell_type": "code",
   "execution_count": 2,
   "metadata": {},
   "outputs": [],
   "source": [
    "def acceleration(x_1, x_2):\n",
    "    r = rel_len(x_1, x_2)\n",
    "    a_1 = - np.subtract(x_1, x_2)/(2*r**3)\n",
    "    a_2 = - np.subtract(x_2, x_1)/(2*r**3)\n",
    "    return np.array([a_1, a_2])\n",
    "\n",
    "def boost(v_1i, v_2i, a_1, a_2, dt):\n",
    "    v_1 = np.add(v_1i, a_1*dt)\n",
    "    v_2 = np.add(v_2i, a_2*dt)\n",
    "    return np.array([v_1, v_2])\n",
    "\n",
    "def move(x_1i, x_2i, v_1, v_2, dt):\n",
    "    x_1 = np.add(x_1i, v_1*dt)\n",
    "    x_2 = np.add(x_2i, v_2*dt)\n",
    "\n",
    "    return np.array([x_1, x_2])"
   ]
  },
  {
   "cell_type": "code",
   "execution_count": 3,
   "metadata": {},
   "outputs": [],
   "source": [
    "def twoOrbsNewt(s, t_max = 2000000, d=5, dt = 1000):\n",
    "    x_1, x_2, v_1, v_2, a_1, a_2 = s\n",
    "\n",
    "    dist_max = d*rel_len(x_1, x_2)\n",
    "    \n",
    "    pos1 = [], []\n",
    "    pos2 = [], []\n",
    "    vel1 = [], []\n",
    "    vel2 = [], []\n",
    "    acc1 = [], []\n",
    "    acc2 = [], []\n",
    "\n",
    "    for i in np.arange(0,t_max,dt):\n",
    "        pos1[0].append(x_1[0])\n",
    "        pos1[1].append(x_1[1])\n",
    "        pos2[0].append(x_2[0])\n",
    "        pos2[1].append(x_2[1])\n",
    "        vel1[0].append(v_1[0])\n",
    "        vel1[1].append(v_1[1])\n",
    "        vel2[0].append(v_2[0])\n",
    "        vel2[1].append(v_2[1])\n",
    "        acc1[0].append(a_1[0])\n",
    "        acc1[1].append(a_1[1])\n",
    "        acc2[0].append(a_2[0])\n",
    "        acc2[1].append(a_2[1])\n",
    "\n",
    "        # dist = rel_len(x_1, x_2)\n",
    "        # if dist >= dist_max:\n",
    "        #     break\n",
    "        a_1, a_2 = acceleration(x_1, x_2)\n",
    "        v_1, v_2 = boost(v_1, v_2, a_1, a_2, dt)\n",
    "        x_1, x_2 = move(x_1, x_2, v_1, v_2, dt)\n",
    "\n",
    "    return pos1, pos2, vel1, vel2, acc1, acc2"
   ]
  },
  {
   "cell_type": "markdown",
   "metadata": {},
   "source": [
    "# TWO BODY PROBLEM EIH"
   ]
  },
  {
   "cell_type": "code",
   "execution_count": 4,
   "metadata": {},
   "outputs": [],
   "source": [
    "def rel_len(x_1, x_2):\n",
    "    return np.sqrt((x_1[0]-x_2[0])**2 + (x_1[1]-x_2[1])**2)"
   ]
  },
  {
   "cell_type": "code",
   "execution_count": 5,
   "metadata": {},
   "outputs": [],
   "source": [
    "#Takes numpy arrays as input!!\n",
    "\n",
    "def accelerationEIH(r_1, r_2, v_1, v_2, a_1, a_2, m_1, m_2):\n",
    "    r_vec = r_1 - r_2\n",
    "    v_vec = v_1 - v_2\n",
    "    r = rel_len(r_1,r_2)\n",
    "    v = rel_len(v_1,v_2)\n",
    "\n",
    "    acc_1 = np.array([0,0])\n",
    "    acc_2 = np.array([0,0])\n",
    "    for j in range(2):\n",
    "        acc_1[j] = 1/(1 + 3/2*v_1[j]**2 + 3*m_2/r)*(m_2/(2*r)*(-6*v_1[j]*v/r + 7*v_2[j]*v/r + 7*a_2[j]\n",
    "            + np.dot(a_2, r_vec)*r_vec[j]/r**2 + np.dot(v_2, v_vec)*r_vec[j]/r**2 - v_2[j]*np.dot(v_2, r_vec)/r**2\n",
    "            - np.dot(v_2, r_vec)*r_vec[j]*v/r**3 + 2*r_vec[j]/r**2 - 3*np.dot(v_1,v_1)*r_vec[j]/r**2\n",
    "            - 3*np.dot(v_2,v_2)*r_vec[j]/r**2 + 7*np.dot(v_1,v_2)*r_vec[j]/r**2 - np.dot(v_2, r_vec)*np.dot(v_1, r_vec)*r_vec[j]/r**4)\n",
    "            - v_2[j]*np.dot(v_1, r_vec)/r**2 - 2*(m_1 + m_2)* r_vec[j]/r**3)\n",
    "\n",
    "        acc_2[j] = 1/(1 + 3/2*v_2[j]**2 + 3*m_1/r)*(m_1/(2*r)*(-6*v_2[j]*v/r + 7*v_1[j]*v/r + 7*a_1[j]\n",
    "            + np.dot(a_1, r_vec)*r_vec[j]/r**2 + np.dot(v_1, v_vec)*r_vec[j]/r**2 + v_1[j]*np.dot(v_1, r_vec)/r**2\n",
    "            - np.dot(v_1, r_vec)*r_vec[j]*v/r**3 - 2*r_vec[j]/r**2 + 3*np.dot(v_1,v_1)*r_vec[j]/r**2\n",
    "            + 3*np.dot(v_2,v_2)*r_vec[j]/r**2 - 7*np.dot(v_1,v_2)*r_vec[j]/r**2 - v_1[j]*np.dot(v_2, r_vec)/r**2 \n",
    "            + np.dot(v_2, r_vec)*np.dot(v_1, r_vec)*r_vec[j]/r**4) + 2*(m_1 + m_2)*r_vec[j]/r**3)\n",
    "\n",
    "    return acc_1, acc_2\n",
    "\n",
    "def boostEIH(v_1, v_2, a_1, a_2, dt):\n",
    "    v_1 = v_1 + a_1*dt\n",
    "    v_2 = v_2 + a_2*dt\n",
    "    return v_1, v_2\n",
    "\n",
    "def moveEIH(r_1, r_2, v_1, v_2, dt):\n",
    "    r_1 = r_1 + v_1*dt\n",
    "    r_2 = r_2 + v_2*dt\n",
    "    return r_1, r_2\n"
   ]
  },
  {
   "cell_type": "code",
   "execution_count": 6,
   "metadata": {},
   "outputs": [],
   "source": [
    "r_1 = np.array([123,-97.4])\n",
    "r_2 = np.array([-291,223])\n",
    "v_1 = np.array([-1,1])\n",
    "v_2 = np.array([2,-2])\n",
    "a_1 = np.array([1,2])\n",
    "a_2 = np.array([3,2])\n",
    "m_1 = 3\n",
    "m_2 = 5\n",
    "\n",
    "\n",
    "dt = 10\n",
    "t = np.arange(0,1000,dt)\n",
    "\n",
    "pos1 = [], []\n",
    "\n",
    "for i in t:\n",
    "    pos1[0].append(r_1[0])\n",
    "    pos1[1].append(r_1[1])\n",
    "    # pos2.append(r_2)\n",
    "    # vel1.append(v_1)\n",
    "    # vel2.append(v_2)\n",
    "    # acc1.append(a_1)\n",
    "    # acc2.append(a_2)\n",
    "    a_1, a_2 = accelerationEIH(r_1, r_2, v_1, v_2, a_1, a_2, m_1, m_2)\n",
    "    v_1, v_2 = boostEIH(v_1, v_2, a_1, a_2, dt)\n",
    "    r_1, r_2 = moveEIH(r_1, r_2, v_1, v_2, dt)\n",
    "    \n",
    "\n",
    "\n",
    "# plt.plot(pos1[0], pos1[1])\n"
   ]
  },
  {
   "cell_type": "code",
   "execution_count": 7,
   "metadata": {},
   "outputs": [
    {
     "data": {
      "text/plain": [
       "2"
      ]
     },
     "execution_count": 7,
     "metadata": {},
     "output_type": "execute_result"
    }
   ],
   "source": [
    "len(pos1)"
   ]
  },
  {
   "cell_type": "code",
   "execution_count": null,
   "metadata": {},
   "outputs": [],
   "source": []
  },
  {
   "cell_type": "code",
   "execution_count": null,
   "metadata": {},
   "outputs": [],
   "source": []
  },
  {
   "cell_type": "code",
   "execution_count": null,
   "metadata": {},
   "outputs": [],
   "source": []
  }
 ],
 "metadata": {
  "interpreter": {
   "hash": "ae4ce7cb7bfb7d2cfaf4129cf150182a1e5ac3ebe708cb00e3cc111dd7207a44"
  },
  "kernelspec": {
   "display_name": "Python 3.9.7 64-bit",
   "language": "python",
   "name": "python3"
  },
  "language_info": {
   "codemirror_mode": {
    "name": "ipython",
    "version": 3
   },
   "file_extension": ".py",
   "mimetype": "text/x-python",
   "name": "python",
   "nbconvert_exporter": "python",
   "pygments_lexer": "ipython3",
   "version": "3.9.7"
  },
  "orig_nbformat": 4
 },
 "nbformat": 4,
 "nbformat_minor": 2
}
