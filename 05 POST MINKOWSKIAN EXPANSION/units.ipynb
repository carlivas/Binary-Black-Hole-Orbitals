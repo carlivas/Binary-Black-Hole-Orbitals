{
 "cells": [
  {
   "cell_type": "code",
   "execution_count": 2,
   "metadata": {},
   "outputs": [],
   "source": [
    "import numpy as np\n",
    "from astropy import constants as const\n",
    "from astropy import units as u\n",
    "\n",
    "c = const.c\n",
    "G = const.G\n",
    "AU = u.AU\n",
    "AUm = u.AU.to('m')*u.m\n",
    "lyr = u.lightyear\n",
    "M_sun = const.M_sun\n",
    "M_earth = const.M_earth"
   ]
  },
  {
   "cell_type": "code",
   "execution_count": 3,
   "metadata": {},
   "outputs": [
    {
     "name": "stdout",
     "output_type": "stream",
     "text": [
      "[mass] = 1 * M_sun = 1.988e+30 kg\n",
      "[distance] = 1 * G*M_sun/c**2 = 1.477e+03 m\n",
      "[velocity] = 1 * c = 2.998e+08 m / s\n",
      "[gravitational constant] = 1 * G = 6.674e-11 m3 / (kg s2)\n",
      "\n",
      "[time] = 1 * G*M_sun/c**3 = 4.925e-06 s\n",
      "[force] = 1 * G*M_sun**2/AU**2 = 1.179e+28 kg m / s2\n",
      "[acceleration] = 1 * G*M_sun/AU**2 = 5.930e-03 m / s2\n",
      "[Energy] = 1 * M_sun * c**2 = 1.787e+47 kg m2 / s2\n"
     ]
    }
   ],
   "source": [
    "print(f'[mass] = 1 * M_sun = {M_sun:.3e}')\n",
    "print(f'[distance] = 1 * G*M_sun/c**2 = {G*M_sun/c**2:.3e}')\n",
    "print(f'[velocity] = 1 * c = {c:.3e}')\n",
    "print(f'[gravitational constant] = 1 * G = {G:.3e}\\n')\n",
    "\n",
    "print(f'[time] = 1 * G*M_sun/c**3 = {G*M_sun/c**3:.3e}')\n",
    "print(f'[force] = 1 * G*M_sun**2/AU**2 = {(G*M_sun**2/AU**2).decompose():.3e}')\n",
    "print(f'[acceleration] = 1 * G*M_sun/AU**2 = {(G*M_sun/AU**2).decompose():.3e}')\n",
    "print(f'[Energy] = 1 * M_sun * c**2 = {M_sun*c**2:.3e}')"
   ]
  },
  {
   "cell_type": "code",
   "execution_count": null,
   "metadata": {},
   "outputs": [],
   "source": []
  },
  {
   "cell_type": "code",
   "execution_count": 91,
   "metadata": {},
   "outputs": [
    {
     "data": {
      "text/latex": [
       "$3.6695925 \\times 10^{13} \\; \\mathrm{\\frac{kg^{1/2}}{m^{1/2}}}$"
      ],
      "text/plain": [
       "<Quantity 3.66959251e+13 kg(1/2) / m(1/2)>"
      ]
     },
     "execution_count": 91,
     "metadata": {},
     "output_type": "execute_result"
    }
   ],
   "source": [
    "np.sqrt(c**2/G)"
   ]
  },
  {
   "cell_type": "code",
   "execution_count": 92,
   "metadata": {},
   "outputs": [
    {
     "name": "stdout",
     "output_type": "stream",
     "text": [
      "t_max = 99345.883, dt = 0.9934588\n"
     ]
    }
   ],
   "source": [
    "m_1 = b1_mass = 2                           # [M_sun]\n",
    "m_2 = b2_mass = 2                           # [M_sun]\n",
    "\n",
    "R_S = 2*(b1_mass + b2_mass)                 # [M_sun*G/c**2]\n",
    "\n",
    "mass_bin = b1_mass + b2_mass                # [M_sun]\n",
    "SMA_bin = 1000                              # [M_sun*G/c**2]  #SemiMajorAxis_binary\n",
    "\n",
    "\n",
    "v_redmass = np.sqrt(mass_bin/SMA_bin)     # [velocity]        ######### PROBLEM #########\n",
    "x_1 = CB_b1_posxyz_binCM  = np.array([ (b2_mass/mass_bin)*SMA_bin,  0])\n",
    "x_2 = CB_b2_posxyz_binCM  = np.array([-(b1_mass/mass_bin)*SMA_bin,  0])\n",
    "v_1 = CB_b1_velxyz_binCM  = np.array([0, (b2_mass/mass_bin)*v_redmass])\n",
    "v_2 = CB_b2_velxyz_binCM  = np.array([0,-(b1_mass/mass_bin)*v_redmass])\n",
    "\n",
    "t_max = 2*np.pi*np.sqrt(SMA_bin**3/(mass_bin))\n",
    "res = 1e5\n",
    "dt = t_max/res\n",
    "\n",
    "print(f't_max = {t_max:.3f}, dt = {dt:.7f}')\n"
   ]
  },
  {
   "cell_type": "code",
   "execution_count": 93,
   "metadata": {},
   "outputs": [
    {
     "name": "stdout",
     "output_type": "stream",
     "text": [
      "t_max = 0.489 s, dt = 0.0000049 s\n"
     ]
    },
    {
     "data": {
      "text/latex": [
       "$125 \\; \\mathrm{}$"
      ],
      "text/plain": [
       "<Quantity 125.>"
      ]
     },
     "execution_count": 93,
     "metadata": {},
     "output_type": "execute_result"
    }
   ],
   "source": [
    "m_1 = b1_mass = 2*M_sun                     # [mass]\n",
    "m_2 = b2_mass = 2*M_sun                     # [mass]\n",
    "\n",
    "R_S = 2*(b1_mass + b2_mass)*G/c**2          # [distance]\n",
    "\n",
    "mass_bin = b1_mass + b2_mass                # [mass]\n",
    "SMA_bin = 1000*M_sun*G/c**2                 # [distance]  #SemiMajorAxis_binary\n",
    "\n",
    "v_redmass = np.sqrt(mass_bin*G/SMA_bin)     # [velocity]\n",
    "\n",
    "\n",
    "x_1 = CB_b1_posxyz_binCM  = np.array([ (b2_mass/mass_bin)*SMA_bin.value,  0])           # [distance]\n",
    "x_2 = CB_b2_posxyz_binCM  = np.array([-(b1_mass/mass_bin)*SMA_bin.value,  0])           # [distance]\n",
    "v_1 = CB_b1_velxyz_binCM  = np.array([0, (b2_mass/mass_bin)*v_redmass.value])           # [velocity]\n",
    "v_2 = CB_b2_velxyz_binCM  = np.array([0,-(b1_mass/mass_bin)*v_redmass.value])           # [velocity]\n",
    "\n",
    "\n",
    "t_max = 2*np.pi*np.sqrt(SMA_bin**3/(G*mass_bin))\n",
    "res = 1e5\n",
    "dt = t_max/res\n",
    "\n",
    "print(f't_max = {t_max:.3f}, dt = {dt:.7f}')\n",
    "\n",
    "SMA_bin/R_S"
   ]
  },
  {
   "cell_type": "markdown",
   "metadata": {},
   "source": [
    "# Earth sun units"
   ]
  },
  {
   "cell_type": "code",
   "execution_count": 94,
   "metadata": {},
   "outputs": [
    {
     "name": "stdout",
     "output_type": "stream",
     "text": [
      "t_max = 365.199 d, dt = 315.5316362 s\n"
     ]
    }
   ],
   "source": [
    "M_sun = const.M_sun\n",
    "G = const.G\n",
    "c = const.c\n",
    "\n",
    "m_1 = b1_mass = 3.003e-6                # [M_sun]\n",
    "m_2 = b2_mass = 1                       # [M_sun]\n",
    "\n",
    "R_S = 2*(b1_mass + b2_mass)             # [G*M_sun/c**2]\n",
    "\n",
    "mass_bin = b1_mass + b2_mass            # [M_sun]\n",
    "SMA_bin = 1.013e8                       # [G*M_sun/c**2]  #SemiMajorAxis_binary\n",
    "\n",
    "v_redmass = np.sqrt(mass_bin/SMA_bin)   # [np.sqrt(G*M_sun/G*M_sun/c**2) = c]\n",
    "\n",
    "\n",
    "x_1 = CB_b1_posxyz_binCM  = np.array([ (b2_mass/mass_bin)*SMA_bin,  0])     # [G*M_sun/c**2]\n",
    "x_2 = CB_b2_posxyz_binCM  = np.array([-(b1_mass/mass_bin)*SMA_bin,  0])     # [G*M_sun/c**2]\n",
    "v_1 = CB_b1_velxyz_binCM  = np.array([0, (b2_mass/mass_bin)*v_redmass])     # [c]\n",
    "v_2 = CB_b2_velxyz_binCM  = np.array([0,-(b1_mass/mass_bin)*v_redmass])     # [c]\n",
    "\n",
    "\n",
    "t_max = (2*np.pi*np.sqrt(SMA_bin**3/(mass_bin)))    # [np.sqrt((G*M_sun/c**2)**3/G*M_sun) = np.sqrt((G*M_sun)**2/c**6) = G*M_sun/c**3]\n",
    "res = 1e5\n",
    "dt = (t_max/res)                                    # [G*M_sun/c**3]\n",
    "\n",
    "\n",
    "t_max = (t_max*G*M_sun/c**3).to('day')\n",
    "print(f't_max = {t_max:.3f}, dt = {dt*G*M_sun/c**3:.7f}')"
   ]
  },
  {
   "cell_type": "code",
   "execution_count": 95,
   "metadata": {},
   "outputs": [
    {
     "name": "stdout",
     "output_type": "stream",
     "text": [
      "t_max = 365.199 d, dt = 315.5316362 s\n"
     ]
    }
   ],
   "source": [
    "m_1 = b1_mass = 3.003e-6*M_sun              # [mass]\n",
    "m_2 = b2_mass = 1*M_sun                     # [mass]\n",
    "\n",
    "R_S = 2*(b1_mass + b2_mass)*G/c**2          # [distance]\n",
    "\n",
    "mass_bin = b1_mass + b2_mass                # [mass]\n",
    "SMA_bin = 1.013e8*G*M_sun/c**2              # [distance]  #SemiMajorAxis_binary\n",
    "\n",
    "v_redmass = np.sqrt(mass_bin*G/SMA_bin)     # [velocity]\n",
    "\n",
    "\n",
    "x_1 = CB_b1_posxyz_binCM  = np.array([ (b2_mass/mass_bin)*SMA_bin.value,  0])           # [distance]\n",
    "x_2 = CB_b2_posxyz_binCM  = np.array([-(b1_mass/mass_bin)*SMA_bin.value,  0])           # [distance]\n",
    "v_1 = CB_b1_velxyz_binCM  = np.array([0, (b2_mass/mass_bin)*v_redmass.value])           # [velocity]\n",
    "v_2 = CB_b2_velxyz_binCM  = np.array([0,-(b1_mass/mass_bin)*v_redmass.value])           # [velocity]\n",
    "\n",
    "\n",
    "t_max = (2*np.pi*np.sqrt(SMA_bin**3/(G*mass_bin))).to('day')    # [time]\n",
    "res = 1e5\n",
    "dt = (t_max/res).to('s')                                        # [time]\n",
    "\n",
    "print(f't_max = {t_max:.3f}, dt = {dt:.7f}')"
   ]
  },
  {
   "cell_type": "code",
   "execution_count": null,
   "metadata": {},
   "outputs": [],
   "source": []
  }
 ],
 "metadata": {
  "interpreter": {
   "hash": "2f44e314e6deab7e71bdc9e7e9d0cce8baaeffc7fc0f298c6c078c1c52c26140"
  },
  "kernelspec": {
   "display_name": "Python 3.9.7 64-bit",
   "language": "python",
   "name": "python3"
  },
  "language_info": {
   "codemirror_mode": {
    "name": "ipython",
    "version": 3
   },
   "file_extension": ".py",
   "mimetype": "text/x-python",
   "name": "python",
   "nbconvert_exporter": "python",
   "pygments_lexer": "ipython3",
   "version": "3.9.7"
  },
  "orig_nbformat": 4
 },
 "nbformat": 4,
 "nbformat_minor": 2
}
