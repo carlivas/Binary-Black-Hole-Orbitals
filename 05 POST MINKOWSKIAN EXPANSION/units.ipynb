{
 "cells": [
  {
   "cell_type": "code",
   "execution_count": 31,
   "metadata": {},
   "outputs": [],
   "source": [
    "import numpy as np\n",
    "from astropy import constants as const\n",
    "from astropy import units as u\n",
    "\n",
    "c = const.c\n",
    "G = const.G\n",
    "AU = u.AU\n",
    "AUm = u.AU.to('m')*u.m\n",
    "lyr = u.lightyear\n",
    "M_sun = const.M_sun\n",
    "M_earth = const.M_earth"
   ]
  },
  {
   "cell_type": "code",
   "execution_count": 32,
   "metadata": {},
   "outputs": [
    {
     "name": "stdout",
     "output_type": "stream",
     "text": [
      "[mass] = 1 * M_sun = 1.988e+30 kg\n",
      "[distance] = 1 * AU = 1.496e+11 m\n",
      "[velocity] = 1 * c = 2.998e+08 m / s\n",
      "[gravitational constant] = 1 * G = 6.674e-11 m3 / (kg s2)\n",
      "\n",
      "[time] = 1 * AU/c = 3.336e-09 AU s / m\n",
      "[force] = 1 * G*M_sun**2/AU**2 = 1.179e+28 kg m / s2\n",
      "[acceleration] = 1 * G*M_sun/AU**2 = 5.930e-03 m / s2\n"
     ]
    }
   ],
   "source": [
    "print(f'[mass] = 1 * M_sun = {M_sun:.3e}')\n",
    "print(f'[distance] = 1 * AU = {AUm:.3e}')\n",
    "print(f'[velocity] = 1 * c = {c:.3e}')\n",
    "print(f'[gravitational constant] = 1 * G = {G:.3e}\\n')\n",
    "\n",
    "print(f'[time] = 1 * AU/c = {AU/c:.3e}')\n",
    "print(f'[force] = 1 * G*M_sun**2/AU**2 = {(G*M_sun**2/AU**2).decompose():.3e}')\n",
    "print(f'[acceleration] = 1 * G*M_sun/AU**2 = {(G*M_sun/AU**2).decompose():.3e}')"
   ]
  },
  {
   "cell_type": "code",
   "execution_count": 35,
   "metadata": {},
   "outputs": [
    {
     "data": {
      "text/latex": [
       "$499.00478 \\; \\mathrm{s}$"
      ],
      "text/plain": [
       "<Quantity 499.00478384 s>"
      ]
     },
     "execution_count": 35,
     "metadata": {},
     "output_type": "execute_result"
    }
   ],
   "source": []
  },
  {
   "cell_type": "code",
   "execution_count": 65,
   "metadata": {},
   "outputs": [
    {
     "data": {
      "text/latex": [
       "$3.0034893 \\times 10^{-6} \\; \\mathrm{}$"
      ],
      "text/plain": [
       "<Quantity 3.00348935e-06>"
      ]
     },
     "execution_count": 65,
     "metadata": {},
     "output_type": "execute_result"
    }
   ],
   "source": [
    "M_earth/M_sun"
   ]
  },
  {
   "cell_type": "code",
   "execution_count": null,
   "metadata": {},
   "outputs": [],
   "source": []
  }
 ],
 "metadata": {
  "interpreter": {
   "hash": "2f44e314e6deab7e71bdc9e7e9d0cce8baaeffc7fc0f298c6c078c1c52c26140"
  },
  "kernelspec": {
   "display_name": "Python 3.9.7 64-bit",
   "language": "python",
   "name": "python3"
  },
  "language_info": {
   "codemirror_mode": {
    "name": "ipython",
    "version": 3
   },
   "file_extension": ".py",
   "mimetype": "text/x-python",
   "name": "python",
   "nbconvert_exporter": "python",
   "pygments_lexer": "ipython3",
   "version": "3.9.7"
  },
  "orig_nbformat": 4
 },
 "nbformat": 4,
 "nbformat_minor": 2
}
