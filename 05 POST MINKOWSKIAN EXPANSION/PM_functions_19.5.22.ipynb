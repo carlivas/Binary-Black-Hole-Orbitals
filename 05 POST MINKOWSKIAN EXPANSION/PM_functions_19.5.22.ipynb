{
 "cells": [
  {
   "cell_type": "code",
   "execution_count": 51,
   "metadata": {},
   "outputs": [],
   "source": [
    "import numpy as np\n",
    "import matplotlib.pyplot as plt\n",
    "from astropy import constants as const\n",
    "from astropy import units as u\n",
    "\n",
    "c = const.c.value\n",
    "G = const.G.value\n",
    "AU = (1*u.au).to('m').value\n",
    "M_sun = const.M_sun.value\n",
    "M_earth = const.M_earth.value"
   ]
  },
  {
   "cell_type": "markdown",
   "metadata": {},
   "source": [
    "### Basic utility functions"
   ]
  },
  {
   "cell_type": "code",
   "execution_count": 52,
   "metadata": {},
   "outputs": [],
   "source": [
    "def rel_len(x_1, x_2):\n",
    "    r_vec = x_1 - x_2\n",
    "    r = np.linalg.norm(r_vec)\n",
    "    return r\n",
    "\n",
    "def findrCM(x_1, x_2, m_1, m_2):\n",
    "    M = m_1 + m_2\n",
    "    r_cm = (m_1*x_1 + m_2*x_2)/M\n",
    "    return r_cm\n",
    "\n",
    "def γ(v, DL):\n",
    "    if DL == True:\n",
    "        c = 1\n",
    "    else:\n",
    "        c = const.c.value\n",
    "    return 1/np.sqrt(1 - np.dot(v,v)/c**2)"
   ]
  },
  {
   "cell_type": "markdown",
   "metadata": {},
   "source": [
    "### Acceleration equation and integration functions"
   ]
  },
  {
   "cell_type": "code",
   "execution_count": 53,
   "metadata": {},
   "outputs": [],
   "source": [
    "def accelerationPM(x_1, x_2, v_1, v_2, m_1, m_2, DL, particle):\n",
    "    if DL == True:\n",
    "        G, c = 1, 1\n",
    "    else:\n",
    "        c = const.c.value\n",
    "        G = const.G.value\n",
    "    \n",
    "    if particle == 1:\n",
    "        p_vec = m_1*v_1\n",
    "    else:\n",
    "        p_vec = m_2*v_2\n",
    "\n",
    "    r_vec = x_1 - x_2\n",
    "    v_vec = v_1 - v_2\n",
    "\n",
    "    r = np.linalg.norm(r_vec)\n",
    "    v = np.linalg.norm(v_vec)\n",
    "    \n",
    "    r_dot = np.dot(r_vec, v_vec)/r\n",
    "\n",
    "\n",
    "    # WHAT ABOUT γ?!!?!?!\n",
    "    p = np.linalg.norm(p_vec)\n",
    "\n",
    "\n",
    "    E_1 = np.sqrt((m_1*c**2)**2 + (p*c)**2)\n",
    "    E_2 = np.sqrt((m_2*c**2)**2 + (p*c)**2)\n",
    "    c_1 = (m_1*m_2*c**2)**2 - 2*(E_1*E_2/c**2 + p**2)**2\n",
    "\n",
    "    p_vec_dot = G*c_1/(E_1*E_2*r**3)*r_vec\n",
    "    p_dot = np.linalg.norm(p_vec_dot)\n",
    "\n",
    "    dE_1dp = p_vec*c**2/E_1\n",
    "    dE_2dp = p_vec*c**2/E_2\n",
    "    E_1_dot = np.dot(dE_1dp, p_vec_dot)\n",
    "    E_2_dot = np.dot(dE_2dp, p_vec_dot)\n",
    "    dE_1dp_dot = p_vec_dot*c**2/E_1 - p_vec*c**2/E_1**2*E_1_dot\n",
    "    dE_2dp_dot = p_vec_dot*c**2/E_2 - p_vec*c**2/E_2**2*E_2_dot\n",
    "\n",
    "\n",
    "    dc_1dp = -4*(E_1*E_2/c**2 + p**2)*((dE_1dp*E_2 + E_1*dE_2dp)/c**2 + 2*p_vec)\n",
    "    c_1_dot = -4*(E_1*E_2/c**2 + p**2)*((E_1_dot*E_2 + E_1*E_2_dot)/c**2 + 2*np.dot(p_vec, p_vec_dot))\n",
    "    dc_1dp_dot = -4*( ((E_1_dot*E_2 + E_1*E_2_dot)/c**2 + 2*p_vec*p_vec_dot)*((dE_1dp*E_2 + E_1*dE_2dp)/c**2 + 2*p_vec) + (E_1*E_2/c**2 + p**2)*((dE_1dp_dot*E_2 + dE_1dp*E_2_dot + E_1_dot*dE_2dp + E_1*dE_2dp_dot)/c**2 + 2*p_vec_dot) )\n",
    "\n",
    "\n",
    "    q_dot = dE_1dp + dE_2dp + G/(E_1**2*E_2**2*r)*( E_1*E_2*dc_1dp - c_1*(dE_1dp*E_2 + E_1*dE_2dp) )\n",
    "\n",
    "\n",
    "    a = dE_1dp_dot + dE_2dp_dot + G/(E_1**2*E_2**2*r)*(  -( r_dot/r + 2*E_1_dot/E_1 + 2*E_2_dot/E_2 )*( E_1*E_2*dc_1dp - c_1*(dE_1dp*E_1 + E_1*dE_2dp) ) + (E_1_dot*E_2 + E_1*E_2_dot)*dc_1dp + E_1*E_2*dc_1dp_dot - c_1_dot*(dE_1dp*E_2 + E_1*dE_2dp) - c_1*(dE_1dp_dot*E_2 + dE_1dp*E_2_dot + E_1_dot*dE_2dp + E_1*dE_2dp_dot) )\n",
    "    \n",
    "\n",
    "    return a\n",
    "\n",
    "def boost(v_1, v_2, a_1, a_2, dt):\n",
    "    v_1 += a_1*dt\n",
    "    v_2 += a_2*dt\n",
    "    return np.array([v_1, v_2])\n",
    "\n",
    "def move(x_1, x_2, v_1, v_2, dt):\n",
    "    x_1 += v_1*dt\n",
    "    x_2 += v_2*dt\n",
    "    return np.array([x_1, x_2])\n",
    "\n",
    "# def boost1(v_vec, a, dt):\n",
    "#     v_vec += a*dt\n",
    "#     return v_vec\n",
    "\n",
    "# def move1(r_vec, v_vec, dt):\n",
    "#     r_vec += v_vec*dt\n",
    "#     return r_vec"
   ]
  },
  {
   "cell_type": "markdown",
   "metadata": {},
   "source": [
    "### This runs the simulation"
   ]
  },
  {
   "cell_type": "code",
   "execution_count": 54,
   "metadata": {},
   "outputs": [],
   "source": [
    "def run_model(s, t_max, dt, DL = False):\n",
    "    if DL == True:\n",
    "        G, c = 1, 1\n",
    "    else:\n",
    "        c = const.c.value\n",
    "        G = const.G.value\n",
    "    \n",
    "    x_1, x_2, v_1, v_2, m_1, m_2 = s\n",
    "    \n",
    "    R_S = 2*(m_1 + m_2)*G/c**2\n",
    "\n",
    "    pos1 = np.zeros((2, int(t_max/dt)))\n",
    "    pos2 = np.zeros((2, int(t_max/dt)))\n",
    "    pos_CM = np.zeros((2, int(t_max/dt)))\n",
    "\n",
    "    # r_init = rel_len(x_1, x_2)\n",
    "\n",
    "\n",
    "    \n",
    "    for i in range(int(t_max/dt)):\n",
    "        # if rel_len(x_1, x_2) <= 5*R_S:\n",
    "        #     print('Code interrupted: Radial Dip')\n",
    "        #     pos1, pos2, pos_CM = pos1[:,0:i], pos2[:,0:i], pos_CM[:,0:i]\n",
    "        #     break\n",
    "        # elif rel_len(x_1, x_2) >= 5*r_init:\n",
    "        #     print('Code interrupted: Max distance')\n",
    "        #     pos1, pos2, pos_CM = pos1[:,0:i], pos2[:,0:i], pos_CM[:,0:i]\n",
    "        #     break\n",
    "\n",
    "\n",
    "        pos1[:,i] = x_1\n",
    "        pos2[:,i] = x_2\n",
    "        pos_CM[:,i] = findrCM(x_1, x_2, m_1, m_2)\n",
    "\n",
    "\n",
    "        a_1 = accelerationPM(x_1, x_2, v_1, v_2, m_1, m_2, DL, particle = 1)\n",
    "        a_2 = accelerationPM(x_1, x_2, v_1, v_2, m_1, m_2, DL, particle = 2)\n",
    "\n",
    "        v_1, v_2 = boost(v_1, v_2, a_1, a_2, dt)\n",
    "        x_1, x_2 = move(x_1, x_2, v_1, v_2, dt)\n",
    "\n",
    "        # v_1 = boost1(v_1, a, dt)\n",
    "        # x_1 = move1(x_1, v_1, dt)\n",
    "\n",
    "    \n",
    "    positions = np.array([pos1, pos2, pos_CM])\n",
    "    return positions"
   ]
  },
  {
   "cell_type": "markdown",
   "metadata": {},
   "source": [
    "### Plotting functions"
   ]
  },
  {
   "cell_type": "code",
   "execution_count": 55,
   "metadata": {},
   "outputs": [],
   "source": [
    "def findMaxPos(pos):\n",
    "    xmax, xmin, ymax, ymin = max(pos[0]), min(pos[0]), max(pos[1]), min(pos[1])\n",
    "    return xmax, xmin, ymax, ymin\n",
    "\n",
    "def plotLims(pos):\n",
    "    start_pos = np.array([pos[0][0], pos[1][0]])\n",
    "    end_pos = np.array([pos[0][-1], pos[1][-1]])\n",
    "\n",
    "    xmax, xmin, ymax, ymin = findMaxPos(pos)\n",
    "    max_pos = max(max(abs(start_pos)),max(abs(end_pos)))\n",
    "\n",
    "    xlim = (xmin-0.1*max_pos, xmax+0.1*max_pos)\n",
    "    ylim = (ymin-0.1*max_pos, ymax+0.1*max_pos)\n",
    "    return xlim, ylim\n",
    "\n",
    "def plotLimsTwoBody(pos1, pos2):\n",
    "    start_pos1 = np.array([pos1[0][0], pos1[1][0]])\n",
    "    end_pos1 = np.array([pos1[0][-1], pos1[1][-1]])\n",
    "    start_pos2 = np.array([pos2[0][0], pos2[1][0]])\n",
    "    end_pos2 = np.array([pos2[0][-1], pos2[1][-1]])\n",
    "\n",
    "    x1max, x1min, y1max, y1min = findMaxPos(pos1)\n",
    "    x2max, x2min, y2max, y2min = findMaxPos(pos2)\n",
    "\n",
    "    xmax = max(x1max, x2max)\n",
    "    xmin = min(x1min, x2min)\n",
    "    ymax = max(y1max, y2max)\n",
    "    ymin = min(y1min, y2min)\n",
    "\n",
    "    max_pos1 = max(max(abs(start_pos1)),max(abs(end_pos1)))\n",
    "    max_pos2 = max(max(abs(start_pos2)),max(abs(end_pos2)))\n",
    "    max_pos = max(max_pos1, max_pos2)\n",
    "\n",
    "    xlim = (xmin-0.1*max_pos, xmax+0.1*max_pos)\n",
    "    ylim = (ymin-0.1*max_pos, ymax+0.1*max_pos)\n",
    "    return xlim, ylim\n",
    "\n",
    "def orbPlotter(positions, positionsN = 0, xlim = 0, ylim = 0, slice = slice(0, -1, 1), aspect = 1, filename='', CM = True, save = False, show = True, DL = False, N = False, figsize=(8,8)):\n",
    "    if DL == False:\n",
    "        x_1, x_2, x_cm = positions[0:3,:,slice]/149597871000\n",
    "    else:\n",
    "        x_1, x_2, x_cm = positions[0:3,:,slice]\n",
    "    if CM == True:\n",
    "        x_1 = x_1 - x_cm\n",
    "        x_2 = x_2 - x_cm\n",
    "        x_cm = np.zeros_like(x_1)\n",
    "\n",
    "    fig, ax = plt.subplots(figsize=figsize)\n",
    "    if type(xlim) != tuple:\n",
    "        xlim = plotLimsTwoBody(x_1, x_2)[0]\n",
    "    if type(ylim) != tuple:\n",
    "        ylim = plotLimsTwoBody(x_1, x_2)[1]\n",
    "    \n",
    "    ax.set_xlim(xlim)\n",
    "    ax.set_ylim(ylim)\n",
    "\n",
    "    # if type(positionsN) == np.ndarray:\n",
    "    #     if DL == False:\n",
    "    #         x_1N, x_2N, x_cmN = positionsN[0:3,:,slice]/149597871000\n",
    "    #     else:\n",
    "    #         x_1N, x_2N, x_cmN = positionsN[0:3,:,slice]\n",
    "    #     if CM == True:\n",
    "    #         x_1N = x_1N - x_cmN\n",
    "    #         x_2N = x_2N - x_cmN\n",
    "    #     ax.plot(x_1N[0], x_1N[1], 'y', lw=0.5, label='Newtonian motion')\n",
    "    #     ax.plot(x_2N[0], x_2N[1], 'y', lw=0.5, label='Newtonian motion')\n",
    "\n",
    "    if CM == False:\n",
    "        ax.plot(x_cm[0], x_cm[1], 'g:',label = 'CM')\n",
    "        ax.plot(x_cm[0][0], x_cm[1][0], 'gx',markersize=8)\n",
    "        ax.plot(x_cm[0][-1], x_cm[1][-1], 'g.',markersize=8)\n",
    "\n",
    "    ax.plot(x_1[0], x_1[1],'b')\n",
    "    ax.plot(x_1[0][0], x_1[1][0], 'bx', label = 'm_1 start', markersize=15)\n",
    "    ax.plot(x_1[0][-1], x_1[1][-1], 'b.', label = 'm_1 stop',markersize=15)\n",
    "\n",
    "    ax.plot(x_2[0], x_2[1],'r')\n",
    "    ax.plot(x_2[0][0], x_2[1][0], 'rx', label = 'm_2 start', markersize=15)\n",
    "    ax.plot(x_2[0][-1], x_2[1][-1], 'r.', label = 'm_2 stop',markersize=15)\n",
    "\n",
    "    # if DL == True:\n",
    "    #     ax.set_xlabel('$R_S$', fontsize = 15)\n",
    "    #     ax.set_ylabel('$R_S$', fontsize = 15)\n",
    "    # else:\n",
    "    #     ax.set_xlabel('$x \\ [\\mathrm{AU}]$', fontsize = 15)\n",
    "    #     ax.set_ylabel('$y \\ [\\mathrm{AU}]$', fontsize = 15)  \n",
    "    ax.grid(c='grey', alpha=0.2, ls ='--')\n",
    "    ax.set_aspect(aspect)\n",
    "    ax.set_title(f'{filename}', fontsize = 20)\n",
    "    ax.legend(facecolor='grey', fontsize = 12, bbox_to_anchor=(1.01,1), loc='upper left')\n",
    "\n",
    "    plt.title(f'{filename}', fontsize=25, y=1.08)\n",
    "    fig.patch.set_facecolor('white')\n",
    "    fig.tight_layout()\n",
    "    if show == False:\n",
    "        plt.close(fig)\n",
    "    if save == True:\n",
    "        fig.savefig(f'./Plots/{filename}.png', dpi=300, transparent = False)\n",
    "    return"
   ]
  },
  {
   "cell_type": "markdown",
   "metadata": {},
   "source": [
    "### Example case\n",
    "We're not completely sure about the actual units yet..."
   ]
  },
  {
   "cell_type": "code",
   "execution_count": null,
   "metadata": {},
   "outputs": [],
   "source": [
    "m_1 = 1e-4\n",
    "m_2 = 1\n",
    "\n",
    "R_S = 2*(m_1 + m_2)*G/c**2\n",
    "\n",
    "x_1 = np.array([1000, 0.])\n",
    "x_2 = np.array([0.,   0.])\n",
    "v_1 = np.array([0., 0.01])\n",
    "v_2 = np.array([0.,    0])\n",
    "s = x_1, x_2, v_1, v_2, m_1, m_2\n",
    "\n",
    "t_max = 202750*3\n",
    "dt = 2\n",
    "\n",
    "positions = run_model(s, t_max, dt, DL = True)"
   ]
  },
  {
   "cell_type": "code",
   "execution_count": 56,
   "metadata": {},
   "outputs": [],
   "source": [
    "m_1 = b1_mass = 2\n",
    "m_2 = b2_mass = 2\n",
    "\n",
    "R_S = 2*(b1_mass + b2_mass)*G/c**2\n",
    "\n",
    "mass_bin = b1_mass + b2_mass\n",
    "SMA_bin = 1000\n",
    "v_redmass = np.sqrt(mass_bin/SMA_bin)\n",
    "x_1 = CB_b1_posxyz_binCM  = np.array([ (b2_mass/mass_bin)*SMA_bin,  0])\n",
    "x_2 = CB_b2_posxyz_binCM  = np.array([-(b1_mass/mass_bin)*SMA_bin,  0])\n",
    "v_1 = CB_b1_velxyz_binCM  = np.array([0, (b2_mass/mass_bin)*v_redmass])\n",
    "v_2 = CB_b2_velxyz_binCM  = np.array([0,-(b1_mass/mass_bin)*v_redmass])\n",
    "\n",
    "s = x_1, x_2, v_1, v_2, m_1, m_2\n",
    "\n",
    "t_max = 5e4\n",
    "res = 1e5\n",
    "dt = t_max/res\n",
    "\n",
    "positions = run_model(s, t_max, dt, DL = True)"
   ]
  },
  {
   "cell_type": "code",
   "execution_count": 57,
   "metadata": {},
   "outputs": [
    {
     "data": {
      "image/png": "[encoded data removed]",
      "text/plain": [
       "<Figure size 576x576 with 1 Axes>"
      ]
     },
     "metadata": {},
     "output_type": "display_data"
    }
   ],
   "source": [
    "# lim = 1000\n",
    "# orbPlotter(positions, DL = True, xlim=(-lim,lim), ylim=(-lim,lim))\n",
    "\n",
    "orbPlotter(positions, DL = True, CM = True)"
   ]
  },
  {
   "cell_type": "code",
   "execution_count": null,
   "metadata": {},
   "outputs": [],
   "source": []
  },
  {
   "cell_type": "code",
   "execution_count": null,
   "metadata": {},
   "outputs": [],
   "source": [
    "dE_1dp_dot"
   ]
  },
  {
   "cell_type": "code",
   "execution_count": 42,
   "metadata": {},
   "outputs": [
    {
     "data": {
      "text/plain": [
       "array([[0., 0., 0., ..., 0., 0., 0.],\n",
       "       [0., 0., 0., ..., 0., 0., 0.]])"
      ]
     },
     "execution_count": 42,
     "metadata": {},
     "output_type": "execute_result"
    }
   ],
   "source": [
    "positions[2]"
   ]
  },
  {
   "cell_type": "code",
   "execution_count": 48,
   "metadata": {},
   "outputs": [],
   "source": [
    "m_1 = b1_mass = 1\n",
    "m_2 = b2_mass = 2\n",
    "\n",
    "R_S = 2*(b1_mass + b2_mass)*G/c**2\n",
    "\n",
    "mass_bin = b1_mass + b2_mass\n",
    "SMA_bin = 1000\n",
    "v_redmass = np.sqrt(mass_bin/SMA_bin)\n",
    "x_1 = CB_b1_posxyz_binCM  = np.array([ (b2_mass/mass_bin)*SMA_bin,  0])\n",
    "x_2 = CB_b2_posxyz_binCM  = np.array([-(b1_mass/mass_bin)*SMA_bin,  0])\n",
    "v_1 = CB_b1_velxyz_binCM  = np.array([0, (b2_mass/mass_bin)*v_redmass])\n",
    "v_2 = CB_b2_velxyz_binCM  = np.array([0,-(b1_mass/mass_bin)*v_redmass])"
   ]
  },
  {
   "cell_type": "code",
   "execution_count": 47,
   "metadata": {},
   "outputs": [
    {
     "data": {
      "text/plain": [
       "(array([0.        , 0.03651484]), array([ 0.        , -0.03651484]))"
      ]
     },
     "execution_count": 47,
     "metadata": {},
     "output_type": "execute_result"
    }
   ],
   "source": [
    "v_1*m_1, v_2*m_2"
   ]
  },
  {
   "cell_type": "code",
   "execution_count": 50,
   "metadata": {},
   "outputs": [
    {
     "data": {
      "text/plain": [
       "(array([-0.        , -0.01825742]), array([ 0.        , -0.01825742]))"
      ]
     },
     "execution_count": 50,
     "metadata": {},
     "output_type": "execute_result"
    }
   ],
   "source": [
    "-v_1*m_1/m_2, v_2"
   ]
  },
  {
   "cell_type": "code",
   "execution_count": null,
   "metadata": {},
   "outputs": [],
   "source": []
  }
 ],
 "metadata": {
  "interpreter": {
   "hash": "9338cd5af4bc6d3c14ff7a6ce3afd855cbcd1d70444c4e040559c03ace283bd5"
  },
  "kernelspec": {
   "display_name": "Python 3.9.7 ('base')",
   "language": "python",
   "name": "python3"
  },
  "language_info": {
   "codemirror_mode": {
    "name": "ipython",
    "version": 3
   },
   "file_extension": ".py",
   "mimetype": "text/x-python",
   "name": "python",
   "nbconvert_exporter": "python",
   "pygments_lexer": "ipython3",
   "version": "3.9.7"
  },
  "orig_nbformat": 4
 },
 "nbformat": 4,
 "nbformat_minor": 2
}
