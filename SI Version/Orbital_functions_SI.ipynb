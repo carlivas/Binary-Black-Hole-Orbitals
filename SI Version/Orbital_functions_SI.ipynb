{
 "cells": [
  {
   "cell_type": "code",
   "execution_count": 6,
   "metadata": {},
   "outputs": [],
   "source": [
    "import numpy as np\n",
    "from astropy import constants as const\n",
    "from astropy import units as u\n",
    "\n",
    "c = const.c.value\n",
    "G = const.G.value"
   ]
  },
  {
   "cell_type": "code",
   "execution_count": null,
   "metadata": {},
   "outputs": [],
   "source": [
    "l = 1\n",
    "\n",
    "m_1 = 1\n",
    "m_2 = 1\n",
    "\n",
    "def μ(m_1, m_2):\n",
    "    μ = m_1*m_2/(m_1 + m_2)\n",
    "    return μ\n",
    "\n",
    "def U_eff(l, μ, r):\n",
    "    return l**2/(2*μ*r**2) - G*m_1*m_2/r\n",
    " \n",
    "def findv0(E, l, μ, r):\n",
    "    v_0 = np.abs(np.sqrt(2*(E - U_eff(l, μ, r))/μ))\n",
    "    return v_0\n",
    "\n"
   ]
  },
  {
   "cell_type": "markdown",
   "metadata": {},
   "source": [
    "$$U_\\mathrm{eff}(r) = \\frac 12 \\frac{l^2}{\\mu r^2} + U(r) \\qquad \\text{and} \\qquad U(r) = \\frac k r$$\n",
    "\n",
    "$$E_{i, \\mathrm{eff, CM}} (\\dot {\\mathbf r}_i^2) = \\frac 1 2 \\mu \\dot {\\mathbf r}_i + U_\\mathrm{eff}(\\mathbf r_i)$$\n",
    "\n"
   ]
  },
  {
   "cell_type": "markdown",
   "metadata": {},
   "source": []
  },
  {
   "cell_type": "markdown",
   "metadata": {},
   "source": []
  }
 ],
 "metadata": {
  "interpreter": {
   "hash": "ae4ce7cb7bfb7d2cfaf4129cf150182a1e5ac3ebe708cb00e3cc111dd7207a44"
  },
  "kernelspec": {
   "display_name": "Python 3.9.7 64-bit",
   "language": "python",
   "name": "python3"
  },
  "language_info": {
   "codemirror_mode": {
    "name": "ipython",
    "version": 3
   },
   "file_extension": ".py",
   "mimetype": "text/x-python",
   "name": "python",
   "nbconvert_exporter": "python",
   "pygments_lexer": "ipython3",
   "version": "3.9.7"
  },
  "orig_nbformat": 4
 },
 "nbformat": 4,
 "nbformat_minor": 2
}
