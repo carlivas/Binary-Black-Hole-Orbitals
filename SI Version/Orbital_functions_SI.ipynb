{
 "cells": [
  {
   "cell_type": "code",
   "execution_count": 6,
   "metadata": {},
   "outputs": [],
   "source": [
    "import numpy as np\n",
    "import matplotlib.pyplot as plt\n",
    "from astropy import constants as const\n",
    "from astropy import units as u\n",
    "\n",
    "c = const.c.value\n",
    "G = const.G.value\n",
    "hbar = const.hbar.value"
   ]
  },
  {
   "cell_type": "code",
   "execution_count": 7,
   "metadata": {},
   "outputs": [],
   "source": [
    "# def U_eff(l, μ, r):\n",
    "#     return l**2/(2*μ*r**2) - G*m_1*m_2/r\n",
    " \n",
    "# def findv0(E, l, μ, r):\n",
    "#     v_0 = np.abs(np.sqrt(2*(E - U_eff(l, μ, r))/μ))\n",
    "#     return v_0\n"
   ]
  },
  {
   "cell_type": "code",
   "execution_count": 8,
   "metadata": {},
   "outputs": [],
   "source": [
    "# def findμ(m_1, m_2):\n",
    "#     μ = m_1*m_2/(m_1 + m_2)\n",
    "#     return μ\n",
    "\n",
    "# def findl(μ, r, v):\n",
    "#     return μ*np.cross(r,v)\n",
    "\n",
    "def rel_len(x_1, x_2):\n",
    "    return np.sqrt((x_1[0] - x_2[0])**2 + (x_1[1] - x_2[1])**2)\n",
    "\n",
    "# def findE_eff(x1_0, x2_0, v1_0, v2_0, m1, m2):\n",
    "#     r_vec = x1_0 - x2_0\n",
    "#     r = rel_len(x1_0, x2_0)\n",
    "#     v_vec = v1_0 - v2_0\n",
    "#     v = rel_len(v1_0, v2_0)\n",
    "#     μ = μ(m1, m2)\n",
    "#     return μ*v**2/2 + l(μ,r_vec,v_vec)**2/(2*μ*r**2) - G*m1*m2/r"
   ]
  },
  {
   "cell_type": "code",
   "execution_count": 11,
   "metadata": {},
   "outputs": [],
   "source": [
    "def accelerationN(x_1, x_2, m_1, m_2):\n",
    "    r_vec = x_1 - x_2\n",
    "    r = rel_len(x_1, x_2)\n",
    "    n = r_vec/r\n",
    "\n",
    "    a_1 = - G*m_2*n/r**2\n",
    "    a_2 =   G*m_1*n/r**2\n",
    "    return np.array([a_1, a_2])\n",
    "\n",
    "def accelerationEIH(x_1, x_2, v_1, v_2, m_1, m_2):\n",
    "    r_vec = x_1 - x_2\n",
    "    r = rel_len(x_1, x_2)\n",
    "    v_vec = v_1 - v_2\n",
    "    n = r_vec/r\n",
    "\n",
    "    a_1 = - G*m_2/r**2*n\n",
    "    + 1/c**2*(5*G**2*m_1*m_2/r**3 + 4*G**2*m_2**2/r**3 + G*m_2/r**2*(3/2*np.dot(n, v_2)**2 - np.dot(v_1, v_1) + 4*np.dot(v_1, v_2) - 2*np.dot(v_2, v_2)))*n\n",
    "    + G*m_2/r**2 *(4*np.dot(n, v_1) - 3*np.dot(n, v_2))*v_vec\n",
    "\n",
    "    a_2 = - G*m_1/r**2*(-n)\n",
    "    + 1/c**2*(5*G**2*m_2*m_1/r**3 + 4*G**2*m_1**2/r**3 + G*m_1/r**2*(3/2*np.dot((-n), v_1)**2 - np.dot(v_2, v_2) + 4*np.dot(v_2, v_1) - 2*np.dot(v_1, v_1)))*(-n)\n",
    "    + G*m_1/r**2 *(4*np.dot((-n), v_2) - 3*np.dot((-n), v_1))*(-v_vec)\n",
    "    return np.array([a_1, a_2])\n",
    "\n",
    "def boost(v_1, v_2, a_1, a_2, dt):\n",
    "    v_1 += a_1*dt\n",
    "    v_2 += a_2*dt\n",
    "    return np.array([v_1, v_2])\n",
    "\n",
    "def move(x_1, x_2, v_1, v_2, dt):\n",
    "    x_1 += v_1*dt\n",
    "    x_2 += v_2*dt\n",
    "    return np.array([x_1, x_2])\n",
    "\n",
    "def findCM(x_1, x_2, m_1, m_2):\n",
    "    M = m_1 + m_2\n",
    "    r_cm = np.array([(m_1*x_1[0] + m_2*x_2[0])/M, (m_1*x_1[1] + m_2*x_2[1])/M])\n",
    "    return r_cm"
   ]
  },
  {
   "cell_type": "code",
   "execution_count": 18,
   "metadata": {},
   "outputs": [],
   "source": [
    "def run_model(s, t_max, dt, EIH):\n",
    "    x_1, x_2, v_1, v_2, m_1, m_2 = s\n",
    "    \n",
    "    pos1 = np.zeros((2, int(t_max/dt)))\n",
    "    pos2 = np.zeros((2, int(t_max/dt)))\n",
    "    pos_CM = np.zeros((2, int(t_max/dt)))\n",
    "\n",
    "    for i in range(int(t_max/dt)):\n",
    "        pos1[:,i] = x_1\n",
    "        pos2[:,i] = x_2\n",
    "        pos_CM[:,i] = findCM(x_1, x_2, m_1, m_2)\n",
    "        if EIH == True:\n",
    "            a_1, a_2 = accelerationEIH(x_1, x_2, v_1, v_2, m_1, m_2)\n",
    "        else:\n",
    "            a_1, a_2 = accelerationN(x_1, x_2, m_1, m_2)\n",
    "        v_1, v_2 = boost(v_1, v_2, a_1, a_2, dt)\n",
    "        x_1, x_2 = move(x_1, x_2, v_1, v_2, dt)\n",
    "    return pos1, pos2, pos_CM\n",
    "\n",
    "\n"
   ]
  },
  {
   "cell_type": "code",
   "execution_count": 15,
   "metadata": {},
   "outputs": [
    {
     "data": {
      "text/plain": [
       "(1.3465909215001088e+30, -2.6931818430002176e+29)"
      ]
     },
     "execution_count": 15,
     "metadata": {},
     "output_type": "execute_result"
    }
   ],
   "source": [
    "def findMaxPos(pos):\n",
    "    xmax, xmin, ymax, ymin = max(pos[0]), min(pos[0]), max(pos[1]), min(pos[1])\n",
    "    return xmax, xmin, ymax, ymin\n",
    "\n",
    "def plotLims(pos):\n",
    "    start_pos = np.array([pos[0][0], pos[1][0]])\n",
    "    end_pos = np.array([pos[0][-1], pos[1][-1]])\n",
    "\n",
    "    xmax, xmin, ymax, ymin = findMaxPos(pos)\n",
    "    max_pos = max(max(abs(start_pos)),max(abs(end_pos)))\n",
    "\n",
    "    xlim = (xmin-0.1*max_pos, xmax+0.1*max_pos)\n",
    "    ylim = (ymin-0.1*max_pos, ymax+0.1*max_pos)\n",
    "    return xlim, ylim\n",
    "\n",
    "def plotLimsTwoBody(pos1, pos2):\n",
    "    start_pos1 = np.array([pos1[0][0], pos1[1][0]])\n",
    "    end_pos1 = np.array([pos1[0][-1], pos1[1][-1]])\n",
    "    start_pos2 = np.array([pos2[0][0], pos2[1][0]])\n",
    "    end_pos2 = np.array([pos2[0][-1], pos2[1][-1]])\n",
    "\n",
    "    x1max, x1min, y1max, y1min = findMaxPos(pos1)\n",
    "    x2max, x2min, y2max, y2min = findMaxPos(pos2)\n",
    "\n",
    "    xmax = max(x1max, x2max)\n",
    "    xmin = min(x1min, x2min)\n",
    "    ymax = max(y1max, y2max)\n",
    "    ymin = min(y1min, y2min)\n",
    "\n",
    "    max_pos1 = max(max(abs(start_pos1)),max(abs(end_pos1)))\n",
    "    max_pos2 = max(max(abs(start_pos2)),max(abs(end_pos2)))\n",
    "    max_pos = max(max_pos1, max_pos2)\n",
    "\n",
    "    xlim = (xmin-0.1*max_pos, xmax+0.1*max_pos)\n",
    "    ylim = (ymin-0.1*max_pos, ymax+0.1*max_pos)\n",
    "    return xlim, ylim"
   ]
  },
  {
   "cell_type": "code",
   "execution_count": null,
   "metadata": {},
   "outputs": [],
   "source": []
  },
  {
   "cell_type": "code",
   "execution_count": null,
   "metadata": {},
   "outputs": [],
   "source": []
  }
 ],
 "metadata": {
  "interpreter": {
   "hash": "ae4ce7cb7bfb7d2cfaf4129cf150182a1e5ac3ebe708cb00e3cc111dd7207a44"
  },
  "kernelspec": {
   "display_name": "Python 3.9.7 64-bit",
   "language": "python",
   "name": "python3"
  },
  "language_info": {
   "codemirror_mode": {
    "name": "ipython",
    "version": 3
   },
   "file_extension": ".py",
   "mimetype": "text/x-python",
   "name": "python",
   "nbconvert_exporter": "python",
   "pygments_lexer": "ipython3",
   "version": "3.9.7"
  },
  "orig_nbformat": 4
 },
 "nbformat": 4,
 "nbformat_minor": 2
}
