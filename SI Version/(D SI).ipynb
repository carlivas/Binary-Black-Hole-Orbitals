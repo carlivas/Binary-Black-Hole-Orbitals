{
 "cells": [
  {
   "cell_type": "code",
   "execution_count": null,
   "metadata": {},
   "outputs": [],
   "source": [
    "# This cell runs the file \"Two_body_functions.ipynb\" such that the functions in that file can be utillized here\n",
    "%run ./Orbital_functions_SI.ipynb"
   ]
  },
  {
   "cell_type": "code",
   "execution_count": null,
   "metadata": {},
   "outputs": [],
   "source": [
    "m_1 = 10*c**2/G\n",
    "m_2 = 15*c**2/G\n",
    "\n",
    "x_1 = np.array([0., 1000.])\n",
    "x_2 = np.array([0., -200.])\n",
    "v_1 = np.array([0.005, 0.])*c\n",
    "v_2 = np.array([-0.01, 0.])*c\n",
    "# a_1 = np.array([0.,    0.])\n",
    "# a_2 = np.array([0.,    0.])\n",
    "\n",
    "s = x_1, x_2, v_1, v_2, m_1, m_2\n",
    "\n",
    "pos1, pos2, pos_CM = run_model(s, t_max = 30000/c, dt = 0.1/c, EIH = False)\n",
    "\n",
    "twoOrbPlotter(pos1, pos2, pos_CM, CM=True, filename='TB04 CM_frame_SI')\n",
    "\n",
    "# # Change to CM frame\n",
    "# pos1 = pos1 - pos_CM\n",
    "# pos2 = pos2 - pos_CM\n",
    "# pos_CM = np.array([0,0])\n",
    "\n",
    "# fig, ax = plt.subplots(figsize=(14,14))\n",
    "# ax.plot(pos1[0], pos1[1], label = 'pos1')\n",
    "# ax.plot(pos2[0], pos2[1], label = 'pos2')\n",
    "# ax.plot(pos_CM[0], pos_CM[1], label = 'posCM')\n",
    "# xlim, ylim = plotLimsTwoBody(pos1, pos2)\n",
    "# ax.set_xlim(xlim)\n",
    "# ax.set_ylim(ylim)\n",
    "# ax.set_aspect('1')\n",
    "# ax.legend()\n",
    "# fig.tight_layout()\n"
   ]
  },
  {
   "cell_type": "code",
   "execution_count": null,
   "metadata": {},
   "outputs": [],
   "source": [
    "m_1 = 10*c**2/G\n",
    "x_1 = np.array([500., 1000.])\n",
    "v_1 = np.array([-0.01,  0. ])*c\n",
    "a_1 = np.array([0.,     0. ])\n",
    "\n",
    "m_2 = 10*c**2/G\n",
    "x_2 = np.array([0., -1000.])\n",
    "v_2 = np.array([0.01,  0. ])*c\n",
    "a_2 = np.array([0.,     0.])\n",
    "\n",
    "s = x_1, x_2, v_1, v_2, m_1, m_2\n",
    "\n",
    "pos1, pos2, pos_CM = run_model(s, t_max = 500000/c, dt=1/c, EIH = False)\n",
    "\n",
    "twoOrbPlotter(pos1, pos2, pos_CM, CM=True, filename='TB02 CM_frame_SI')\n",
    "\n",
    "# # Change to CM frame\n",
    "# pos1 = pos1 - pos_CM\n",
    "# pos2 = pos2 - pos_CM\n",
    "# pos_CM = np.array([0,0])\n",
    "\n",
    "# fig, ax = plt.subplots(figsize=(14,14))\n",
    "# ax.plot(pos1[0], pos1[1], label = 'pos1')\n",
    "# ax.plot(pos2[0], pos2[1], label = 'pos2')\n",
    "# ax.plot(pos_CM[0], pos_CM[1], label = 'posCM')\n",
    "# xlim, ylim = plotLimsTwoBody(pos1, pos2)\n",
    "# ax.set_xlim(xlim)\n",
    "# ax.set_ylim(ylim)\n",
    "# ax.set_aspect('1')\n",
    "# ax.legend()\n",
    "# fig.tight_layout()"
   ]
  },
  {
   "cell_type": "code",
   "execution_count": null,
   "metadata": {},
   "outputs": [],
   "source": [
    "m_1 = 10*c**2/G\n",
    "x_1 = np.array([500., 1000.])\n",
    "v_1 = np.array([0.025, 0.])*c\n",
    "\n",
    "m_2 = 10*c**2/G\n",
    "x_2 = np.array([0.,-1000.])\n",
    "v_2 = np.array([0.01, 0.])*c\n",
    "\n",
    "s = x_1, x_2, v_1, v_2, m_1, m_2\n",
    "\n",
    "pos1, pos2, pos_CM= run_model(s, t_max=300000/c, dt=1/c, EIH = False)\n",
    "\n",
    "twoOrbPlotter(pos1, pos2, pos_CM, CM=False, filename='TB03 rest_frame')\n",
    "twoOrbPlotter(pos1, pos2, pos_CM, CM=True, filename='TB03 CM_frame')"
   ]
  },
  {
   "cell_type": "markdown",
   "metadata": {},
   "source": [
    "# TWO BODY PROBLEM EIH (SI UNITS)"
   ]
  },
  {
   "cell_type": "code",
   "execution_count": 2,
   "metadata": {},
   "outputs": [],
   "source": [
    "# This cell runs the file \"Two_body_functions.ipynb\" such that the functions in that file can be utillized here\n",
    "%run ./Orbital_functions_SI.ipynb"
   ]
  },
  {
   "cell_type": "code",
   "execution_count": null,
   "metadata": {},
   "outputs": [],
   "source": [
    "x_1 = np.array([0., 1000.])\n",
    "x_2 = np.array([0.,-1000.])\n",
    "v_1 = np.array([0.01,  0.])*c\n",
    "v_2 = np.array([-0.01, 0.])*c\n",
    "a_1 = np.array([0.,    0.])\n",
    "a_2 = np.array([0.,    0.])\n",
    "m_1 = 10*c**2/G\n",
    "m_2 = 15*c**2/G\n",
    "\n",
    "s = x_1, x_2, v_1, v_2, m_1, m_2\n",
    "\n",
    "pos1, pos2, pos_CM = run_model(s, t_max = 500000/c, dt = 10/c, EIH = True)\n",
    "\n",
    "twoOrbPlotter(pos1, pos2, pos_CM, CM=True, filename='EIH1 CM_frame')"
   ]
  },
  {
   "cell_type": "code",
   "execution_count": null,
   "metadata": {},
   "outputs": [],
   "source": [
    "x_1 = np.array([0., 1000.])\n",
    "x_2 = np.array([0.,-1000.])\n",
    "v_1 = np.array([0.1,  -0.01])*c\n",
    "v_2 = np.array([-0.05, 0.05])*c\n",
    "a_1 = np.array([0.,    0.])\n",
    "a_2 = np.array([0.,    0.])\n",
    "m_1 = 1*c**2/G\n",
    "m_2 = 1000*c**2/G\n",
    "\n",
    "s = x_1, x_2, v_1, v_2, m_1, m_2\n",
    "\n",
    "pos1, pos2, pos_CM = run_model(s, t_max=150000/c, dt=1/c, EIH=True)\n",
    "\n",
    "twoOrbPlotter(pos1, pos2, pos_CM, CM = True, filename='EIH3 CM_frame')"
   ]
  },
  {
   "cell_type": "code",
   "execution_count": 8,
   "metadata": {},
   "outputs": [
    {
     "data": {
      "text/plain": [
       "0.0"
      ]
     },
     "execution_count": 8,
     "metadata": {},
     "output_type": "execute_result"
    }
   ],
   "source": []
  },
  {
   "cell_type": "code",
   "execution_count": 9,
   "metadata": {},
   "outputs": [
    {
     "data": {
      "text/plain": [
       "3.141592653589793"
      ]
     },
     "execution_count": 9,
     "metadata": {},
     "output_type": "execute_result"
    }
   ],
   "source": []
  },
  {
   "cell_type": "code",
   "execution_count": null,
   "metadata": {},
   "outputs": [],
   "source": []
  }
 ],
 "metadata": {
  "interpreter": {
   "hash": "ae4ce7cb7bfb7d2cfaf4129cf150182a1e5ac3ebe708cb00e3cc111dd7207a44"
  },
  "kernelspec": {
   "display_name": "Python 3.9.7 64-bit",
   "language": "python",
   "name": "python3"
  },
  "language_info": {
   "codemirror_mode": {
    "name": "ipython",
    "version": 3
   },
   "file_extension": ".py",
   "mimetype": "text/x-python",
   "name": "python",
   "nbconvert_exporter": "python",
   "pygments_lexer": "ipython3",
   "version": "3.9.7"
  },
  "orig_nbformat": 4
 },
 "nbformat": 4,
 "nbformat_minor": 2
}
