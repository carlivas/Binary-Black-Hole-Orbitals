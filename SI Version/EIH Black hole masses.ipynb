{
 "cells": [
  {
   "cell_type": "code",
   "execution_count": null,
   "metadata": {},
   "outputs": [],
   "source": [
    "# This cell runs the file \"Two_body_functions.ipynb\" such that the functions in that file can be utilized here\n",
    "%run ./Orbital_functions_SI.ipynb"
   ]
  },
  {
   "cell_type": "code",
   "execution_count": null,
   "metadata": {},
   "outputs": [],
   "source": [
    "def R_S(M):\n",
    "    return 2*G*M/c**2\n",
    "\n",
    "R_S(m_2)"
   ]
  },
  {
   "cell_type": "code",
   "execution_count": null,
   "metadata": {},
   "outputs": [],
   "source": [
    "M_sun = const.M_sun.value\n",
    "\n",
    "m_1 = 3*M_sun\n",
    "x_1 = np.array([5000., 10000.])\n",
    "v_1 = np.array([0.025, 0.])*c\n",
    "\n",
    "m_2 = 10*M_sun\n",
    "x_2 = np.array([0.,-10000.])\n",
    "v_2 = np.array([0.01, 0.])*c\n",
    "\n",
    "s = x_1, x_2, v_1, v_2, m_1, m_2\n",
    "\n",
    "pos1, pos2, pos_CM = run_model(s, t_max=3000000/c, dt=1/c, EIH = True)\n",
    "\n",
    "pos1 = pos1 - pos_CM\n",
    "pos2 = pos2 - pos_CM\n",
    "pos_CM = np.array([0,0])\n",
    "\n",
    "fig, ax = plt.subplots(figsize=(14,14))\n",
    "ax.plot(pos1[0], pos1[1], label = 'pos1')\n",
    "ax.plot(pos2[0], pos2[1], label = 'pos2')\n",
    "ax.plot(pos_CM[0], pos_CM[1], label = 'posCM')\n",
    "xlim, ylim = plotLimsTwoBody(pos1, pos2)\n",
    "ax.set_xlim(xlim)\n",
    "ax.set_ylim(ylim)\n",
    "ax.set_aspect('1')\n",
    "ax.legend()\n",
    "fig.tight_layout()"
   ]
  },
  {
   "cell_type": "code",
   "execution_count": null,
   "metadata": {},
   "outputs": [],
   "source": []
  }
 ],
 "metadata": {
  "interpreter": {
   "hash": "9338cd5af4bc6d3c14ff7a6ce3afd855cbcd1d70444c4e040559c03ace283bd5"
  },
  "kernelspec": {
   "display_name": "Python 3.9.7 ('base')",
   "language": "python",
   "name": "python3"
  },
  "language_info": {
   "name": "python",
   "version": "3.9.7"
  },
  "orig_nbformat": 4
 },
 "nbformat": 4,
 "nbformat_minor": 2
}
