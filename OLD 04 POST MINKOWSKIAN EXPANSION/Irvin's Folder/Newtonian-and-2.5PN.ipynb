{
 "cells": [
  {
   "cell_type": "code",
   "execution_count": 72,
   "metadata": {},
   "outputs": [],
   "source": [
    "import numpy as np\n",
    "import time\n",
    "import math\n",
    "import modules as md\n",
    "%matplotlib inline\n",
    "import matplotlib.pyplot as plt\n",
    "import matplotlib as mpl\n",
    "from mpl_toolkits.mplot3d import Axes3D\n",
    "import matplotlib.pyplot as plt\n",
    "from matplotlib.patches import Wedge\n",
    "import matplotlib.patches as mpatches\n",
    "\n",
    "\n",
    "\n",
    "\n",
    "#------------------------------------------------------------------------------------------\n",
    "#Units and conversioHzns:\n",
    "#------------------------------------------------------------------------------------------\n",
    "#code units: Rsun, Msun, G=1, ...\n",
    "c_SI       = 299792458.0        #m/s\n",
    "M_sun_SI   = 1.989*(10.**30.)   #kg\n",
    "R_sun_SI   = 695800000.         #m\n",
    "R_bull_SI = 1000 #m \n",
    "AU_SI      = 149597871000.      #m \n",
    "G_new_SI   = 6.67*(10.**(-11.)) #m**3 kg**(-1) s**(-2)\n",
    "AU_U       = AU_SI/R_sun_SI                             #from dist AU to code units (U)\n",
    "kmsec_U    = 1000./np.sqrt(G_new_SI*M_sun_SI/R_bull_SI)  #from vel km/sec to code units (U)\n",
    "time_U     = 1/np.sqrt(G_new_SI*M_sun_SI/R_bull_SI**3) #from CU to second np.sqrt((R_bull_SI)/(G_new_SI*M_sun_SI)) #from code units(U) to time sec\n",
    "#Rsch_1Msun_unitRsun = ((2.*G_new_SI*(1.*M_sun_SI))/(c_SI**2.))/R_sun_SI\n",
    "c_CU = c_SI/1000*kmsec_U"
   ]
  },
  {
   "cell_type": "code",
   "execution_count": 73,
   "metadata": {},
   "outputs": [],
   "source": [
    "def find_nearest(array, value):\n",
    "    array = np.asarray(array)\n",
    "    idx = (np.abs(array - value)).argmin()\n",
    "    return idx,array[idx]"
   ]
  },
  {
   "cell_type": "code",
   "execution_count": 74,
   "metadata": {},
   "outputs": [],
   "source": [
    "from timeit import default_timer as timer"
   ]
  },
  {
   "cell_type": "markdown",
   "metadata": {},
   "source": [
    "# Newton"
   ]
  },
  {
   "cell_type": "code",
   "execution_count": 75,
   "metadata": {},
   "outputs": [],
   "source": [
    "#Acceleration\n",
    "\n",
    "def acc(r,m): #r position, m mass\n",
    "    a = np.zeros((len(r),3)) #Create acceleration vector\n",
    "    for i in range(len(r)): #Range is size of timesteps or position steps\n",
    "        for j in range(len(r)): #For each particle\n",
    "            if (i != j):\n",
    "                rrel = r[i]-r[j]\n",
    "                rn = (rrel**2).sum()**(1./2) \n",
    "                a[i] += -(rrel)*m[j]/(rn**3.0) #Acceleration at each time step \n",
    "    return a # return acceleration\n",
    "\n",
    "\n",
    "def Jerk(r,v,m): #position, velocity, mass\n",
    "    Jev = np.zeros((len(r),3))\n",
    "    Jer = np.zeros((len(r),3))\n",
    "    Jet = np.zeros((len(r),3))#Define the Jerk\n",
    "    for i in range(len(r)):\n",
    "        for j in range(len(r)):\n",
    "            if (i != j):\n",
    "                rrel = r[i]-r[j]\n",
    "                vrel = v[i]-v[j]\n",
    "                rn = (rrel**2).sum()**(1./2) # dot product\n",
    "                vn = (vrel**2).sum()**(1./2)\n",
    "                rvd = ((rrel)*(vrel)).sum()\n",
    "                #Je[i] += - m[j]*((vrel)/rn**3.0 - 3.*(rvd*rrel/(rn**5.0))) \n",
    "                Jev[i] += - m[j]*((vrel)/rn**3.0) \n",
    "                Jer[i] += - 3.*(rvd*rrel/(rn**5.0))\n",
    "                Jet[i] += Jev[i] + Jer[i] \n",
    "    return Jet, Jer;"
   ]
  },
  {
   "cell_type": "markdown",
   "metadata": {},
   "source": [
    "## Newtonian only integrator "
   ]
  },
  {
   "cell_type": "code",
   "execution_count": 76,
   "metadata": {},
   "outputs": [],
   "source": [
    "def HermiteUpdateNtdt(dt, r, v, m, ns): # m mass of the star\n",
    "    \n",
    "    aN = acc(r, m) \n",
    "    #aD = accdiss(r, m, ns)\n",
    "    #aPN, aPNradial = accPN(r, v, m)\n",
    "    a = aN #+ aPN #+ aT # current acceleration\n",
    "    aradial = aN #+ aPNradial\n",
    "    \n",
    "    aNdot, aNdotradial = Jerk(r,v,m)\n",
    "    #aDdot = Jerkdiss(r, v, m, ns)\n",
    "    #aPNdot, aPNdotradial = JerkPN(r, v, a, m)\n",
    "    adot = aNdot #+ aPNdot #+ aDdot # current jerks\n",
    "    adotradial = aNdotradial #+ aPNdotradial\n",
    "    \n",
    "    rp = r + dt*v + dt**2/2 * a + dt**3/6* adot   # predict\n",
    "    vp = v + dt*a + dt**2/2 * adot\n",
    "\n",
    "    aNp = acc(rp, m)\n",
    "    #aPNp, aPNpradial = accPN(rp, vp, m)\n",
    "    #aDp = accdiss(rp, m, ns)\n",
    "    ap = aNp #+ aPNp #+ aDp        # predicted acceleration\n",
    "    apradial = aNp #+ aPNpradial\n",
    "    \n",
    "    aNdotp, aNdotpradial = Jerk(rp, vp, m)\n",
    "    #aPNdotp, aPNdotpradial = JerkPN(rp, vp, ap, m)\n",
    "    #aDdotp = Jerkdiss(rp, vp, m, ns)\n",
    "    adotp = aNdotp #+ aPNdotp #+  aDdotp  # predicted jerks \n",
    "    adotpradial = aNdotpradial #+ aPNdotpradial \n",
    "\n",
    "    dtp = dt\n",
    "    \n",
    "    vc = v + dt/2*(a+ap) - dt**2/12*(adotp-adot)  # correct\n",
    "    rc = r + dt/2*(v + vp) - dt**2/12 * (ap-a)\n",
    "    ac = a + (adotp+adot)*dt/2\n",
    "    acradial = aradial + (adotpradial+adotradial)*dt/2\n",
    "\n",
    " \n",
    "    return rc,vc,ac,acradial,dtp #ap,adotp,aNp,aNdotp,\n",
    "\n",
    "def Hermite4thNtdt(pri,sec, bina, nsteps, Dt):\n",
    "    \n",
    "    N=2\n",
    "    m = np.ones(N)#/N #Remove the N if not necessary\n",
    "    m[0]=pri.mass\n",
    "    m[1]=sec.mass\n",
    "    \n",
    "    r_res = np.zeros((2,3,nsteps)) # 2 because of two bodies\n",
    "    v_res = np.zeros((2,3,nsteps))\n",
    "\n",
    "    a_radial = np.zeros((2,3,nsteps)) # 2 because of two bodies\n",
    "    #adotN_res = np.zeros((2,3,nsteps))\n",
    "\n",
    "    a_res = np.zeros((2,3,nsteps)) # 2 because of two bodies\n",
    "    #adot_res = np.zeros((2,3,nsteps))\n",
    "\n",
    "    \n",
    "    time = np.zeros(nsteps)\n",
    "    r_res[:,:,0] = bina.r.copy()\n",
    "    v_res[:,:,0] = bina.v.copy()\n",
    "    ntidev = np.array([pri.eta, sec.eta])\n",
    "    \n",
    "    dtp = np.zeros(nsteps)\n",
    "    dtp[0] = Dt\n",
    "    \n",
    "    for i in range(1,nsteps):\n",
    "        (r_res[:,:,i],v_res[:,:,i],a_res[:,:,i],a_radial[:,:,i], dtp[i]) = HermiteUpdateNtdt(Dt, r_res[:,:,i-1], v_res[:,:,i-1], m, ntidev)\n",
    "        time[i] = time[i-1] + dtp[i-1] #+ Dt #\n",
    "        if time[i] >= timelimit:\n",
    "            break\n",
    "        elif np.linalg.norm(r_res[0].T[i] - r_res[1].T[i]) < (3.)*(pri.radisch): #This is when running an equal mass bbh\n",
    "        #elif np.linalg.norm(r_res[0].T[i] - r_res[1].T[i]) < 1.*(bina.tidalrsec):\n",
    "            break\n",
    "    \n",
    "    \n",
    "    #for i in range(1,nsteps):\n",
    "    #    (r_res[:,:,i],v_res[:,:,i],a_res[:,:,i],adot_res[:,:,i],aN_res[:,:,i],adotN_res[:,:,i], dtp[i]) = HermiteUpdatetidedt(Dt, r_res[:,:,i-1], v_res[:,:,i-1], m, ntidev)\n",
    "    #    time[i] = time[i-1] + dtp[i-1] #+ Dt #\n",
    "    #    if time[i] >= timelimit:\n",
    "    #        break\n",
    "            \n",
    "    r_res = r_res[:,:,:i]\n",
    "    v_res = v_res[:,:,:i]\n",
    "    a_res = a_res[:,:,:i]\n",
    "    #adot_res = adot_res[:,:,:i]\n",
    "    a_radial = a_radial[:,:,:i]\n",
    "    #adotN_res = adotN_res[:,:,:i]\n",
    "    dtp = dtp[:i]\n",
    "    time = time[:i]\n",
    "        \n",
    "    return r_res, v_res, a_res, a_radial, time #, aN_res, adotN_res, a_res, adot_res, \n"
   ]
  },
  {
   "cell_type": "markdown",
   "metadata": {},
   "source": [
    "# PN "
   ]
  },
  {
   "cell_type": "code",
   "execution_count": 77,
   "metadata": {},
   "outputs": [],
   "source": [
    "#PN Acceleration\n",
    "def accPN(r,v,m): #r position, m mass, s spin, m mass of secondary\n",
    "    a = np.zeros((len(r),3)) #Create acceleration vector\n",
    "    a1 = np.zeros((len(r),3)) #Create acceleration vector\n",
    "    arad = np.zeros((len(r),3)) #Create acceleration vector\n",
    "\n",
    "    for i in range(len(r)): #Range is size of timesteps or position steps\n",
    "        for j in range(len(r)): #For each particle           \n",
    "            if (i != j):\n",
    "                rrel = r[i]-r[j] \n",
    "                vrel = v[i]-v[j]\n",
    "                rn = ((rrel**2).sum())**(1./2) #dot product\n",
    "                runi = 1.*rrel/rn\n",
    "                #rvd = ((rrel)*(vrel)).sum()\n",
    "                ruvd = ((runi)*(vrel)).sum()\n",
    "                v2d = (vrel**2).sum()\n",
    "                a1[i] += +(4./5)*(1./c_CU**5)*(m[i]*m[j]/(rn**3))*((2*m[i]/rn - 8*m[j]/rn - v2d)*vrel)\n",
    "                arad[i] += +(4./5)*(1./c_CU**5)*(m[i]*m[j]/(rn**3))*(runi*(ruvd)*(52.0*m[j]/(3*rn) - 6*m[i]/rn + 3.0*v2d))\n",
    "                a[i] += a1[i] + arad[i] #a1[i] +  \n",
    "    return a, arad#, a1, a2 # return acceleration\n",
    "\n",
    "\n",
    "#PN Jerk v2\n",
    "\n",
    "def JerkPN(r,v,a,m): #position, velocity, mass\n",
    "    JePNLO3 = np.zeros((len(r),3))\n",
    "    JePNLO3v2 = np.zeros((len(r),3))\n",
    "    JePNLO4 = np.zeros((len(r),3))\n",
    "    JePNLO5 = np.zeros((len(r),3))#Define the Jerk\n",
    "    JePNLO3radial = np.zeros((len(r),3))\n",
    "    JePNLO4radial = np.zeros((len(r),3))\n",
    "    JePNLO5radial = np.zeros((len(r),3))\n",
    "    for i in range(len(r)):\n",
    "        for j in range(len(r)):\n",
    "            if (i != j):\n",
    "                rrel = r[i]-r[j] \n",
    "                vrel = v[i]-v[j]\n",
    "                arel = a[i]-a[j]\n",
    "                rn = ((rrel**2).sum())**(1./2) #norm                                                    \n",
    "                vn = ((vrel**2).sum())**(1./2) \n",
    "                runi = 1.*rrel/rn\n",
    "                ruvd = (runi*vrel).sum()   \n",
    "                ruad = (runi*arel).sum()                                                  \n",
    "                vad = (vrel*arel).sum()\n",
    "                #JePNLO3[i] += (4./5)*(1./(c_CU**5))*(m[j]*m[i]/(rn**3))*(-(vn**2)*arel + 2*vad*vrel + 3*((ruvd*(vn**2)*vrel) + 2*( vad*ruvd + (vn**2)*ruad)*runi))                \n",
    "                JePNLO3[i] += (4./5)*(1./(c_CU**5))*(m[j]*m[i]/(rn**3))*(-(vn**2)*arel + 2*vad*vrel + 3*((ruvd*(vn**2)*vrel)))                \n",
    "                \n",
    "                #JePNLO4[i] += (4./5)*(1./(c_CU**5))*(m[j]*m[i]/(rn**4))*(3*ruvd*(vn**2)*vrel + 2*(m[i]-m[j])*arel+ 3*(vn**4)*runi - 15*(ruvd**2)*(vn**2)*runi + ((52./3)*m[j]-6*m[i])*(ruad)*runi)\n",
    "                JePNLO4[i] += (4./5)*(1./(c_CU**5))*(m[j]*m[i]/(rn**4))*(3*ruvd*(vn**2)*vrel + 2*(m[i]-m[j])*arel)\n",
    "                \n",
    "                #JePNLO5[i] += (4./5)*(1./(c_CU**5))*(m[j]*m[i]/(rn**5))*(-8*(m[i] - m[j])*(ruvd)*vrel + ((52./3)*m[j]-6*m[i])*((vn**2)*runi + ruvd*vrel - 6*((ruvd**2)*runi)))\n",
    "                JePNLO5[i] += (4./5)*(1./(c_CU**5))*(m[j]*m[i]/(rn**5))*(-8*(m[i] - m[j])*(ruvd)*vrel + ((52./3)*m[j]-6*m[i])*(ruvd*vrel))\n",
    "                \n",
    "                JePNLO3radial[i] += (4./5)*(1./(c_CU**5))*(m[j]*m[i]/(rn**3))*(3*(2*( vad*ruvd + (vn**2)*ruad)*runi))\n",
    "                JePNLO4radial[i] += (4./5)*(1./(c_CU**5))*(m[j]*m[i]/(rn**4))*(+ 3*(vn**4)*runi - 15*(ruvd**2)*(vn**2)*runi + ((52./3)*m[j]-6*m[i])*(ruad)*runi)\n",
    "                JePNLO5radial[i] += (4./5)*(1./(c_CU**5))*(m[j]*m[i]/(rn**5))*(((52./3)*m[j]-6*m[i])*((vn**2)*runi- 6*((ruvd**2)*runi)))\n",
    "                JePNLOradial = JePNLO3radial + JePNLO4radial + JePNLO5radial\n",
    "                JePNLOt = JePNLO3 + JePNLO3radial + JePNLO4 + JePNLO4radial + JePNLO5 + JePNLO5radial\n",
    "    return JePNLOt, JePNLOradial \n"
   ]
  },
  {
   "cell_type": "markdown",
   "metadata": {},
   "source": [
    "## PN integrator "
   ]
  },
  {
   "cell_type": "code",
   "execution_count": 78,
   "metadata": {},
   "outputs": [],
   "source": [
    "def HermiteUpdatePNtdt(dt, r, v, m, ns): # m mass of the star\n",
    "    \n",
    "    aN = acc(r, m) \n",
    "    #aD = accdiss(r, m, ns)\n",
    "    aPN, aPNradial = accPN(r, v, m)\n",
    "    a = aN + aPN #+ aT # current acceleration\n",
    "    aradial = aN + aPNradial\n",
    "    \n",
    "    aNdot, aNdotradial = Jerk(r,v,m)\n",
    "    #aDdot = Jerkdiss(r, v, m, ns)\n",
    "    aPNdot, aPNdotradial = JerkPN(r, v, a, m)\n",
    "    adot = aNdot + aPNdot #+ aDdot # current jerks\n",
    "    adotradial = aNdotradial + aPNdotradial\n",
    "    \n",
    "    rp = r + dt*v + dt**2/2 * a + dt**3/6* adot   # predict\n",
    "    vp = v + dt*a + dt**2/2 * adot\n",
    "\n",
    "    aNp = acc(rp, m)\n",
    "    aPNp, aPNpradial = accPN(rp, vp, m)\n",
    "    #aDp = accdiss(rp, m, ns)\n",
    "    ap = aNp + aPNp #+ aDp        # predicted acceleration\n",
    "    apradial = aNp + aPNpradial\n",
    "    \n",
    "    aNdotp, aNdotpradial = Jerk(rp, vp, m)\n",
    "    aPNdotp, aPNdotpradial = JerkPN(rp, vp, ap, m)\n",
    "    #aDdotp = Jerkdiss(rp, vp, m, ns)\n",
    "    adotp = aNdotp + aPNdotp #+  aDdotp  # predicted jerks \n",
    "    adotpradial = aNdotpradial + aPNdotpradial \n",
    "\n",
    "    dtp = dt\n",
    "    \n",
    "    vc = v + dt/2*(a+ap) - dt**2/12*(adotp-adot)  # correct\n",
    "    rc = r + dt/2*(v + vp) - dt**2/12 * (ap-a)\n",
    "    ac = a + (adotp+adot)*dt/2\n",
    "    acradial = aradial + (adotpradial+adotradial)*dt/2\n",
    "\n",
    " \n",
    "    return rc,vc,ac,acradial,dtp #ap,adotp,aNp,aNdotp,\n",
    "\n",
    "def Hermite4thPNtdt(pri,sec, bina, nsteps, Dt):\n",
    "    \n",
    "    N=2\n",
    "    m = np.ones(N)#/N #Remove the N if not necessary\n",
    "    m[0]=pri.mass\n",
    "    m[1]=sec.mass\n",
    "    \n",
    "    r_res = np.zeros((2,3,nsteps)) # 2 because of two bodies\n",
    "    v_res = np.zeros((2,3,nsteps))\n",
    "\n",
    "    a_radial = np.zeros((2,3,nsteps)) # 2 because of two bodies\n",
    "    #adotN_res = np.zeros((2,3,nsteps))\n",
    "\n",
    "    a_res = np.zeros((2,3,nsteps)) # 2 because of two bodies\n",
    "    #adot_res = np.zeros((2,3,nsteps))\n",
    "\n",
    "    \n",
    "    time = np.zeros(nsteps)\n",
    "    r_res[:,:,0] = bina.r.copy()\n",
    "    v_res[:,:,0] = bina.v.copy()\n",
    "    ntidev = np.array([pri.eta, sec.eta])\n",
    "    \n",
    "    dtp = np.zeros(nsteps)\n",
    "    dtp[0] = Dt\n",
    "    \n",
    "    for i in range(1,nsteps):\n",
    "        (r_res[:,:,i],v_res[:,:,i],a_res[:,:,i],a_radial[:,:,i], dtp[i]) = HermiteUpdatePNtdt(Dt, r_res[:,:,i-1], v_res[:,:,i-1], m, ntidev)\n",
    "        time[i] = time[i-1] + dtp[i-1] #+ Dt #\n",
    "        if time[i] >= timelimit:\n",
    "            break\n",
    "        elif np.linalg.norm(r_res[0].T[i] - r_res[1].T[i]) < (3.)*(pri.radisch): #This is when running an equal mass bbh\n",
    "        #elif np.linalg.norm(r_res[0].T[i] - r_res[1].T[i]) < 1.*(bina.tidalrsec):\n",
    "            break\n",
    "    \n",
    "    \n",
    "    #for i in range(1,nsteps):\n",
    "    #    (r_res[:,:,i],v_res[:,:,i],a_res[:,:,i],adot_res[:,:,i],aN_res[:,:,i],adotN_res[:,:,i], dtp[i]) = HermiteUpdatetidedt(Dt, r_res[:,:,i-1], v_res[:,:,i-1], m, ntidev)\n",
    "    #    time[i] = time[i-1] + dtp[i-1] #+ Dt #\n",
    "    #    if time[i] >= timelimit:\n",
    "    #        break\n",
    "            \n",
    "    r_res = r_res[:,:,:i]\n",
    "    v_res = v_res[:,:,:i]\n",
    "    a_res = a_res[:,:,:i]\n",
    "    #adot_res = adot_res[:,:,:i]\n",
    "    a_radial = a_radial[:,:,:i]\n",
    "    #adotN_res = adotN_res[:,:,:i]\n",
    "    dtp = dtp[:i]\n",
    "    time = time[:i]\n",
    "        \n",
    "    return r_res, v_res, a_res, a_radial, time #, aN_res, adotN_res, a_res, adot_res, \n"
   ]
  },
  {
   "cell_type": "markdown",
   "metadata": {},
   "source": [
    "#  Simulations"
   ]
  },
  {
   "cell_type": "markdown",
   "metadata": {},
   "source": [
    "# Equal mass case "
   ]
  },
  {
   "cell_type": "markdown",
   "metadata": {},
   "source": [
    "# Start simulation with frequency of 10 Hz.  "
   ]
  },
  {
   "cell_type": "markdown",
   "metadata": {},
   "source": [
    "Make a simulation starting at $d_i = 30 r_s$ , which corresponds to ~ 10 Hz\n",
    "\n",
    "Masses of the BHs 20 solar masses"
   ]
  },
  {
   "cell_type": "code",
   "execution_count": 79,
   "metadata": {},
   "outputs": [],
   "source": [
    "#Define black holes\n",
    "bh = md.Particle(\"BH\",20,0,0) #stellar type, mass, radius, spin. At the momento for black holes choose r=0 and will set the Schwarzchild radius\n",
    "\n",
    "#Define binary\n",
    "#bhbh = md.Binary(bh, bh, bh.radisch*10, 0) ##primary, secondary, orbital distance (Rsun), eccentricity \n",
    "\n",
    "#Test dissipative effects\n",
    "bhbh = md.Binary(bh, bh, bh.radisch*30, 0)"
   ]
  },
  {
   "cell_type": "code",
   "execution_count": 80,
   "metadata": {},
   "outputs": [
    {
     "name": "stdout",
     "output_type": "stream",
     "text": [
      "61.293341580385814\n"
     ]
    }
   ],
   "source": [
    "#Have implemented it, need to check it\n",
    "timetomerge =  (5./256)*(bhbh.orbd**4)*(c_CU**5)*(1./(bh.mass*bh.mass*(bh.mass+bh.mass)))\n",
    "\n",
    "print(timetomerge/bhbh.periodct)\n",
    "\n",
    "#accu = 0.001 #0.0001 Set accuracy parameter\n",
    "#tl = 100*bhbh.periodct #Time of the simulation in [code units]\n",
    "tl = 20*bhbh.periodct\n",
    "timelimit = tl #\n",
    "#dt = 0.01 #Guess a timestep\n",
    "#test diss\n",
    "dt= 100#0.01#0.1#use 0.01 \n",
    "Nsteps = int(tl/dt)#Number of timesteps with the guessed timestep "
   ]
  },
  {
   "cell_type": "markdown",
   "metadata": {},
   "source": [
    "# Modified this to run for PN only and generate initial conditions "
   ]
  },
  {
   "cell_type": "code",
   "execution_count": 81,
   "metadata": {},
   "outputs": [],
   "source": [
    "start = timer()\n",
    "ric,vic,aic,aicradial,timeic = Hermite4thPNtdt(bh,bh, bhbh, Nsteps, dt)\n",
    "end= timer()"
   ]
  },
  {
   "cell_type": "code",
   "execution_count": 82,
   "metadata": {},
   "outputs": [
    {
     "name": "stdout",
     "output_type": "stream",
     "text": [
      "0.20429787543253042 minutes\n",
      "12.257872525951825\n"
     ]
    }
   ],
   "source": [
    "print((end-start)/60, 'minutes')\n",
    "print(end - start)"
   ]
  },
  {
   "cell_type": "code",
   "execution_count": 83,
   "metadata": {},
   "outputs": [
    {
     "name": "stderr",
     "output_type": "stream",
     "text": [
      "No handles with labels found to put in legend.\n"
     ]
    },
    {
     "data": {
      "image/png": "[encoded data removed]",
      "text/plain": [
       "<Figure size 432x288 with 1 Axes>"
      ]
     },
     "metadata": {
      "needs_background": "light"
     },
     "output_type": "display_data"
    }
   ],
   "source": [
    "fig = plt.figure()\n",
    "ax = fig.gca(projection='3d')\n",
    "ax.plot(ric[0][0], ric[0][1], ric[0][2], 'r', linewidth=1)# Plot the BH orbit\n",
    "ax.plot(ric[1][0], ric[1][1], ric[1][2], 'b', linewidth=1)# Plot the star orbit\n",
    "ax.scatter3D(ric[0][0][-1], ric[0][1][-1], ric[0][2][-1], 'o', c='black') #s=100\n",
    "ax.scatter3D(ric[1][0][-1], ric[1][1][-1], ric[1][2][-1], 'o', c='black') #s=10\n",
    "ax.legend()\n",
    "#ax.set_xticks([])\n",
    "#ax.set_yticks([])\n",
    "#ax.set_zticks([])\n",
    "#ax.set_xlim3d(-1,1)\n",
    "#ax.set_ylim3d(-1,1)\n",
    "#ax.set_xlim3d(min(min(posbh1x), min(posbh2x)), max(max(posbh1x), max(posbh2x)))\n",
    "#ax.set_ylim3d(min(min(posbh1y), min(posbh2y)), max(max(posbh1y), max(posbh2y)))\n",
    "#ax.set_zlim3d(min(min(posbh1z), min(posbh2z)), max(max(posbh1z), max(posbh2z)))\n",
    "ax.set_xlabel('x(km)')\n",
    "ax.set_ylabel('y(km)')\n",
    "ax.set_zlabel('z(km)')\n",
    "\n",
    "\n",
    "#plt.savefig('PNorbitaldecay.png', format='png', dpi=200)#, dpi=200\n",
    "#plt.savefig('PNorbitaldecay.eps', format='eps')#,\n",
    "\n",
    "plt.show()"
   ]
  },
  {
   "cell_type": "code",
   "execution_count": 84,
   "metadata": {},
   "outputs": [
    {
     "name": "stdout",
     "output_type": "stream",
     "text": [
      "27.18451228543944\n"
     ]
    }
   ],
   "source": [
    "rrelic = ric[0] - ric[1]\n",
    "vrelic = vic[0] - vic[1]\n",
    "#rfnsbh = rrelnsbh.T[-1]\n",
    "\n",
    "#Obtain the orbital distance\n",
    "dic = np.zeros(len(rrelic .T)) \n",
    "\n",
    "for i in range(len(rrelic.T)):\n",
    "    dic[i] = np.linalg.norm(rrelic.T[i])\n",
    "    \n",
    "#Obtain the relative velocity\n",
    "vnrelic = np.zeros(len(vrelic.T))\n",
    "\n",
    "for i in range(len(rrelic.T)):\n",
    "    vnrelic[i] = np.linalg.norm(vrelic.T[i])\n",
    "    \n",
    "vnrelickm = vnrelic/kmsec_U*1000/c_SI\n",
    "timeicsec = timeic*time_U\n",
    "\n",
    "print(dic[-1]/bh.radisch)\n",
    "\n",
    "#arelic = aic[0].T-aic[1].T aicradial\n",
    "arelicradial = aicradial[0].T-aicradial[1].T\n",
    "wsic = np.zeros([len(dic)])\n",
    "wsicG = np.zeros([len(dic)])\n",
    "\n",
    "for i in range(len(dic)): \n",
    "    wsic[i] = np.sqrt(np.linalg.norm(arelicradial[i])/(dic[i]))\n",
    "    \n",
    "    gammaic = 1./(1 - (vnrelic[i]/c_CU)**2)**(1./2)#1.\n",
    "    wsicG[i] = np.sqrt(np.linalg.norm(arelicradial[i])/(gammaic*dic[i]))\n"
   ]
  },
  {
   "cell_type": "code",
   "execution_count": 85,
   "metadata": {},
   "outputs": [
    {
     "name": "stdout",
     "output_type": "stream",
     "text": [
      "[ 0.          9.83581144  9.83581145 ... 11.40214764 11.40237526\n",
      " 11.4026032 ]\n"
     ]
    }
   ],
   "source": [
    "f_gwic = (wsic/np.pi)/time_U\n",
    "print(f_gwic)"
   ]
  },
  {
   "cell_type": "markdown",
   "metadata": {},
   "source": [
    "# Only N "
   ]
  },
  {
   "cell_type": "code",
   "execution_count": 86,
   "metadata": {},
   "outputs": [],
   "source": [
    "start = timer()\n",
    "rN,vN,aN,aNradial,timeN, = Hermite4thNtdt(bh,bh, bhbh, Nsteps, dt)\n",
    "end = timer()"
   ]
  },
  {
   "cell_type": "code",
   "execution_count": 87,
   "metadata": {},
   "outputs": [
    {
     "name": "stdout",
     "output_type": "stream",
     "text": [
      "0.0629934670345392\n"
     ]
    }
   ],
   "source": [
    "print((end - start)/60)"
   ]
  },
  {
   "cell_type": "code",
   "execution_count": 88,
   "metadata": {},
   "outputs": [
    {
     "name": "stderr",
     "output_type": "stream",
     "text": [
      "No handles with labels found to put in legend.\n"
     ]
    },
    {
     "data": {
      "image/png": "[encoded data removed]",
      "text/plain": [
       "<Figure size 432x288 with 1 Axes>"
      ]
     },
     "metadata": {
      "needs_background": "light"
     },
     "output_type": "display_data"
    }
   ],
   "source": [
    "fig = plt.figure()\n",
    "ax = fig.gca(projection='3d')\n",
    "ax.plot(rN[0][0], rN[0][1], rN[0][2], 'm', linewidth=1)# Plot the BH orbit\n",
    "ax.plot(rN[1][0], rN[1][1], rN[1][2], 'c', linewidth=1)# Plot the star orbit\n",
    "ax.scatter3D(rN[0][0][-1], rN[0][1][-1], rN[0][2][-1], 'o', c='black') #s=100\n",
    "ax.scatter3D(rN[1][0][-1], rN[1][1][-1], rN[1][2][-1], '0', c='black') #s=10\n",
    "ax.legend()\n",
    "#ax.set_xticks([])\n",
    "#ax.set_yticks([])\n",
    "#ax.set_zticks([])\n",
    "#ax.set_xlim3d(-1,1)\n",
    "#ax.set_ylim3d(-1,1)\n",
    "#ax.set_xlim3d(min(min(posbh1x), min(posbh2x)), max(max(posbh1x), max(posbh2x)))\n",
    "#ax.set_ylim3d(min(min(posbh1y), min(posbh2y)), max(max(posbh1y), max(posbh2y)))\n",
    "#ax.set_zlim3d(min(min(posbh1z), min(posbh2z)), max(max(posbh1z), max(posbh2z)))\n",
    "ax.set_xlabel('x(km)')\n",
    "ax.set_ylabel('y(km)')\n",
    "ax.set_zlabel('z(km)')\n",
    "\n",
    "#plt.savefig('Ncolns.eps', bbox_inches='tight')#, dpi=200\n",
    "#plt.savefig('Norbitaldecay.Ng', format='Ng', dpi=200)#, dpi=200\n",
    "#plt.savefig('Norbitaldecay.eps', bbox_inches='tight', format='eps')#,\n",
    "\n",
    "plt.show()"
   ]
  },
  {
   "cell_type": "code",
   "execution_count": 89,
   "metadata": {},
   "outputs": [],
   "source": [
    "rrelN = rN[0] - rN[1]\n",
    "vrelN = vN[0] - vN[1]\n",
    "#rfnsbh = rrelnsbh.T[-1]\n",
    "\n",
    "#Obtain the orbital distance\n",
    "dN = np.zeros(len(rrelN .T)) \n",
    "\n",
    "for i in range(len(rrelN.T)):\n",
    "    dN[i] = np.linalg.norm(rrelN.T[i])\n",
    "    \n",
    "#Obtain the relative velocity\n",
    "vnrelN = np.zeros(len(vrelN.T))\n",
    "\n",
    "for i in range(len(rrelN.T)):\n",
    "    vnrelN[i] = np.linalg.norm(vrelN.T[i])\n",
    "    \n",
    "vnrelNkm = vnrelN/kmsec_U*1000/c_SI\n",
    "timeNsec = timeN*time_U\n",
    "\n",
    "#arelN = aN[0].T-aN[1].T\n",
    "\n",
    "arelNradial = aNradial[0].T-aNradial[1].T\n",
    "wsN = np.zeros([len(dN)])\n",
    "wsNG = np.zeros([len(dN)])\n",
    "\n",
    "for i in range(len(dN)):\n",
    "    wsN[i] = np.sqrt(np.linalg.norm(arelNradial[i])/(dN[i]))\n",
    "    \n",
    "    gammaN = 1./(1 - (vnrelN[i]/c_CU)**2)**(1./2)   #1.\n",
    "    wsNG[i] = np.sqrt(np.linalg.norm(arelNradial[i])/(gammaN*dN[i]))\n",
    "    \n"
   ]
  },
  {
   "cell_type": "code",
   "execution_count": null,
   "metadata": {},
   "outputs": [],
   "source": []
  }
 ],
 "metadata": {
  "kernelspec": {
   "display_name": "Python 3",
   "language": "python",
   "name": "python3"
  },
  "language_info": {
   "codemirror_mode": {
    "name": "ipython",
    "version": 3
   },
   "file_extension": ".py",
   "mimetype": "text/x-python",
   "name": "python",
   "nbconvert_exporter": "python",
   "pygments_lexer": "ipython3",
   "version": "3.8.5"
  }
 },
 "nbformat": 4,
 "nbformat_minor": 4
}
