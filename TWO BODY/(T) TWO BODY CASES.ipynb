{
 "cells": [
  {
   "cell_type": "markdown",
   "metadata": {},
   "source": [
    "# $(T)\\ Two\\ Body\\ Cases$"
   ]
  },
  {
   "cell_type": "markdown",
   "metadata": {},
   "source": [
    "## NEWTON LIMIT REGIME $\\quad m_1 \\ll m_2$"
   ]
  },
  {
   "cell_type": "markdown",
   "metadata": {},
   "source": [
    "### NEWTON LIMIT BOUND"
   ]
  },
  {
   "cell_type": "markdown",
   "metadata": {},
   "source": [
    "Old case test"
   ]
  },
  {
   "cell_type": "code",
   "execution_count": 8,
   "metadata": {},
   "outputs": [
    {
     "name": "stdout",
     "output_type": "stream",
     "text": [
      "R_S = 2954, E = 8.934e+35 J\n"
     ]
    }
   ],
   "source": [
    "%run ./Orbital_Functions.ipynb\n",
    "\n",
    "m_1 = 1e-4*M_sun\n",
    "m_2 = M_sun\n",
    "\n",
    "R_S = 2*(m_1 + m_2)*G/c**2\n",
    "\n",
    "x_1 = np.array([1000, 0.])*R_S\n",
    "x_2 = np.array([0.,   0.])*R_S\n",
    "v_1 = np.array([0., 0.01])*c\n",
    "v_2 = np.array([0.,    0])*c\n",
    "s = x_1, x_2, v_1, v_2, m_1, m_2\n",
    "\n",
    "pos1, pos2, pos_CM, parameters = run_model(s, t_max = 2027500*R_S/c, dt=100*R_S/c, α=1, DatF = True)\n",
    "# pos1, pos2, pos_CM, accs = run_model(s, t_max = 2027500*R_S/c, dt=100*R_S/c, α=1, DatF = True)\n",
    "# orbPlotter(pos1, pos2, pos_CM, parameters, CM=True, filename='Newton limit DatF bound case (DatF)')\n",
    "\n",
    "R_S, E, p_tot, L_tot, b = parameters\n",
    "print(f'R_S = {R_S:.0f}, E = {E:.3e} J')\n",
    "\n",
    "\n",
    "# 2.1s"
   ]
  },
  {
   "cell_type": "markdown",
   "metadata": {},
   "source": [
    "EIH α check $\\ \\downarrow$"
   ]
  },
  {
   "cell_type": "code",
   "execution_count": null,
   "metadata": {},
   "outputs": [],
   "source": [
    "αs = [1,0.5,0]\n",
    "for i in αs:\n",
    "    pos1, pos2, pos_CM = run_model(s, t_max = 2027500*R_S/c, dt=20*R_S/c, EIH=True, α = i)\n",
    "    # pos1, pos2, pos_CM, accs = run_model(s, t_max = 2027500*R_S/c, dt=100*R_S/c, EIH=True)\n",
    "    orbPlotter(pos1, pos2, pos_CM, CM=True, filename=f'Old case test_EIH_α={i}', figsize=(5,5))\n",
    "\n",
    "# dt STABILIZED at 20*R_S/c\n",
    "# 30s"
   ]
  },
  {
   "cell_type": "markdown",
   "metadata": {},
   "source": [
    "___\n",
    "Earth-Sun System"
   ]
  },
  {
   "cell_type": "code",
   "execution_count": null,
   "metadata": {},
   "outputs": [],
   "source": [
    "%run ./Orbital_Functions.ipynb\n",
    "\n",
    "m_1 = M_earth\n",
    "m_2 = M_sun\n",
    "\n",
    "R_S = 2*(m_1 + m_2)*G/c**2\n",
    "\n",
    "x_1 = np.array([-152.100e9, 0])\n",
    "x_2 = np.array([0.,         0])*R_S\n",
    "v_1 = np.array([0.,   29.29e3])\n",
    "v_2 = np.array([0.,         0])*c\n",
    "s = x_1, x_2, v_1, v_2, m_1, m_2\n",
    "\n",
    "pos1, pos2, pos_CM = run_model(s, t_max = 3.2e12*R_S/c, dt = 1e9*R_S/c, EIH = True)\n",
    "\n",
    "orbPlotter(pos1, pos2, pos_CM, CM=False, filename='Earth-Sun System')\n",
    "\n",
    "# 0.8s"
   ]
  },
  {
   "cell_type": "markdown",
   "metadata": {},
   "source": [
    "Eccentricity Check $\\displaystyle e = \\sqrt{1 - \\frac{b^2}{a^2}}$"
   ]
  },
  {
   "cell_type": "code",
   "execution_count": null,
   "metadata": {},
   "outputs": [],
   "source": [
    "pos1_CM = pos1 - pos_CM\n",
    "xmax, xmin, ymax, ymin = findMaxPos(pos1_CM)\n",
    "\n",
    "a = max(xmax - xmin, ymax - ymin)\n",
    "b = min(xmax - xmin, ymax - ymin)\n",
    "\n",
    "e = np.sqrt(1 - b**2/a**2)\n",
    "print(f'a = {a:.3e} meter, b = {b:.3e} meter, e = {e:.3f}')\n",
    "\n",
    "# 0.1s"
   ]
  },
  {
   "cell_type": "markdown",
   "metadata": {},
   "source": [
    "We get $e_\\mathrm{predicted} \\approx 0.017$ which fits nicely with the expected value of $e_\\mathrm{expected} \\approx 0.017$."
   ]
  },
  {
   "cell_type": "markdown",
   "metadata": {},
   "source": [
    "___\n",
    "Mercury-Sun System"
   ]
  },
  {
   "cell_type": "code",
   "execution_count": null,
   "metadata": {},
   "outputs": [],
   "source": [
    "%run ./Orbital_Functions.ipynb\n",
    "\n",
    "m_1 = 0.3301e24\n",
    "m_2 = M_sun\n",
    "\n",
    "R_S = 2*(m_1 + m_2)*G/c**2\n",
    "\n",
    "x_1 = np.array([-69.818e9, 0.])\n",
    "x_2 = np.array([0.,        0.])\n",
    "v_1 = np.array([0.,   38.86e3])\n",
    "v_2 = np.array([0.,         0])\n",
    "\n",
    "\n",
    "s = x_1, x_2, v_1, v_2, m_1, m_2\n",
    "\n",
    "pos1, pos2, pos_CM = run_model(s, t_max = 1e14*R_S/c, dt = 1e9*R_S/c, DatF = True)\n",
    "\n",
    "orbPlotter(pos1, pos2, pos_CM, CM=True, filename='Mercury-Sun System',figsize=(9,9))\n",
    "\n",
    "# dt STABILIZED at 1e9*R_S/c\n",
    "# 9.4s"
   ]
  },
  {
   "cell_type": "markdown",
   "metadata": {},
   "source": [
    "___\n",
    "Icarus-Sun System"
   ]
  },
  {
   "cell_type": "code",
   "execution_count": null,
   "metadata": {},
   "outputs": [],
   "source": [
    "%run ./Orbital_Functions.ipynb\n",
    "\n",
    "m_1 = 0.001e15\n",
    "m_2 = M_sun\n",
    "\n",
    "R_S = 2*(m_1 + m_2)*G/c**2\n",
    "\n",
    "x_1 = np.array([1000., 0.])*R_S\n",
    "x_2 = np.array([-1000.,0.])*R_S\n",
    "v_1 = np.array([0.,  0.01])*c\n",
    "v_2 = np.array([0., -0.01])*c\n",
    "\n",
    "\n",
    "s = x_1, x_2, v_1, v_2, m_1, m_2\n",
    "\n",
    "pos1, pos2, pos_CM = run_model(s, t_max = 500000000*R_S/c, dt = 1000*R_S/c, EIH = True)\n",
    "\n",
    "orbPlotter(pos1, pos2, pos_CM, CM=True, filename='Icarus-Sun System',figsize=(9,9))\n",
    "\n"
   ]
  },
  {
   "cell_type": "markdown",
   "metadata": {},
   "source": [
    "___\n",
    "DatF bound case"
   ]
  },
  {
   "cell_type": "code",
   "execution_count": null,
   "metadata": {},
   "outputs": [],
   "source": [
    "s3 = [0,10,0.2,-0.25]\n",
    "\n",
    "m_1 = 1e-9*M_sun\n",
    "m_2 = M_sun\n",
    "\n",
    "R_S = 2*(m_1 + m_2)*G/c**2\n",
    "\n",
    "x_1 = np.array([10.,  0.])*R_S\n",
    "x_2 = np.array([0.,    0])*R_S\n",
    "v_1 = np.array([0,   0.2])*c\n",
    "v_2 = np.array([0.,    0])*c\n",
    "s = x_1, x_2, v_1, v_2, m_1, m_2\n",
    "\n",
    "# pos1, pos2, pos_CM = run_model(s, t_max = 20000*R_S/c, dt = 1*R_S/c, EIH=True, GR=False, DL=False)\n",
    "pos1, pos2, pos_CM = run_model(s, t_max = 2000*R_S/c, dt = 0.1*R_S/c, DatF = True)\n",
    "orbPlotter(pos1, pos2, pos_CM, CM=True, filename='Newton limit DatF scattering case (DatF)')\n",
    "\n",
    "pos1, pos2, pos_CM = run_model(s, t_max = 2000*R_S/c, dt = 0.1*R_S/c, EIH = True)\n",
    "orbPlotter(pos1, pos2, pos_CM, CM=True, filename='Newton limit DatF scattering case (EIH)')\n",
    "# lims = np.array([-2e6, 2.5e6])\n",
    "# orbPlotter_lims(pos1, pos2, pos_CM, xlim=lims, ylim=lims, CM=True, filename='Newton limit scattering 1')\n",
    "\n",
    "# dt STABILIZED\n",
    "# 4.8s"
   ]
  },
  {
   "cell_type": "markdown",
   "metadata": {},
   "source": [
    "### NEWTON LIMIT SCATTERING"
   ]
  },
  {
   "cell_type": "code",
   "execution_count": null,
   "metadata": {},
   "outputs": [],
   "source": [
    "m_1 = 0.003*M_sun\n",
    "m_2 = 1*M_sun\n",
    "\n",
    "R_S = 2*(m_1 + m_2)*G/c**2\n",
    "\n",
    "x_1 = np.array([-3e6, -0.5e6])\n",
    "x_2 = np.array([0.,        0])\n",
    "v_1 = np.array([0.1,       0])*c\n",
    "v_2 = np.array([0.,        0])*c\n",
    "s = x_1, x_2, v_1, v_2, m_1, m_2\n",
    "\n",
    "# pos1, pos2, pos_CM = run_model(s, t_max = 20000*R_S/c, dt = 1*R_S/c, EIH=True, GR=False, DL=False)\n",
    "pos1, pos2, pos_CM = run_model(s, t_max = 17500*R_S/c, dt = 1*R_S/c, EIH = True)\n",
    "\n",
    "# orbPlotter(pos1, pos2, pos_CM, CM=True, figsize=(10,10))\n",
    "lims = np.array([-2e6, 2.5e6])\n",
    "orbPlotter_lims(pos1, pos2, pos_CM, xlim=lims, ylim=lims, CM=True, filename='Newton limit scattering 1')\n",
    "\n",
    "# 1.7s"
   ]
  },
  {
   "cell_type": "code",
   "execution_count": null,
   "metadata": {},
   "outputs": [],
   "source": [
    "m_1 = 0.003*M_sun\n",
    "m_2 = 1*M_sun\n",
    "\n",
    "R_S = 2*(m_1 + m_2)*G/c**2\n",
    "\n",
    "x_1 = np.array([-3e6, -0.5e6])\n",
    "x_2 = np.array([0.,        0])\n",
    "v_1 = np.array([0.05,       0])*c\n",
    "v_2 = np.array([0.,        0])*c\n",
    "s = x_1, x_2, v_1, v_2, m_1, m_2\n",
    "\n",
    "pos1, pos2, pos_CM = run_model(s, t_max = 25000*R_S/c, dt = 3*R_S/c, EIH = True)\n",
    "\n",
    "# orbPlotter(pos1, pos2, pos_CM, CM=True, figsize=(10,10))\n",
    "lims = np.array([-2e6, 2e6])\n",
    "orbPlotter_lims(pos1, pos2, pos_CM, xlim=lims, ylim=lims, CM=True, filename='Newton limit scattering 2')\n",
    "\n",
    "# 1.2s"
   ]
  },
  {
   "cell_type": "markdown",
   "metadata": {},
   "source": [
    "___\n",
    "DatF scattering case"
   ]
  },
  {
   "cell_type": "code",
   "execution_count": null,
   "metadata": {},
   "outputs": [],
   "source": [
    "s3 = [0,10,0.2,-0.25]\n",
    "\n",
    "m_1 = M_sun\n",
    "m_2 = 1e20*M_sun\n",
    "\n",
    "R_S = 2*(m_1 + m_2)*G/c**2\n",
    "\n",
    "x_1 = np.array([10.,    0.])*R_S\n",
    "x_2 = np.array([0.,      0])*R_S\n",
    "v_1 = np.array([-0.25, 0.2])*c\n",
    "v_2 = np.array([0.,      0])*c\n",
    "s = x_1, x_2, v_1, v_2, m_1, m_2\n",
    "\n",
    "# pos1, pos2, pos_CM = run_model(s, t_max = 20000*R_S/c, dt = 1*R_S/c, EIH=True, GR=False, DL=False)\n",
    "pos1, pos2, pos_CM = run_model(s, t_max = 100*R_S/c, dt = 0.01*R_S/c, DatF = True)\n",
    "orbPlotter(pos1, pos2, pos_CM, CM=True, filename='Newton limit DatF scattering case (DatF)')\n",
    "\n",
    "pos1, pos2, pos_CM = run_model(s, t_max = 100*R_S/c, dt = 0.01*R_S/c, EIH = True)\n",
    "orbPlotter(pos1, pos2, pos_CM, CM=True, filename='Newton limit DatF scattering case (EIH)')\n",
    "# lims = np.array([-2e6, 2.5e6])\n",
    "# orbPlotter_lims(pos1, pos2, pos_CM, xlim=lims, ylim=lims, CM=True, filename='Newton limit scattering 1')\n",
    "\n",
    "# dt STABILIZED\n",
    "# ~3s"
   ]
  },
  {
   "cell_type": "markdown",
   "metadata": {},
   "source": [
    "# BLACK HOLE REGIME CHECK $\\quad m \\sim 10M_\\mathrm{sun}$"
   ]
  },
  {
   "cell_type": "code",
   "execution_count": null,
   "metadata": {},
   "outputs": [],
   "source": [
    "%run ./Orbital_Functions.ipynb\n",
    "c = const.c.value\n",
    "G = const.G.value\n",
    "M_sun = const.M_sun.value"
   ]
  },
  {
   "cell_type": "markdown",
   "metadata": {},
   "source": [
    "## SYMMETRY TEST"
   ]
  },
  {
   "cell_type": "code",
   "execution_count": null,
   "metadata": {},
   "outputs": [],
   "source": [
    "%run ./Orbital_Functions.ipynb\n",
    "\n",
    "m_1 = M_sun*5\n",
    "m_2 = M_sun*5\n",
    "\n",
    "x_1 = np.array([1e9,  0.0])\n",
    "x_2 = np.array([0.0,  0.0])\n",
    "v_1 = np.array([0.0,  3e5])\n",
    "v_2 = np.array([0.0, -2e5])\n",
    "\n",
    "s = x_1, x_2, v_1, v_2, m_1, m_2\n",
    "\n",
    "# pos1, pos2, posCM = run_model(s, t_max = 5e3, dt=0.01, EIH = True)\n",
    "pos1, pos2, posCM = run_model(s, t_max = 5e3, dt=1, EIH = True)\n",
    "orbPlotter(pos1, pos2, posCM, CM = True, filename='Black hole symmetry test', figsize=(9,9))\n",
    "\n",
    "# ~2s"
   ]
  },
  {
   "cell_type": "markdown",
   "metadata": {},
   "source": [
    "## BOUND CASE"
   ]
  },
  {
   "cell_type": "code",
   "execution_count": null,
   "metadata": {},
   "outputs": [],
   "source": [
    "m_1 = 3*M_sun\n",
    "m_2 = 10*M_sun\n",
    "\n",
    "R_S = 2*(m_1 + m_2)*G/c**2\n",
    "\n",
    "x_1 = np.array([1000.,  0.])*R_S\n",
    "x_2 = np.array([-1000., 0.])*R_S\n",
    "v_1 = np.array([0,   0.01])*c\n",
    "v_2 = np.array([0.,  0.02])*c\n",
    "\n",
    "\n",
    "s = x_1, x_2, v_1, v_2, m_1, m_2\n",
    "\n",
    "# pos1, pos2, pos_CM = run_model(s, t_max = 20000*R_S/c, dt = 1*R_S/c, EIH=True, GR=False, DL=False)\n",
    "pos1, pos2, pos_CM = run_model(s, t_max = 10000000*R_S/c, dt = 10*R_S/c, EIH = True)\n",
    "\n",
    "orbPlotter(pos1, pos2, pos_CM, CM=True, filename='Black hole bound case 1', figsize=(9,9))\n",
    "# lims = (-2e7, 2e7)\n",
    "# orbPlotter_lims(pos1, pos2, pos_CM, xlim=lims, ylim=lims, CM=True, filename='Black hole bound case 1', figsize=(9,9))\n",
    "\n",
    "# 1m 22.1s"
   ]
  },
  {
   "cell_type": "markdown",
   "metadata": {},
   "source": [
    "# BLACK HOLE SCATTERING"
   ]
  },
  {
   "cell_type": "code",
   "execution_count": null,
   "metadata": {},
   "outputs": [],
   "source": [
    "m_1 = 8*M_sun\n",
    "m_2 = 10*M_sun\n",
    "\n",
    "R_S = 2*(m_1 + m_2)*G/c**2\n",
    "\n",
    "x_1 = np.array([-5e2,  0.])*R_S\n",
    "x_2 = np.array([0.,  100.])*R_S\n",
    "v_1 = np.array([0.1,   0])*c\n",
    "v_2 = np.array([0.,     0])*c\n",
    "\n",
    "\n",
    "s = x_1, x_2, v_1, v_2, m_1, m_2\n",
    "\n",
    "# pos1, pos2, pos_CM = run_model(s, t_max = 20000*R_S/c, dt = 1*R_S/c, EIH=True, GR=False, DL=False)\n",
    "pos1, pos2, pos_CM = run_model(s, t_max = 20000*R_S/c, dt = 1*R_S/c, EIH = True)\n",
    "\n",
    "# orbPlotter(pos1, pos2, pos_CM, CM=True)\n",
    "lims = (-2e7, 2e7)\n",
    "orbPlotter_lims(pos1, pos2, pos_CM, xlim=lims, ylim=lims, CM=True, filename='Black hole scattering 1', figsize=(8,8))\n",
    "\n",
    "# 1.9s"
   ]
  },
  {
   "cell_type": "markdown",
   "metadata": {},
   "source": [
    "## BLACK HOLE VERY $dt$ DEPENDENT"
   ]
  },
  {
   "cell_type": "code",
   "execution_count": null,
   "metadata": {},
   "outputs": [],
   "source": [
    "m_1 = 8*M_sun\n",
    "m_2 = 10*M_sun\n",
    "\n",
    "R_S = 2*(m_1 + m_2)*G/c**2\n",
    "\n",
    "x_1 = np.array([-2e3,  0.])*R_S\n",
    "x_2 = np.array([0.,  100.])*R_S\n",
    "v_1 = np.array([0.02,   0])*c\n",
    "v_2 = np.array([0.,     0])*c\n",
    "\n",
    "\n",
    "s = x_1, x_2, v_1, v_2, m_1, m_2\n",
    "\n",
    "pos1, pos2, pos_CM = run_model(s, t_max = 100000*R_S/c, dt = 1*R_S/c, EIH = True)\n",
    "\n",
    "# orbPlotter(pos1, pos2, pos_CM, CM=True)\n",
    "limss = np.array([(-1e8, 1e8), (-1e7, 1e7), (-1e6, 1e6)])\n",
    "for i in limss:\n",
    "    orbPlotter_lims(pos1, pos2, pos_CM, xlim=i, ylim=i, CM=True)\n",
    "\n",
    "# 9.2s"
   ]
  }
 ],
 "metadata": {
  "interpreter": {
   "hash": "9338cd5af4bc6d3c14ff7a6ce3afd855cbcd1d70444c4e040559c03ace283bd5"
  },
  "kernelspec": {
   "display_name": "Python 3.9.7 ('base')",
   "language": "python",
   "name": "python3"
  },
  "language_info": {
   "codemirror_mode": {
    "name": "ipython",
    "version": 3
   },
   "file_extension": ".py",
   "mimetype": "text/x-python",
   "name": "python",
   "nbconvert_exporter": "python",
   "pygments_lexer": "ipython3",
   "version": "3.9.7"
  },
  "orig_nbformat": 4
 },
 "nbformat": 4,
 "nbformat_minor": 2
}
